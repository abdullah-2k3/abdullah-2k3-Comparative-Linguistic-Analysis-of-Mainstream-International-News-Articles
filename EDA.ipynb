{
 "cells": [
  {
   "cell_type": "markdown",
   "metadata": {},
   "source": [
    "### Load the dataset\n",
    "### Display basic information and preview of the data\n"
   ]
  },
  {
   "cell_type": "code",
   "execution_count": null,
   "metadata": {},
   "outputs": [
    {
     "name": "stdout",
     "output_type": "stream",
     "text": [
      "Dataset Info:\n",
      "<class 'pandas.core.frame.DataFrame'>\n",
      "RangeIndex: 5013 entries, 0 to 5012\n",
      "Data columns (total 12 columns):\n",
      " #   Column             Non-Null Count  Dtype \n",
      "---  ------             --------------  ----- \n",
      " 0   Source             5013 non-null   object\n",
      " 1   Link               5013 non-null   object\n",
      " 2   Headline           5013 non-null   object\n",
      " 3   Description        5013 non-null   object\n",
      " 4   Timestamp          5013 non-null   object\n",
      " 5   Date               5013 non-null   object\n",
      " 6   Topic              5013 non-null   object\n",
      " 7   Author             5013 non-null   object\n",
      " 8   Region             5013 non-null   object\n",
      " 9   Article_Content    5013 non-null   object\n",
      " 10  Processed_Content  5013 non-null   object\n",
      " 11  Sentiment_Bias     5013 non-null   object\n",
      "dtypes: object(12)\n",
      "memory usage: 470.1+ KB\n",
      "None\n"
     ]
    }
   ],
   "source": [
    "import pandas as pd\n",
    "import numpy as np\n",
    "import re\n",
    "\n",
    "df = pd.read_csv(\"Dataset.csv\")\n",
    "\n",
    "print(\"Dataset Info:\")\n",
    "print(df.info())\n"
   ]
  },
  {
   "cell_type": "code",
   "execution_count": 4,
   "metadata": {},
   "outputs": [
    {
     "name": "stdout",
     "output_type": "stream",
     "text": [
      "\n",
      "Dataset Head:\n"
     ]
    },
    {
     "data": {
      "text/html": [
       "<div>\n",
       "<style scoped>\n",
       "    .dataframe tbody tr th:only-of-type {\n",
       "        vertical-align: middle;\n",
       "    }\n",
       "\n",
       "    .dataframe tbody tr th {\n",
       "        vertical-align: top;\n",
       "    }\n",
       "\n",
       "    .dataframe thead th {\n",
       "        text-align: right;\n",
       "    }\n",
       "</style>\n",
       "<table border=\"1\" class=\"dataframe\">\n",
       "  <thead>\n",
       "    <tr style=\"text-align: right;\">\n",
       "      <th></th>\n",
       "      <th>Source</th>\n",
       "      <th>Link</th>\n",
       "      <th>Headline</th>\n",
       "      <th>Description</th>\n",
       "      <th>Timestamp</th>\n",
       "      <th>Date</th>\n",
       "      <th>Topic</th>\n",
       "      <th>Author</th>\n",
       "      <th>Region</th>\n",
       "      <th>Article_Content</th>\n",
       "      <th>Processed_Content</th>\n",
       "      <th>Sentiment_Bias</th>\n",
       "    </tr>\n",
       "  </thead>\n",
       "  <tbody>\n",
       "    <tr>\n",
       "      <th>0</th>\n",
       "      <td>Al Jazeera</td>\n",
       "      <td>https://www.aljazeera.com/tag/israel-palestine...</td>\n",
       "      <td>Israel-Palestine conflict | Today's latest fro...</td>\n",
       "      <td>How Israel destroyed Gaza · 'The birds are wit...</td>\n",
       "      <td>3 Oct 2024</td>\n",
       "      <td>2024-10-14</td>\n",
       "      <td>Israel War</td>\n",
       "      <td>AlJazeera</td>\n",
       "      <td>Middle East</td>\n",
       "      <td>‘Self-defence’ has vastly different meanings f...</td>\n",
       "      <td>['selfdefence', 'vastly', 'different', 'meanin...</td>\n",
       "      <td>Highly Negative</td>\n",
       "    </tr>\n",
       "    <tr>\n",
       "      <th>1</th>\n",
       "      <td>Al Jazeera</td>\n",
       "      <td>https://www.aljazeera.com/tag/gaza/</td>\n",
       "      <td>Gaza | Today's latest from Al Jazeera</td>\n",
       "      <td>... Israeli. Nicaragua breaks diplomatic ties ...</td>\n",
       "      <td>12 Oct 2024</td>\n",
       "      <td>2024-10-14</td>\n",
       "      <td>Israel War</td>\n",
       "      <td>AlJazeera</td>\n",
       "      <td>Middle East</td>\n",
       "      <td>‘Self-defence’ has vastly different meanings f...</td>\n",
       "      <td>['selfdefence', 'vastly', 'different', 'meanin...</td>\n",
       "      <td>Highly Negative</td>\n",
       "    </tr>\n",
       "    <tr>\n",
       "      <th>2</th>\n",
       "      <td>Al Jazeera</td>\n",
       "      <td>https://www.aljazeera.com/news/2023/9/28/turki...</td>\n",
       "      <td>Turkish neutrality: How Erdogan manages ties w...</td>\n",
       "      <td>Sep 28, 2023 ... But Erdogan's stance does hel...</td>\n",
       "      <td>Last update 28 Sep 2023</td>\n",
       "      <td>2024-10-14</td>\n",
       "      <td>Ukraine War</td>\n",
       "      <td>AlJazeera</td>\n",
       "      <td>Ukraine</td>\n",
       "      <td>‘The West is reliable, Russia is equally relia...</td>\n",
       "      <td>['west', 'reliable', 'russia', 'equally', 'rel...</td>\n",
       "      <td>Neutral</td>\n",
       "    </tr>\n",
       "    <tr>\n",
       "      <th>3</th>\n",
       "      <td>Al Jazeera</td>\n",
       "      <td>https://www.aljazeera.com/features/2016/11/8/u...</td>\n",
       "      <td>US elections in Nigeria: 'The best reality TV ...</td>\n",
       "      <td>Nov 8, 2016 ... Efeoghene Ori-Jesu, 34, is wat...</td>\n",
       "      <td>Last update 8 Nov 2016</td>\n",
       "      <td>2024-10-15</td>\n",
       "      <td>US Presidential Elections</td>\n",
       "      <td>AlJazeera</td>\n",
       "      <td>USA</td>\n",
       "      <td>“I’m excited at the possibility of a first fem...</td>\n",
       "      <td>['im', 'excited', 'possibility', 'first', 'fem...</td>\n",
       "      <td>Highly Positive</td>\n",
       "    </tr>\n",
       "    <tr>\n",
       "      <th>4</th>\n",
       "      <td>Al Jazeera</td>\n",
       "      <td>https://www.aljazeera.com/news/liveblog/2024/9...</td>\n",
       "      <td>Israel's war on Gaza updates: New blasts in Le...</td>\n",
       "      <td>Sep 18, 2024 ... A day after simultaneous blas...</td>\n",
       "      <td>Last update 19 Sep 2024</td>\n",
       "      <td>2024-10-14</td>\n",
       "      <td>Israel War</td>\n",
       "      <td>AlJazeera</td>\n",
       "      <td>Middle East</td>\n",
       "      <td>A day after simultaneous blasts across Lebanon...</td>\n",
       "      <td>['day', 'simultaneous', 'blast', 'across', 'le...</td>\n",
       "      <td>Highly Negative</td>\n",
       "    </tr>\n",
       "  </tbody>\n",
       "</table>\n",
       "</div>"
      ],
      "text/plain": [
       "       Source                                               Link  \\\n",
       "0  Al Jazeera  https://www.aljazeera.com/tag/israel-palestine...   \n",
       "1  Al Jazeera                https://www.aljazeera.com/tag/gaza/   \n",
       "2  Al Jazeera  https://www.aljazeera.com/news/2023/9/28/turki...   \n",
       "3  Al Jazeera  https://www.aljazeera.com/features/2016/11/8/u...   \n",
       "4  Al Jazeera  https://www.aljazeera.com/news/liveblog/2024/9...   \n",
       "\n",
       "                                            Headline  \\\n",
       "0  Israel-Palestine conflict | Today's latest fro...   \n",
       "1              Gaza | Today's latest from Al Jazeera   \n",
       "2  Turkish neutrality: How Erdogan manages ties w...   \n",
       "3  US elections in Nigeria: 'The best reality TV ...   \n",
       "4  Israel's war on Gaza updates: New blasts in Le...   \n",
       "\n",
       "                                         Description                Timestamp  \\\n",
       "0  How Israel destroyed Gaza · 'The birds are wit...               3 Oct 2024   \n",
       "1  ... Israeli. Nicaragua breaks diplomatic ties ...              12 Oct 2024   \n",
       "2  Sep 28, 2023 ... But Erdogan's stance does hel...  Last update 28 Sep 2023   \n",
       "3  Nov 8, 2016 ... Efeoghene Ori-Jesu, 34, is wat...   Last update 8 Nov 2016   \n",
       "4  Sep 18, 2024 ... A day after simultaneous blas...  Last update 19 Sep 2024   \n",
       "\n",
       "         Date                      Topic     Author       Region  \\\n",
       "0  2024-10-14                 Israel War  AlJazeera  Middle East   \n",
       "1  2024-10-14                 Israel War  AlJazeera  Middle East   \n",
       "2  2024-10-14                Ukraine War  AlJazeera      Ukraine   \n",
       "3  2024-10-15  US Presidential Elections  AlJazeera          USA   \n",
       "4  2024-10-14                 Israel War  AlJazeera  Middle East   \n",
       "\n",
       "                                     Article_Content  \\\n",
       "0  ‘Self-defence’ has vastly different meanings f...   \n",
       "1  ‘Self-defence’ has vastly different meanings f...   \n",
       "2  ‘The West is reliable, Russia is equally relia...   \n",
       "3  “I’m excited at the possibility of a first fem...   \n",
       "4  A day after simultaneous blasts across Lebanon...   \n",
       "\n",
       "                                   Processed_Content   Sentiment_Bias  \n",
       "0  ['selfdefence', 'vastly', 'different', 'meanin...  Highly Negative  \n",
       "1  ['selfdefence', 'vastly', 'different', 'meanin...  Highly Negative  \n",
       "2  ['west', 'reliable', 'russia', 'equally', 'rel...          Neutral  \n",
       "3  ['im', 'excited', 'possibility', 'first', 'fem...  Highly Positive  \n",
       "4  ['day', 'simultaneous', 'blast', 'across', 'le...  Highly Negative  "
      ]
     },
     "execution_count": 4,
     "metadata": {},
     "output_type": "execute_result"
    }
   ],
   "source": [
    "print(\"\\nDataset Head:\")\n",
    "df.head()\n"
   ]
  },
  {
   "cell_type": "code",
   "execution_count": 5,
   "metadata": {},
   "outputs": [
    {
     "name": "stdout",
     "output_type": "stream",
     "text": [
      "\n",
      "Column Names:\n",
      "Index(['Source', 'Link', 'Headline', 'Description', 'Timestamp', 'Date',\n",
      "       'Topic', 'Author', 'Region', 'Article_Content', 'Processed_Content',\n",
      "       'Sentiment_Bias'],\n",
      "      dtype='object')\n"
     ]
    }
   ],
   "source": [
    "print(\"\\nColumn Names:\")\n",
    "print(df.columns)\n"
   ]
  },
  {
   "cell_type": "markdown",
   "metadata": {},
   "source": [
    "Remove nulls vand duplicates"
   ]
  },
  {
   "cell_type": "code",
   "execution_count": 8,
   "metadata": {},
   "outputs": [],
   "source": [
    "\n",
    "df = df.dropna(thresh=len(df.columns)-3)\n",
    "\n",
    "df = df.drop_duplicates()\n"
   ]
  },
  {
   "cell_type": "markdown",
   "metadata": {},
   "source": [
    "\n",
    "### Check for missing values in the dataset"
   ]
  },
  {
   "cell_type": "code",
   "execution_count": 9,
   "metadata": {},
   "outputs": [
    {
     "name": "stdout",
     "output_type": "stream",
     "text": [
      "\n",
      "Missing Values per Column:\n",
      "Source               0\n",
      "Link                 0\n",
      "Headline             0\n",
      "Description          0\n",
      "Timestamp            0\n",
      "Date                 0\n",
      "Topic                0\n",
      "Author               0\n",
      "Region               0\n",
      "Article_Content      0\n",
      "Processed_Content    0\n",
      "Sentiment_Bias       0\n",
      "dtype: int64\n"
     ]
    }
   ],
   "source": [
    "\n",
    "print(\"\\nMissing Values per Column:\")\n",
    "print(df.isnull().sum())\n"
   ]
  },
  {
   "cell_type": "markdown",
   "metadata": {},
   "source": [
    "Clean article contents by removing special characters and unnecessary spaces\n"
   ]
  },
  {
   "cell_type": "code",
   "execution_count": null,
   "metadata": {},
   "outputs": [],
   "source": [
    "\n",
    "def clean_article_text(article):\n",
    "    cleaned_article = re.sub(r'\\W', ' ', str(article))  # Remove non-word characters\n",
    "    cleaned_article = re.sub(r'\\s+', ' ', cleaned_article)  # Replace multiple spaces with a single space\n",
    "    cleaned_article = cleaned_article.strip()  # Remove leading/trailing spaces\n",
    "    return cleaned_article\n",
    "\n",
    "df['Article_Content'] = df['Article_Content'].apply(clean_article_text)\n",
    "\n"
   ]
  },
  {
   "cell_type": "markdown",
   "metadata": {},
   "source": [
    " Verify the cleaning of article content"
   ]
  },
  {
   "cell_type": "code",
   "execution_count": 13,
   "metadata": {},
   "outputs": [
    {
     "name": "stdout",
     "output_type": "stream",
     "text": [
      "\n",
      "Cleaned Article Content Preview:\n",
      "0     ‘Self-defence’ has vastly different meanings f...\n",
      "1     ‘Self-defence’ has vastly different meanings f...\n",
      "2     ‘The West is reliable, Russia is equally relia...\n",
      "3     “I’m excited at the possibility of a first fem...\n",
      "4     A day after simultaneous blasts across Lebanon...\n",
      "5     A dozen Palestinians killed in Israeli militar...\n",
      "6     A German research institute is tracking the fu...\n",
      "7     A look at the devastating toll Israel’s war on...\n",
      "8     A Reuters investigation found that the Biden a...\n",
      "9     A school sheltering displaced Palestinians in ...\n",
      "10    About 100 women train to target Russian weapon...\n",
      "11    About 4 million live in two pro-Russia statele...\n",
      "12    Advocates say early voting makes elections mor...\n",
      "13    After Uzbekistan’s unexpected pro-Ukraine stat...\n",
      "14    Al Jazeera’s defence editor on why Russia’s ar...\n",
      "15    Alarm is spreading among observers who fear th...\n",
      "16    Although cooperating with Russia since the sta...\n",
      "17    America’s framers deliberately designed it so ...\n",
      "18    An already unprecedented race has again been t...\n",
      "19    Another senseless war started by a superpower ...\n",
      "20    Applying a military ‘solution’ to what are pol...\n",
      "21    Arab voters have expressed frustration with Vi...\n",
      "22    Army says arms depot attack aimed at creating ...\n",
      "23    As canvassing gets under way, Wisconsin’s Repu...\n",
      "24    As Israel bombarded Gaza for the third night, ...\n",
      "25    As Israel wages war on Lebanon, it is deployin...\n",
      "26    As November vote nears, here are the key issue...\n",
      "27    As the Russia-Ukraine war enters its 154th day...\n",
      "28    As the Russia-Ukraine war enters its 272nd day...\n",
      "29    As the Russia-Ukraine war enters its 309th day...\n",
      "30    As the Russia-Ukraine war enters its 390th day...\n",
      "31    As the Russian offensive enters its 138th week...\n",
      "32    As the war enters its 467th day, here’s a look...\n",
      "33    As the war enters its 600th day, these are the...\n",
      "34    As the war enters its 795th day, these are the...\n",
      "35    As the war enters its 879th day, these are the...\n",
      "36    As the war enters its 906th day, these are the...\n",
      "37    As the war enters its 910th day, these are the...\n",
      "38    As the war enters its 921st day, these are the...\n",
      "39    As the war enters its 922nd day, these are the...\n",
      "40    As the war enters its 925th day, these are the...\n",
      "41    As the war enters its 926th day, these are the...\n",
      "42    As the war enters its 933rd day, these are the...\n",
      "43    As the war enters its 934th day, these are the...\n",
      "44    As the war enters its 935th day, these are the...\n",
      "45    As the war enters its 936th day, these are the...\n",
      "46    As the war enters its 938th day, these are the...\n",
      "47    As the war enters its 939th day, these are the...\n",
      "48    As the war enters its 940th day, these are the...\n",
      "49    As the war enters its 941st day, these are the...\n",
      "Name: Article_Content, dtype: object\n"
     ]
    }
   ],
   "source": [
    "\n",
    "print(\"\\nCleaned Article Content Preview:\")\n",
    "print(df['Article_Content'].head(50))\n",
    "\n"
   ]
  }
 ],
 "metadata": {
  "kernelspec": {
   "display_name": "Python 3",
   "language": "python",
   "name": "python3"
  },
  "language_info": {
   "codemirror_mode": {
    "name": "ipython",
    "version": 3
   },
   "file_extension": ".py",
   "mimetype": "text/x-python",
   "name": "python",
   "nbconvert_exporter": "python",
   "pygments_lexer": "ipython3",
   "version": "3.11.5"
  }
 },
 "nbformat": 4,
 "nbformat_minor": 2
}
