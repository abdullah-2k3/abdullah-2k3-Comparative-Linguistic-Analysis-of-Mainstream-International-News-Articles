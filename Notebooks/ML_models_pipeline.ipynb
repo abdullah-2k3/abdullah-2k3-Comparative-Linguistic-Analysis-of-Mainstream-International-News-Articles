{
 "cells": [
  {
   "cell_type": "code",
   "execution_count": 2,
   "metadata": {},
   "outputs": [
    {
     "data": {
      "text/html": [
       "<div>\n",
       "<style scoped>\n",
       "    .dataframe tbody tr th:only-of-type {\n",
       "        vertical-align: middle;\n",
       "    }\n",
       "\n",
       "    .dataframe tbody tr th {\n",
       "        vertical-align: top;\n",
       "    }\n",
       "\n",
       "    .dataframe thead th {\n",
       "        text-align: right;\n",
       "    }\n",
       "</style>\n",
       "<table border=\"1\" class=\"dataframe\">\n",
       "  <thead>\n",
       "    <tr style=\"text-align: right;\">\n",
       "      <th></th>\n",
       "      <th>Source</th>\n",
       "      <th>Link</th>\n",
       "      <th>Headline</th>\n",
       "      <th>Description</th>\n",
       "      <th>Timestamp</th>\n",
       "      <th>Date</th>\n",
       "      <th>Topic</th>\n",
       "      <th>Author</th>\n",
       "      <th>Region</th>\n",
       "      <th>Article_Content</th>\n",
       "      <th>Sentiment_Bias</th>\n",
       "      <th>Keywords</th>\n",
       "    </tr>\n",
       "  </thead>\n",
       "  <tbody>\n",
       "    <tr>\n",
       "      <th>0</th>\n",
       "      <td>Al Jazeera</td>\n",
       "      <td>https://www.aljazeera.com/tag/israel-palestine...</td>\n",
       "      <td>Israel-Palestine conflict | Today's latest fro...</td>\n",
       "      <td>How Israel destroyed Gaza · 'The birds are wit...</td>\n",
       "      <td>3 Oct 2024</td>\n",
       "      <td>2024-10-14</td>\n",
       "      <td>Israel War</td>\n",
       "      <td>AlJazeera</td>\n",
       "      <td>Middle East</td>\n",
       "      <td>‘Self-defence’ has vastly different meanings f...</td>\n",
       "      <td>Negative</td>\n",
       "      <td>['genocide', 'killing', 'canadians', 'killed',...</td>\n",
       "    </tr>\n",
       "    <tr>\n",
       "      <th>1</th>\n",
       "      <td>Al Jazeera</td>\n",
       "      <td>https://www.aljazeera.com/tag/gaza/</td>\n",
       "      <td>Gaza | Today's latest from Al Jazeera</td>\n",
       "      <td>... Israeli. Nicaragua breaks diplomatic ties ...</td>\n",
       "      <td>12 Oct 2024</td>\n",
       "      <td>2024-10-14</td>\n",
       "      <td>Israel War</td>\n",
       "      <td>AlJazeera</td>\n",
       "      <td>Middle East</td>\n",
       "      <td>‘Self-defence’ has vastly different meanings f...</td>\n",
       "      <td>Negative</td>\n",
       "      <td>['killed', 'siege', 'bomb', 'attack', 'injured...</td>\n",
       "    </tr>\n",
       "    <tr>\n",
       "      <th>2</th>\n",
       "      <td>Al Jazeera</td>\n",
       "      <td>https://www.aljazeera.com/news/2023/9/28/turki...</td>\n",
       "      <td>Turkish neutrality: How Erdogan manages ties w...</td>\n",
       "      <td>Sep 28, 2023 ... But Erdogan's stance does hel...</td>\n",
       "      <td>Last update 28 Sep 2023</td>\n",
       "      <td>2024-10-14</td>\n",
       "      <td>Ukraine War</td>\n",
       "      <td>AlJazeera</td>\n",
       "      <td>Ukraine</td>\n",
       "      <td>‘The West is reliable, Russia is equally relia...</td>\n",
       "      <td>Neutral</td>\n",
       "      <td>['putin', '1850s', 'russian', 'pbs', 'russia',...</td>\n",
       "    </tr>\n",
       "    <tr>\n",
       "      <th>3</th>\n",
       "      <td>Al Jazeera</td>\n",
       "      <td>https://www.aljazeera.com/features/2016/11/8/u...</td>\n",
       "      <td>US elections in Nigeria: 'The best reality TV ...</td>\n",
       "      <td>Nov 8, 2016 ... Efeoghene Ori-Jesu, 34, is wat...</td>\n",
       "      <td>Last update 8 Nov 2016</td>\n",
       "      <td>2024-10-15</td>\n",
       "      <td>US Presidential Elections</td>\n",
       "      <td>AlJazeera</td>\n",
       "      <td>USA</td>\n",
       "      <td>“I’m excited at the possibility of a first fem...</td>\n",
       "      <td>Positive</td>\n",
       "      <td>['president', 'trump', 'americans', 'clinton',...</td>\n",
       "    </tr>\n",
       "    <tr>\n",
       "      <th>4</th>\n",
       "      <td>Al Jazeera</td>\n",
       "      <td>https://www.aljazeera.com/news/liveblog/2024/9...</td>\n",
       "      <td>Israel's war on Gaza updates: New blasts in Le...</td>\n",
       "      <td>Sep 18, 2024 ... A day after simultaneous blas...</td>\n",
       "      <td>Last update 19 Sep 2024</td>\n",
       "      <td>2024-10-14</td>\n",
       "      <td>Israel War</td>\n",
       "      <td>AlJazeera</td>\n",
       "      <td>Middle East</td>\n",
       "      <td>A day after simultaneous blasts across Lebanon...</td>\n",
       "      <td>Negative</td>\n",
       "      <td>['killed', 'explosions', 'wounded', 'blasts', ...</td>\n",
       "    </tr>\n",
       "  </tbody>\n",
       "</table>\n",
       "</div>"
      ],
      "text/plain": [
       "       Source                                               Link  \\\n",
       "0  Al Jazeera  https://www.aljazeera.com/tag/israel-palestine...   \n",
       "1  Al Jazeera                https://www.aljazeera.com/tag/gaza/   \n",
       "2  Al Jazeera  https://www.aljazeera.com/news/2023/9/28/turki...   \n",
       "3  Al Jazeera  https://www.aljazeera.com/features/2016/11/8/u...   \n",
       "4  Al Jazeera  https://www.aljazeera.com/news/liveblog/2024/9...   \n",
       "\n",
       "                                            Headline  \\\n",
       "0  Israel-Palestine conflict | Today's latest fro...   \n",
       "1              Gaza | Today's latest from Al Jazeera   \n",
       "2  Turkish neutrality: How Erdogan manages ties w...   \n",
       "3  US elections in Nigeria: 'The best reality TV ...   \n",
       "4  Israel's war on Gaza updates: New blasts in Le...   \n",
       "\n",
       "                                         Description                Timestamp  \\\n",
       "0  How Israel destroyed Gaza · 'The birds are wit...               3 Oct 2024   \n",
       "1  ... Israeli. Nicaragua breaks diplomatic ties ...              12 Oct 2024   \n",
       "2  Sep 28, 2023 ... But Erdogan's stance does hel...  Last update 28 Sep 2023   \n",
       "3  Nov 8, 2016 ... Efeoghene Ori-Jesu, 34, is wat...   Last update 8 Nov 2016   \n",
       "4  Sep 18, 2024 ... A day after simultaneous blas...  Last update 19 Sep 2024   \n",
       "\n",
       "         Date                      Topic     Author       Region  \\\n",
       "0  2024-10-14                 Israel War  AlJazeera  Middle East   \n",
       "1  2024-10-14                 Israel War  AlJazeera  Middle East   \n",
       "2  2024-10-14                Ukraine War  AlJazeera      Ukraine   \n",
       "3  2024-10-15  US Presidential Elections  AlJazeera          USA   \n",
       "4  2024-10-14                 Israel War  AlJazeera  Middle East   \n",
       "\n",
       "                                     Article_Content Sentiment_Bias  \\\n",
       "0  ‘Self-defence’ has vastly different meanings f...       Negative   \n",
       "1  ‘Self-defence’ has vastly different meanings f...       Negative   \n",
       "2  ‘The West is reliable, Russia is equally relia...        Neutral   \n",
       "3  “I’m excited at the possibility of a first fem...       Positive   \n",
       "4  A day after simultaneous blasts across Lebanon...       Negative   \n",
       "\n",
       "                                            Keywords  \n",
       "0  ['genocide', 'killing', 'canadians', 'killed',...  \n",
       "1  ['killed', 'siege', 'bomb', 'attack', 'injured...  \n",
       "2  ['putin', '1850s', 'russian', 'pbs', 'russia',...  \n",
       "3  ['president', 'trump', 'americans', 'clinton',...  \n",
       "4  ['killed', 'explosions', 'wounded', 'blasts', ...  "
      ]
     },
     "execution_count": 2,
     "metadata": {},
     "output_type": "execute_result"
    }
   ],
   "source": [
    "import pandas as pd\n",
    "df=pd.read_csv(\"C:/Users/abdullah/Desktop/Data Visualization Project/Labeled_Dataset_with_Keywords.csv\")\n",
    "\n",
    "df.head()"
   ]
  },
  {
   "cell_type": "markdown",
   "metadata": {},
   "source": []
  },
  {
   "cell_type": "code",
   "execution_count": 4,
   "metadata": {},
   "outputs": [
    {
     "name": "stdout",
     "output_type": "stream",
     "text": [
      "Index(['Source', 'Link', 'Headline', 'Description', 'Timestamp', 'Date',\n",
      "       'Topic', 'Author', 'Region', 'Article_Content', 'Sentiment_Bias',\n",
      "       'Keywords'],\n",
      "      dtype='object')\n"
     ]
    }
   ],
   "source": [
    "columns=df.columns\n",
    "print(columns)"
   ]
  },
  {
   "cell_type": "code",
   "execution_count": 8,
   "metadata": {},
   "outputs": [
    {
     "name": "stdout",
     "output_type": "stream",
     "text": [
      "Naive BayesMB: Accuracy = 0.69\n",
      "Logistic Regression: Accuracy = 0.73\n",
      "Decision Tree: Accuracy = 0.64\n"
     ]
    }
   ],
   "source": [
    "from sklearn.model_selection import train_test_split\n",
    "from sklearn.feature_extraction.text import TfidfVectorizer\n",
    "from sklearn.naive_bayes import MultinomialNB,GaussianNB\n",
    "from sklearn.linear_model import LogisticRegression\n",
    "from sklearn.tree import DecisionTreeClassifier\n",
    "from sklearn.metrics import accuracy_score\n",
    "\n",
    "data=df\n",
    "X = data['Article_Content']\n",
    "y = data['Sentiment_Bias']\n",
    "\n",
    "vectorizer = TfidfVectorizer()\n",
    "X_vectorized = vectorizer.fit_transform(X)\n",
    "\n",
    "X_train, X_test, y_train, y_test = train_test_split(X_vectorized, y, test_size=0.2, random_state=42)\n",
    "\n",
    "models = {\n",
    "    \"Naive BayesMB\": MultinomialNB(),\n",
    "    #\"Naive BayesG\": GaussianNB(),\n",
    "    \"Logistic Regression\": LogisticRegression(max_iter=1000),\n",
    "    \"Decision Tree\": DecisionTreeClassifier()\n",
    "}\n",
    "\n",
    "accuracy_scores = {}\n",
    "for model_name, model in models.items():\n",
    "   \n",
    "   if model_name == \"Naive Bayes (GaussianNB)\":\n",
    "        # Convert sparse matrix to dense for GaussianNB\n",
    "        X_train_dense = X_train.toarray()\n",
    "        X_test_dense = X_test.toarray()\n",
    "        model.fit(X_train_dense, y_train)\n",
    "        y_pred = model.predict(X_test_dense)\n",
    "   else:\n",
    "        \n",
    "        model.fit(X_train, y_train)\n",
    "        y_pred = model.predict(X_test)\n",
    "    \n",
    "   accuracy = accuracy_score(y_test, y_pred)\n",
    "   accuracy_scores[model_name] = accuracy\n",
    "\n",
    "for model_name, accuracy in accuracy_scores.items():\n",
    "    print(f\"{model_name}: Accuracy = {accuracy:.2f}\")\n"
   ]
  },
  {
   "cell_type": "code",
   "execution_count": 5,
   "metadata": {},
   "outputs": [
    {
     "data": {
      "application/vnd.plotly.v1+json": {
       "config": {
        "plotlyServerURL": "https://plot.ly"
       },
       "data": [
        {
         "marker": {
          "color": [
           "#ffaaaa",
           "#aaffaa",
           "#aaaaff"
          ]
         },
         "text": [
          "69.0%",
          "73.0%",
          "64.0%"
         ],
         "textposition": "auto",
         "type": "bar",
         "x": [
          "Naive Bayes",
          "Logistic Regression",
          "Decision Tree"
         ],
         "y": [
          0.69,
          0.73,
          0.64
         ]
        }
       ],
       "layout": {
        "height": 500,
        "template": {
         "data": {
          "bar": [
           {
            "error_x": {
             "color": "#2a3f5f"
            },
            "error_y": {
             "color": "#2a3f5f"
            },
            "marker": {
             "line": {
              "color": "white",
              "width": 0.5
             },
             "pattern": {
              "fillmode": "overlay",
              "size": 10,
              "solidity": 0.2
             }
            },
            "type": "bar"
           }
          ],
          "barpolar": [
           {
            "marker": {
             "line": {
              "color": "white",
              "width": 0.5
             },
             "pattern": {
              "fillmode": "overlay",
              "size": 10,
              "solidity": 0.2
             }
            },
            "type": "barpolar"
           }
          ],
          "carpet": [
           {
            "aaxis": {
             "endlinecolor": "#2a3f5f",
             "gridcolor": "#C8D4E3",
             "linecolor": "#C8D4E3",
             "minorgridcolor": "#C8D4E3",
             "startlinecolor": "#2a3f5f"
            },
            "baxis": {
             "endlinecolor": "#2a3f5f",
             "gridcolor": "#C8D4E3",
             "linecolor": "#C8D4E3",
             "minorgridcolor": "#C8D4E3",
             "startlinecolor": "#2a3f5f"
            },
            "type": "carpet"
           }
          ],
          "choropleth": [
           {
            "colorbar": {
             "outlinewidth": 0,
             "ticks": ""
            },
            "type": "choropleth"
           }
          ],
          "contour": [
           {
            "colorbar": {
             "outlinewidth": 0,
             "ticks": ""
            },
            "colorscale": [
             [
              0,
              "#0d0887"
             ],
             [
              0.1111111111111111,
              "#46039f"
             ],
             [
              0.2222222222222222,
              "#7201a8"
             ],
             [
              0.3333333333333333,
              "#9c179e"
             ],
             [
              0.4444444444444444,
              "#bd3786"
             ],
             [
              0.5555555555555556,
              "#d8576b"
             ],
             [
              0.6666666666666666,
              "#ed7953"
             ],
             [
              0.7777777777777778,
              "#fb9f3a"
             ],
             [
              0.8888888888888888,
              "#fdca26"
             ],
             [
              1,
              "#f0f921"
             ]
            ],
            "type": "contour"
           }
          ],
          "contourcarpet": [
           {
            "colorbar": {
             "outlinewidth": 0,
             "ticks": ""
            },
            "type": "contourcarpet"
           }
          ],
          "heatmap": [
           {
            "colorbar": {
             "outlinewidth": 0,
             "ticks": ""
            },
            "colorscale": [
             [
              0,
              "#0d0887"
             ],
             [
              0.1111111111111111,
              "#46039f"
             ],
             [
              0.2222222222222222,
              "#7201a8"
             ],
             [
              0.3333333333333333,
              "#9c179e"
             ],
             [
              0.4444444444444444,
              "#bd3786"
             ],
             [
              0.5555555555555556,
              "#d8576b"
             ],
             [
              0.6666666666666666,
              "#ed7953"
             ],
             [
              0.7777777777777778,
              "#fb9f3a"
             ],
             [
              0.8888888888888888,
              "#fdca26"
             ],
             [
              1,
              "#f0f921"
             ]
            ],
            "type": "heatmap"
           }
          ],
          "heatmapgl": [
           {
            "colorbar": {
             "outlinewidth": 0,
             "ticks": ""
            },
            "colorscale": [
             [
              0,
              "#0d0887"
             ],
             [
              0.1111111111111111,
              "#46039f"
             ],
             [
              0.2222222222222222,
              "#7201a8"
             ],
             [
              0.3333333333333333,
              "#9c179e"
             ],
             [
              0.4444444444444444,
              "#bd3786"
             ],
             [
              0.5555555555555556,
              "#d8576b"
             ],
             [
              0.6666666666666666,
              "#ed7953"
             ],
             [
              0.7777777777777778,
              "#fb9f3a"
             ],
             [
              0.8888888888888888,
              "#fdca26"
             ],
             [
              1,
              "#f0f921"
             ]
            ],
            "type": "heatmapgl"
           }
          ],
          "histogram": [
           {
            "marker": {
             "pattern": {
              "fillmode": "overlay",
              "size": 10,
              "solidity": 0.2
             }
            },
            "type": "histogram"
           }
          ],
          "histogram2d": [
           {
            "colorbar": {
             "outlinewidth": 0,
             "ticks": ""
            },
            "colorscale": [
             [
              0,
              "#0d0887"
             ],
             [
              0.1111111111111111,
              "#46039f"
             ],
             [
              0.2222222222222222,
              "#7201a8"
             ],
             [
              0.3333333333333333,
              "#9c179e"
             ],
             [
              0.4444444444444444,
              "#bd3786"
             ],
             [
              0.5555555555555556,
              "#d8576b"
             ],
             [
              0.6666666666666666,
              "#ed7953"
             ],
             [
              0.7777777777777778,
              "#fb9f3a"
             ],
             [
              0.8888888888888888,
              "#fdca26"
             ],
             [
              1,
              "#f0f921"
             ]
            ],
            "type": "histogram2d"
           }
          ],
          "histogram2dcontour": [
           {
            "colorbar": {
             "outlinewidth": 0,
             "ticks": ""
            },
            "colorscale": [
             [
              0,
              "#0d0887"
             ],
             [
              0.1111111111111111,
              "#46039f"
             ],
             [
              0.2222222222222222,
              "#7201a8"
             ],
             [
              0.3333333333333333,
              "#9c179e"
             ],
             [
              0.4444444444444444,
              "#bd3786"
             ],
             [
              0.5555555555555556,
              "#d8576b"
             ],
             [
              0.6666666666666666,
              "#ed7953"
             ],
             [
              0.7777777777777778,
              "#fb9f3a"
             ],
             [
              0.8888888888888888,
              "#fdca26"
             ],
             [
              1,
              "#f0f921"
             ]
            ],
            "type": "histogram2dcontour"
           }
          ],
          "mesh3d": [
           {
            "colorbar": {
             "outlinewidth": 0,
             "ticks": ""
            },
            "type": "mesh3d"
           }
          ],
          "parcoords": [
           {
            "line": {
             "colorbar": {
              "outlinewidth": 0,
              "ticks": ""
             }
            },
            "type": "parcoords"
           }
          ],
          "pie": [
           {
            "automargin": true,
            "type": "pie"
           }
          ],
          "scatter": [
           {
            "fillpattern": {
             "fillmode": "overlay",
             "size": 10,
             "solidity": 0.2
            },
            "type": "scatter"
           }
          ],
          "scatter3d": [
           {
            "line": {
             "colorbar": {
              "outlinewidth": 0,
              "ticks": ""
             }
            },
            "marker": {
             "colorbar": {
              "outlinewidth": 0,
              "ticks": ""
             }
            },
            "type": "scatter3d"
           }
          ],
          "scattercarpet": [
           {
            "marker": {
             "colorbar": {
              "outlinewidth": 0,
              "ticks": ""
             }
            },
            "type": "scattercarpet"
           }
          ],
          "scattergeo": [
           {
            "marker": {
             "colorbar": {
              "outlinewidth": 0,
              "ticks": ""
             }
            },
            "type": "scattergeo"
           }
          ],
          "scattergl": [
           {
            "marker": {
             "colorbar": {
              "outlinewidth": 0,
              "ticks": ""
             }
            },
            "type": "scattergl"
           }
          ],
          "scattermapbox": [
           {
            "marker": {
             "colorbar": {
              "outlinewidth": 0,
              "ticks": ""
             }
            },
            "type": "scattermapbox"
           }
          ],
          "scatterpolar": [
           {
            "marker": {
             "colorbar": {
              "outlinewidth": 0,
              "ticks": ""
             }
            },
            "type": "scatterpolar"
           }
          ],
          "scatterpolargl": [
           {
            "marker": {
             "colorbar": {
              "outlinewidth": 0,
              "ticks": ""
             }
            },
            "type": "scatterpolargl"
           }
          ],
          "scatterternary": [
           {
            "marker": {
             "colorbar": {
              "outlinewidth": 0,
              "ticks": ""
             }
            },
            "type": "scatterternary"
           }
          ],
          "surface": [
           {
            "colorbar": {
             "outlinewidth": 0,
             "ticks": ""
            },
            "colorscale": [
             [
              0,
              "#0d0887"
             ],
             [
              0.1111111111111111,
              "#46039f"
             ],
             [
              0.2222222222222222,
              "#7201a8"
             ],
             [
              0.3333333333333333,
              "#9c179e"
             ],
             [
              0.4444444444444444,
              "#bd3786"
             ],
             [
              0.5555555555555556,
              "#d8576b"
             ],
             [
              0.6666666666666666,
              "#ed7953"
             ],
             [
              0.7777777777777778,
              "#fb9f3a"
             ],
             [
              0.8888888888888888,
              "#fdca26"
             ],
             [
              1,
              "#f0f921"
             ]
            ],
            "type": "surface"
           }
          ],
          "table": [
           {
            "cells": {
             "fill": {
              "color": "#EBF0F8"
             },
             "line": {
              "color": "white"
             }
            },
            "header": {
             "fill": {
              "color": "#C8D4E3"
             },
             "line": {
              "color": "white"
             }
            },
            "type": "table"
           }
          ]
         },
         "layout": {
          "annotationdefaults": {
           "arrowcolor": "#2a3f5f",
           "arrowhead": 0,
           "arrowwidth": 1
          },
          "autotypenumbers": "strict",
          "coloraxis": {
           "colorbar": {
            "outlinewidth": 0,
            "ticks": ""
           }
          },
          "colorscale": {
           "diverging": [
            [
             0,
             "#8e0152"
            ],
            [
             0.1,
             "#c51b7d"
            ],
            [
             0.2,
             "#de77ae"
            ],
            [
             0.3,
             "#f1b6da"
            ],
            [
             0.4,
             "#fde0ef"
            ],
            [
             0.5,
             "#f7f7f7"
            ],
            [
             0.6,
             "#e6f5d0"
            ],
            [
             0.7,
             "#b8e186"
            ],
            [
             0.8,
             "#7fbc41"
            ],
            [
             0.9,
             "#4d9221"
            ],
            [
             1,
             "#276419"
            ]
           ],
           "sequential": [
            [
             0,
             "#0d0887"
            ],
            [
             0.1111111111111111,
             "#46039f"
            ],
            [
             0.2222222222222222,
             "#7201a8"
            ],
            [
             0.3333333333333333,
             "#9c179e"
            ],
            [
             0.4444444444444444,
             "#bd3786"
            ],
            [
             0.5555555555555556,
             "#d8576b"
            ],
            [
             0.6666666666666666,
             "#ed7953"
            ],
            [
             0.7777777777777778,
             "#fb9f3a"
            ],
            [
             0.8888888888888888,
             "#fdca26"
            ],
            [
             1,
             "#f0f921"
            ]
           ],
           "sequentialminus": [
            [
             0,
             "#0d0887"
            ],
            [
             0.1111111111111111,
             "#46039f"
            ],
            [
             0.2222222222222222,
             "#7201a8"
            ],
            [
             0.3333333333333333,
             "#9c179e"
            ],
            [
             0.4444444444444444,
             "#bd3786"
            ],
            [
             0.5555555555555556,
             "#d8576b"
            ],
            [
             0.6666666666666666,
             "#ed7953"
            ],
            [
             0.7777777777777778,
             "#fb9f3a"
            ],
            [
             0.8888888888888888,
             "#fdca26"
            ],
            [
             1,
             "#f0f921"
            ]
           ]
          },
          "colorway": [
           "#636efa",
           "#EF553B",
           "#00cc96",
           "#ab63fa",
           "#FFA15A",
           "#19d3f3",
           "#FF6692",
           "#B6E880",
           "#FF97FF",
           "#FECB52"
          ],
          "font": {
           "color": "#2a3f5f"
          },
          "geo": {
           "bgcolor": "white",
           "lakecolor": "white",
           "landcolor": "white",
           "showlakes": true,
           "showland": true,
           "subunitcolor": "#C8D4E3"
          },
          "hoverlabel": {
           "align": "left"
          },
          "hovermode": "closest",
          "mapbox": {
           "style": "light"
          },
          "paper_bgcolor": "white",
          "plot_bgcolor": "white",
          "polar": {
           "angularaxis": {
            "gridcolor": "#EBF0F8",
            "linecolor": "#EBF0F8",
            "ticks": ""
           },
           "bgcolor": "white",
           "radialaxis": {
            "gridcolor": "#EBF0F8",
            "linecolor": "#EBF0F8",
            "ticks": ""
           }
          },
          "scene": {
           "xaxis": {
            "backgroundcolor": "white",
            "gridcolor": "#DFE8F3",
            "gridwidth": 2,
            "linecolor": "#EBF0F8",
            "showbackground": true,
            "ticks": "",
            "zerolinecolor": "#EBF0F8"
           },
           "yaxis": {
            "backgroundcolor": "white",
            "gridcolor": "#DFE8F3",
            "gridwidth": 2,
            "linecolor": "#EBF0F8",
            "showbackground": true,
            "ticks": "",
            "zerolinecolor": "#EBF0F8"
           },
           "zaxis": {
            "backgroundcolor": "white",
            "gridcolor": "#DFE8F3",
            "gridwidth": 2,
            "linecolor": "#EBF0F8",
            "showbackground": true,
            "ticks": "",
            "zerolinecolor": "#EBF0F8"
           }
          },
          "shapedefaults": {
           "line": {
            "color": "#2a3f5f"
           }
          },
          "ternary": {
           "aaxis": {
            "gridcolor": "#DFE8F3",
            "linecolor": "#A2B1C6",
            "ticks": ""
           },
           "baxis": {
            "gridcolor": "#DFE8F3",
            "linecolor": "#A2B1C6",
            "ticks": ""
           },
           "bgcolor": "white",
           "caxis": {
            "gridcolor": "#DFE8F3",
            "linecolor": "#A2B1C6",
            "ticks": ""
           }
          },
          "title": {
           "x": 0.05
          },
          "xaxis": {
           "automargin": true,
           "gridcolor": "#EBF0F8",
           "linecolor": "#EBF0F8",
           "ticks": "",
           "title": {
            "standoff": 15
           },
           "zerolinecolor": "#EBF0F8",
           "zerolinewidth": 2
          },
          "yaxis": {
           "automargin": true,
           "gridcolor": "#EBF0F8",
           "linecolor": "#EBF0F8",
           "ticks": "",
           "title": {
            "standoff": 15
           },
           "zerolinecolor": "#EBF0F8",
           "zerolinewidth": 2
          }
         }
        },
        "title": {
         "text": "Model Accuracy Comparison"
        },
        "width": 700,
        "xaxis": {
         "title": {
          "text": "Models"
         }
        },
        "yaxis": {
         "tickformat": ".0%",
         "title": {
          "text": "Accuracy"
         }
        }
       }
      }
     },
     "metadata": {},
     "output_type": "display_data"
    }
   ],
   "source": [
    "import plotly.graph_objects as go\n",
    "\n",
    "# Data for the models and their accuracies\n",
    "models = [\"Naive Bayes\", \"Logistic Regression\", \"Decision Tree\"]\n",
    "accuracies = [0.69, 0.73, 0.64]\n",
    "\n",
    "# Create a bar graph\n",
    "fig = go.Figure(\n",
    "    data=[\n",
    "        go.Bar(\n",
    "            x=models,\n",
    "            y=accuracies,\n",
    "            text=[f\"{acc * 100:.1f}%\" for acc in accuracies],\n",
    "            textposition='auto',\n",
    "            marker_color=['#ffaaaa', '#aaffaa', '#aaaaff']  # Different colors for each bar\n",
    "        )\n",
    "    ]\n",
    ")\n",
    "\n",
    "# Customize layout\n",
    "fig.update_layout(\n",
    "    title=\"Model Accuracy Comparison\",\n",
    "    xaxis_title=\"Models\",\n",
    "    yaxis_title=\"Accuracy\",\n",
    "    yaxis=dict(tickformat=\".0%\"),\n",
    "    template=\"plotly_white\",\n",
    "    width=700,\n",
    "    height=500\n",
    ")\n",
    "\n",
    "# Show the graph\n",
    "fig.show()\n"
   ]
  },
  {
   "cell_type": "code",
   "execution_count": 9,
   "metadata": {},
   "outputs": [
    {
     "data": {
      "application/vnd.plotly.v1+json": {
       "config": {
        "plotlyServerURL": "https://plot.ly"
       },
       "data": [
        {
         "alignmentgroup": "True",
         "bingroup": "x",
         "hovertemplate": "Source=Al Jazeera<br>Sentiment_Bias=%{x}<br>count=%{y}<extra></extra>",
         "legendgroup": "Al Jazeera",
         "marker": {
          "color": "#636efa",
          "pattern": {
           "shape": ""
          }
         },
         "name": "Al Jazeera",
         "nbinsx": 20,
         "offsetgroup": "Al Jazeera",
         "orientation": "v",
         "showlegend": true,
         "type": "histogram",
         "x": [
          "Negative",
          "Negative",
          "Neutral",
          "Positive",
          "Negative",
          "Negative",
          "Neutral",
          "Negative",
          "Neutral",
          "Negative",
          "Neutral",
          "Negative",
          "Neutral",
          "Negative",
          "Negative",
          "Negative",
          "Neutral",
          "Neutral",
          "Negative",
          "Negative",
          "Negative",
          "Negative",
          "Negative",
          "Neutral",
          "Negative",
          "Negative",
          "Neutral",
          "Neutral",
          "Negative",
          "Neutral",
          "Neutral",
          "Negative",
          "Neutral",
          "Neutral",
          "Neutral",
          "Neutral",
          "Neutral",
          "Negative",
          "Negative",
          "Neutral",
          "Neutral",
          "Negative",
          "Negative",
          "Neutral",
          "Neutral",
          "Negative",
          "Neutral",
          "Neutral",
          "Negative",
          "Neutral",
          "Neutral",
          "Neutral",
          "Negative",
          "Negative",
          "Neutral",
          "Neutral",
          "Neutral",
          "Negative",
          "Neutral",
          "Neutral",
          "Negative",
          "Neutral",
          "Neutral",
          "Neutral",
          "Neutral",
          "Negative",
          "Negative",
          "Neutral",
          "Negative",
          "Negative",
          "Negative",
          "Neutral",
          "Neutral",
          "Negative",
          "Negative",
          "Negative",
          "Negative",
          "Negative",
          "Neutral",
          "Negative",
          "Neutral",
          "Neutral",
          "Negative",
          "Neutral",
          "Negative",
          "Neutral",
          "Negative",
          "Negative",
          "Neutral",
          "Negative",
          "Neutral",
          "Neutral",
          "Neutral",
          "Negative",
          "Negative",
          "Negative",
          "Negative",
          "Negative",
          "Negative",
          "Negative",
          "Negative",
          "Negative",
          "Negative",
          "Negative",
          "Negative",
          "Neutral",
          "Negative",
          "Neutral",
          "Negative",
          "Negative",
          "Negative",
          "Negative",
          "Negative",
          "Neutral",
          "Negative",
          "Negative",
          "Negative",
          "Negative",
          "Neutral",
          "Negative",
          "Neutral",
          "Negative",
          "Negative",
          "Neutral",
          "Negative",
          "Negative",
          "Neutral",
          "Negative",
          "Negative",
          "Negative",
          "Negative",
          "Negative",
          "Negative",
          "Positive",
          "Negative",
          "Neutral",
          "Negative",
          "Positive",
          "Neutral",
          "Negative",
          "Negative",
          "Neutral",
          "Neutral",
          "Neutral",
          "Negative",
          "Negative",
          "Negative",
          "Negative",
          "Neutral",
          "Negative",
          "Negative",
          "Negative",
          "Negative",
          "Positive",
          "Negative",
          "Negative",
          "Negative",
          "Negative",
          "Neutral",
          "Negative",
          "Neutral",
          "Negative",
          "Neutral",
          "Negative",
          "Negative",
          "Negative",
          "Neutral",
          "Neutral",
          "Negative",
          "Negative",
          "Neutral",
          "Negative",
          "Negative",
          "Negative",
          "Negative",
          "Negative",
          "Negative",
          "Neutral",
          "Negative",
          "Neutral",
          "Negative",
          "Neutral",
          "Neutral",
          "Neutral",
          "Neutral",
          "Negative",
          "Negative",
          "Neutral",
          "Neutral",
          "Neutral",
          "Neutral",
          "Neutral",
          "Neutral",
          "Neutral",
          "Neutral",
          "Neutral",
          "Neutral",
          "Neutral",
          "Neutral",
          "Neutral",
          "Neutral",
          "Neutral",
          "Neutral",
          "Neutral",
          "Neutral",
          "Neutral",
          "Neutral",
          "Neutral",
          "Negative",
          "Neutral",
          "Negative",
          "Neutral",
          "Negative",
          "Neutral",
          "Negative",
          "Negative",
          "Neutral",
          "Negative",
          "Neutral",
          "Neutral",
          "Negative",
          "Negative",
          "Neutral",
          "Negative",
          "Negative",
          "Negative",
          "Neutral",
          "Neutral",
          "Negative",
          "Negative",
          "Negative",
          "Neutral",
          "Neutral",
          "Negative"
         ],
         "xaxis": "x",
         "yaxis": "y"
        },
        {
         "alignmentgroup": "True",
         "bingroup": "x",
         "hovertemplate": "Source=BBC<br>Sentiment_Bias=%{x}<br>count=%{y}<extra></extra>",
         "legendgroup": "BBC",
         "marker": {
          "color": "#EF553B",
          "pattern": {
           "shape": ""
          }
         },
         "name": "BBC",
         "nbinsx": 20,
         "offsetgroup": "BBC",
         "orientation": "v",
         "showlegend": true,
         "type": "histogram",
         "x": [
          "Neutral",
          "Neutral",
          "Negative",
          "Negative",
          "Negative",
          "Neutral",
          "Neutral",
          "Negative",
          "Negative",
          "Negative",
          "Negative",
          "Neutral",
          "Negative",
          "Negative",
          "Neutral",
          "Neutral",
          "Negative",
          "Neutral",
          "Neutral",
          "Negative",
          "Neutral",
          "Neutral",
          "Neutral",
          "Negative",
          "Negative",
          "Neutral",
          "Neutral",
          "Negative",
          "Negative",
          "Negative",
          "Neutral",
          "Negative",
          "Negative",
          "Negative",
          "Positive",
          "Negative",
          "Positive",
          "Negative",
          "Negative",
          "Negative",
          "Positive",
          "Negative",
          "Negative",
          "Neutral",
          "Positive",
          "Neutral",
          "Negative",
          "Negative",
          "Neutral",
          "Negative",
          "Positive",
          "Negative",
          "Negative",
          "Neutral",
          "Negative",
          "Negative",
          "Negative",
          "Negative",
          "Neutral",
          "Negative",
          "Neutral",
          "Positive",
          "Neutral",
          "Neutral",
          "Negative",
          "Neutral",
          "Neutral",
          "Negative",
          "Neutral",
          "Neutral",
          "Negative",
          "Positive",
          "Neutral",
          "Negative",
          "Negative",
          "Negative",
          "Neutral",
          "Neutral",
          "Negative",
          "Neutral",
          "Neutral",
          "Neutral",
          "Negative",
          "Positive",
          "Negative",
          "Negative",
          "Negative",
          "Negative",
          "Negative",
          "Negative",
          "Neutral",
          "Neutral",
          "Negative",
          "Negative",
          "Negative",
          "Negative",
          "Positive",
          "Negative",
          "Negative",
          "Neutral",
          "Negative",
          "Neutral",
          "Negative",
          "Negative",
          "Negative",
          "Neutral",
          "Negative",
          "Neutral",
          "Neutral",
          "Negative",
          "Negative",
          "Neutral",
          "Negative",
          "Negative",
          "Negative",
          "Negative",
          "Neutral",
          "Negative",
          "Negative",
          "Neutral",
          "Negative",
          "Negative",
          "Positive",
          "Positive",
          "Negative",
          "Positive",
          "Negative",
          "Negative",
          "Neutral",
          "Negative",
          "Negative",
          "Neutral",
          "Negative",
          "Negative",
          "Neutral",
          "Neutral",
          "Positive",
          "Negative",
          "Neutral",
          "Negative",
          "Negative",
          "Neutral",
          "Negative",
          "Negative",
          "Negative",
          "Negative",
          "Negative",
          "Negative",
          "Neutral",
          "Neutral",
          "Neutral",
          "Negative",
          "Neutral",
          "Neutral",
          "Negative",
          "Negative",
          "Negative",
          "Neutral",
          "Neutral",
          "Negative",
          "Neutral",
          "Negative",
          "Negative",
          "Negative",
          "Negative",
          "Neutral",
          "Negative",
          "Negative",
          "Negative",
          "Negative",
          "Negative",
          "Negative",
          "Negative",
          "Negative",
          "Positive",
          "Positive",
          "Neutral",
          "Neutral",
          "Negative",
          "Negative",
          "Negative",
          "Negative",
          "Positive",
          "Neutral",
          "Negative",
          "Neutral",
          "Negative",
          "Negative",
          "Negative",
          "Negative",
          "Positive",
          "Negative",
          "Neutral",
          "Positive",
          "Neutral",
          "Negative",
          "Negative",
          "Negative",
          "Negative",
          "Negative",
          "Negative",
          "Negative",
          "Negative",
          "Positive",
          "Negative",
          "Neutral",
          "Neutral",
          "Negative",
          "Negative",
          "Negative",
          "Negative",
          "Neutral",
          "Negative",
          "Neutral",
          "Neutral",
          "Negative",
          "Positive",
          "Neutral",
          "Negative",
          "Neutral",
          "Negative",
          "Positive",
          "Positive",
          "Negative",
          "Negative",
          "Negative",
          "Positive",
          "Negative",
          "Negative",
          "Negative",
          "Negative",
          "Negative",
          "Negative",
          "Negative",
          "Negative",
          "Negative",
          "Positive",
          "Positive",
          "Negative",
          "Positive",
          "Negative",
          "Neutral",
          "Positive",
          "Positive",
          "Positive",
          "Positive",
          "Positive",
          "Positive",
          "Positive",
          "Negative",
          "Negative",
          "Neutral",
          "Neutral",
          "Neutral",
          "Negative",
          "Neutral",
          "Negative",
          "Negative",
          "Neutral",
          "Negative",
          "Negative",
          "Negative",
          "Negative",
          "Neutral",
          "Neutral",
          "Positive",
          "Neutral",
          "Negative",
          "Positive",
          "Negative",
          "Neutral",
          "Negative",
          "Positive",
          "Positive",
          "Negative",
          "Negative",
          "Negative",
          "Negative",
          "Negative",
          "Negative",
          "Positive",
          "Neutral",
          "Negative",
          "Neutral",
          "Negative",
          "Positive",
          "Neutral",
          "Positive",
          "Neutral",
          "Positive",
          "Neutral",
          "Negative",
          "Positive",
          "Positive",
          "Neutral",
          "Neutral",
          "Negative",
          "Negative",
          "Positive",
          "Neutral",
          "Negative",
          "Negative",
          "Neutral",
          "Negative",
          "Negative",
          "Neutral",
          "Negative",
          "Negative",
          "Negative",
          "Negative",
          "Negative",
          "Negative",
          "Negative",
          "Positive",
          "Negative",
          "Negative",
          "Neutral",
          "Neutral",
          "Negative",
          "Neutral",
          "Negative",
          "Negative",
          "Negative",
          "Negative",
          "Neutral",
          "Neutral",
          "Neutral",
          "Negative",
          "Negative",
          "Negative",
          "Positive",
          "Neutral",
          "Neutral",
          "Negative",
          "Neutral",
          "Negative",
          "Neutral",
          "Negative",
          "Neutral",
          "Negative",
          "Neutral",
          "Negative",
          "Neutral",
          "Neutral",
          "Neutral",
          "Negative",
          "Neutral",
          "Neutral",
          "Positive",
          "Positive",
          "Neutral",
          "Negative",
          "Negative",
          "Negative",
          "Neutral",
          "Positive",
          "Negative",
          "Neutral",
          "Neutral",
          "Neutral",
          "Neutral",
          "Neutral",
          "Neutral",
          "Negative",
          "Negative",
          "Negative",
          "Negative",
          "Neutral",
          "Negative",
          "Negative",
          "Negative",
          "Negative",
          "Negative",
          "Neutral",
          "Neutral",
          "Negative",
          "Negative",
          "Neutral",
          "Negative",
          "Neutral",
          "Negative",
          "Negative",
          "Neutral",
          "Negative",
          "Negative",
          "Negative",
          "Neutral",
          "Positive",
          "Negative",
          "Positive",
          "Negative",
          "Neutral",
          "Positive",
          "Negative",
          "Negative",
          "Negative",
          "Negative",
          "Negative",
          "Negative",
          "Negative",
          "Negative",
          "Neutral",
          "Neutral",
          "Negative",
          "Negative",
          "Neutral",
          "Neutral",
          "Negative",
          "Neutral",
          "Negative",
          "Negative",
          "Neutral",
          "Negative",
          "Negative",
          "Neutral",
          "Neutral",
          "Negative",
          "Neutral",
          "Positive",
          "Neutral",
          "Negative",
          "Neutral",
          "Neutral",
          "Neutral",
          "Neutral",
          "Neutral",
          "Neutral",
          "Positive",
          "Positive",
          "Positive",
          "Negative",
          "Negative",
          "Neutral",
          "Negative",
          "Neutral",
          "Neutral",
          "Positive",
          "Positive",
          "Negative",
          "Negative",
          "Negative",
          "Negative",
          "Negative",
          "Negative",
          "Negative",
          "Negative",
          "Negative",
          "Negative",
          "Negative",
          "Negative",
          "Negative",
          "Negative",
          "Negative",
          "Negative",
          "Negative",
          "Negative",
          "Negative",
          "Negative",
          "Neutral",
          "Neutral",
          "Neutral",
          "Neutral",
          "Negative",
          "Neutral",
          "Negative",
          "Neutral",
          "Negative",
          "Positive",
          "Neutral",
          "Negative",
          "Neutral",
          "Negative",
          "Positive",
          "Negative",
          "Neutral",
          "Neutral",
          "Neutral",
          "Neutral",
          "Negative",
          "Negative",
          "Neutral",
          "Positive",
          "Neutral",
          "Neutral",
          "Positive",
          "Positive",
          "Neutral",
          "Negative",
          "Positive",
          "Negative",
          "Negative",
          "Neutral",
          "Neutral",
          "Neutral",
          "Neutral",
          "Neutral",
          "Neutral",
          "Negative",
          "Positive",
          "Neutral",
          "Neutral",
          "Negative",
          "Neutral",
          "Neutral",
          "Negative",
          "Neutral",
          "Neutral",
          "Neutral",
          "Negative",
          "Negative",
          "Neutral",
          "Neutral",
          "Negative",
          "Neutral",
          "Neutral",
          "Neutral",
          "Negative",
          "Negative",
          "Negative",
          "Negative",
          "Neutral",
          "Neutral",
          "Neutral",
          "Neutral",
          "Positive",
          "Neutral",
          "Negative",
          "Neutral",
          "Neutral",
          "Neutral",
          "Positive",
          "Negative",
          "Negative",
          "Negative",
          "Negative",
          "Negative",
          "Neutral",
          "Neutral",
          "Neutral",
          "Neutral",
          "Neutral",
          "Neutral",
          "Neutral",
          "Neutral",
          "Neutral",
          "Neutral",
          "Positive",
          "Neutral",
          "Negative",
          "Neutral",
          "Positive",
          "Negative",
          "Neutral",
          "Neutral",
          "Negative",
          "Neutral",
          "Negative",
          "Negative",
          "Negative",
          "Neutral",
          "Neutral",
          "Neutral",
          "Neutral",
          "Neutral",
          "Negative",
          "Negative",
          "Negative",
          "Neutral",
          "Negative",
          "Negative",
          "Neutral",
          "Negative",
          "Negative",
          "Negative",
          "Negative",
          "Negative",
          "Neutral",
          "Negative",
          "Neutral",
          "Negative",
          "Neutral",
          "Positive",
          "Positive",
          "Neutral",
          "Neutral",
          "Neutral",
          "Neutral",
          "Neutral",
          "Neutral",
          "Neutral",
          "Neutral",
          "Negative",
          "Negative",
          "Negative",
          "Negative",
          "Positive",
          "Positive",
          "Negative",
          "Neutral",
          "Negative",
          "Positive",
          "Negative",
          "Neutral",
          "Negative",
          "Neutral",
          "Neutral",
          "Negative",
          "Negative",
          "Negative",
          "Neutral",
          "Negative",
          "Negative",
          "Negative",
          "Neutral",
          "Neutral",
          "Positive",
          "Neutral",
          "Negative",
          "Negative",
          "Neutral",
          "Neutral",
          "Neutral",
          "Neutral",
          "Negative",
          "Neutral",
          "Negative",
          "Negative",
          "Negative",
          "Negative",
          "Negative",
          "Negative",
          "Negative",
          "Neutral",
          "Positive",
          "Neutral",
          "Neutral",
          "Neutral",
          "Negative",
          "Positive",
          "Negative",
          "Negative",
          "Negative",
          "Negative",
          "Negative",
          "Neutral",
          "Neutral",
          "Negative",
          "Negative",
          "Negative",
          "Negative",
          "Neutral",
          "Neutral",
          "Neutral",
          "Neutral",
          "Negative",
          "Negative",
          "Neutral",
          "Negative",
          "Neutral",
          "Neutral",
          "Neutral",
          "Neutral",
          "Neutral",
          "Neutral",
          "Negative",
          "Neutral",
          "Neutral",
          "Negative",
          "Neutral",
          "Neutral",
          "Neutral",
          "Neutral",
          "Neutral",
          "Negative",
          "Negative",
          "Negative",
          "Negative",
          "Positive",
          "Negative",
          "Neutral",
          "Neutral",
          "Negative",
          "Negative",
          "Neutral",
          "Negative",
          "Positive",
          "Positive",
          "Neutral",
          "Negative",
          "Negative",
          "Negative",
          "Neutral",
          "Negative",
          "Neutral",
          "Negative",
          "Neutral",
          "Neutral",
          "Neutral",
          "Neutral",
          "Neutral",
          "Negative",
          "Negative",
          "Negative",
          "Negative",
          "Negative",
          "Negative",
          "Negative",
          "Negative",
          "Negative",
          "Neutral",
          "Neutral",
          "Neutral",
          "Neutral",
          "Negative",
          "Neutral",
          "Neutral",
          "Neutral",
          "Negative",
          "Neutral",
          "Neutral",
          "Negative",
          "Negative",
          "Negative",
          "Negative",
          "Negative",
          "Negative",
          "Neutral",
          "Negative",
          "Negative",
          "Negative",
          "Neutral",
          "Neutral",
          "Neutral",
          "Positive",
          "Negative",
          "Positive",
          "Positive",
          "Neutral",
          "Neutral",
          "Negative",
          "Negative",
          "Negative",
          "Neutral",
          "Negative",
          "Neutral",
          "Neutral",
          "Positive",
          "Positive",
          "Negative",
          "Neutral",
          "Negative",
          "Neutral",
          "Neutral",
          "Positive",
          "Positive",
          "Neutral",
          "Neutral",
          "Neutral",
          "Neutral",
          "Neutral",
          "Neutral",
          "Negative",
          "Neutral",
          "Neutral",
          "Negative",
          "Negative",
          "Negative",
          "Negative",
          "Positive",
          "Positive",
          "Neutral",
          "Positive",
          "Negative",
          "Positive",
          "Positive",
          "Negative",
          "Negative",
          "Neutral",
          "Negative",
          "Negative",
          "Negative",
          "Negative",
          "Negative",
          "Negative",
          "Negative",
          "Positive",
          "Negative",
          "Negative",
          "Negative",
          "Negative",
          "Negative",
          "Positive",
          "Neutral",
          "Positive",
          "Positive",
          "Neutral",
          "Negative",
          "Neutral",
          "Negative",
          "Neutral",
          "Neutral",
          "Negative",
          "Neutral",
          "Negative",
          "Neutral",
          "Negative",
          "Neutral",
          "Neutral",
          "Neutral",
          "Negative",
          "Neutral",
          "Neutral",
          "Neutral",
          "Negative",
          "Negative",
          "Negative",
          "Neutral",
          "Neutral",
          "Negative",
          "Neutral",
          "Neutral",
          "Negative",
          "Negative",
          "Neutral",
          "Negative",
          "Negative",
          "Neutral",
          "Neutral",
          "Neutral",
          "Negative",
          "Negative",
          "Negative",
          "Neutral",
          "Neutral",
          "Neutral",
          "Neutral",
          "Negative",
          "Neutral",
          "Negative",
          "Neutral",
          "Neutral",
          "Negative",
          "Negative",
          "Negative",
          "Negative",
          "Negative",
          "Neutral",
          "Neutral",
          "Neutral",
          "Neutral",
          "Negative",
          "Negative",
          "Neutral",
          "Neutral",
          "Negative",
          "Neutral",
          "Neutral",
          "Negative",
          "Neutral",
          "Neutral",
          "Negative",
          "Negative",
          "Neutral",
          "Negative",
          "Neutral",
          "Neutral",
          "Neutral",
          "Neutral",
          "Neutral",
          "Negative",
          "Negative",
          "Neutral",
          "Negative",
          "Neutral",
          "Negative",
          "Negative",
          "Positive",
          "Neutral",
          "Neutral",
          "Negative",
          "Negative",
          "Negative",
          "Neutral",
          "Negative",
          "Neutral",
          "Negative",
          "Negative",
          "Neutral",
          "Negative",
          "Neutral",
          "Neutral",
          "Negative",
          "Negative",
          "Negative",
          "Negative",
          "Negative",
          "Negative",
          "Negative",
          "Negative",
          "Negative",
          "Negative",
          "Negative",
          "Negative",
          "Neutral",
          "Negative",
          "Negative",
          "Negative",
          "Negative",
          "Negative",
          "Negative",
          "Negative",
          "Negative",
          "Negative",
          "Negative",
          "Neutral",
          "Negative",
          "Negative",
          "Negative",
          "Neutral",
          "Neutral",
          "Negative",
          "Negative",
          "Negative",
          "Negative",
          "Negative",
          "Negative",
          "Negative",
          "Negative",
          "Negative",
          "Negative",
          "Positive",
          "Neutral",
          "Neutral",
          "Neutral",
          "Negative",
          "Negative",
          "Positive",
          "Negative",
          "Negative",
          "Negative",
          "Negative",
          "Negative",
          "Neutral",
          "Neutral",
          "Negative",
          "Neutral",
          "Negative",
          "Neutral",
          "Negative",
          "Neutral",
          "Positive",
          "Negative",
          "Negative",
          "Neutral",
          "Neutral",
          "Neutral",
          "Neutral",
          "Positive",
          "Negative",
          "Neutral",
          "Negative",
          "Positive",
          "Neutral",
          "Neutral",
          "Positive",
          "Positive",
          "Positive",
          "Positive",
          "Negative",
          "Neutral",
          "Neutral",
          "Positive",
          "Neutral",
          "Neutral",
          "Negative",
          "Negative",
          "Negative",
          "Neutral",
          "Neutral",
          "Neutral",
          "Negative",
          "Neutral",
          "Negative",
          "Positive",
          "Neutral",
          "Positive",
          "Neutral",
          "Negative",
          "Negative",
          "Neutral",
          "Neutral",
          "Neutral",
          "Positive",
          "Negative",
          "Neutral",
          "Negative",
          "Neutral",
          "Neutral",
          "Neutral",
          "Neutral",
          "Neutral",
          "Neutral",
          "Neutral",
          "Neutral",
          "Negative",
          "Negative",
          "Neutral",
          "Neutral",
          "Neutral",
          "Neutral",
          "Positive",
          "Negative",
          "Negative",
          "Neutral",
          "Negative",
          "Neutral",
          "Positive",
          "Positive",
          "Neutral",
          "Neutral",
          "Neutral",
          "Positive",
          "Negative",
          "Negative",
          "Neutral",
          "Neutral",
          "Negative",
          "Neutral",
          "Neutral",
          "Neutral",
          "Neutral",
          "Neutral",
          "Neutral",
          "Neutral",
          "Neutral",
          "Neutral",
          "Neutral",
          "Negative",
          "Negative",
          "Negative",
          "Positive",
          "Negative",
          "Neutral",
          "Negative",
          "Negative",
          "Negative",
          "Negative",
          "Neutral",
          "Neutral",
          "Neutral",
          "Negative",
          "Neutral",
          "Neutral",
          "Negative",
          "Neutral",
          "Neutral",
          "Neutral",
          "Positive",
          "Neutral",
          "Negative",
          "Neutral",
          "Neutral",
          "Neutral",
          "Neutral",
          "Neutral",
          "Neutral",
          "Negative",
          "Negative",
          "Neutral",
          "Neutral",
          "Neutral",
          "Neutral",
          "Neutral",
          "Neutral",
          "Neutral",
          "Negative",
          "Neutral",
          "Positive",
          "Neutral",
          "Neutral",
          "Neutral",
          "Negative",
          "Neutral",
          "Neutral",
          "Positive",
          "Neutral",
          "Positive",
          "Positive",
          "Negative",
          "Neutral",
          "Neutral",
          "Positive",
          "Negative",
          "Positive",
          "Positive",
          "Neutral",
          "Neutral",
          "Negative",
          "Neutral",
          "Neutral",
          "Negative",
          "Negative",
          "Positive",
          "Negative",
          "Negative",
          "Negative",
          "Neutral",
          "Negative",
          "Negative",
          "Neutral",
          "Neutral",
          "Neutral",
          "Neutral",
          "Negative",
          "Negative",
          "Neutral",
          "Neutral",
          "Neutral",
          "Positive",
          "Neutral",
          "Negative",
          "Neutral",
          "Negative",
          "Negative",
          "Neutral",
          "Positive",
          "Negative",
          "Neutral",
          "Neutral",
          "Neutral",
          "Neutral",
          "Neutral",
          "Negative",
          "Neutral",
          "Neutral",
          "Neutral",
          "Neutral",
          "Neutral",
          "Negative",
          "Negative",
          "Positive",
          "Negative",
          "Neutral",
          "Positive",
          "Positive",
          "Negative",
          "Negative",
          "Negative",
          "Negative",
          "Negative",
          "Negative",
          "Neutral",
          "Positive",
          "Neutral",
          "Neutral",
          "Neutral",
          "Neutral",
          "Neutral",
          "Neutral",
          "Positive",
          "Negative",
          "Negative",
          "Positive",
          "Neutral",
          "Negative",
          "Neutral",
          "Negative",
          "Negative",
          "Negative",
          "Negative",
          "Negative",
          "Negative",
          "Neutral",
          "Neutral",
          "Positive",
          "Neutral",
          "Neutral",
          "Negative",
          "Positive",
          "Positive",
          "Neutral",
          "Neutral",
          "Neutral",
          "Neutral",
          "Negative",
          "Neutral",
          "Negative",
          "Neutral",
          "Negative",
          "Negative",
          "Negative",
          "Neutral",
          "Neutral",
          "Neutral",
          "Neutral",
          "Negative",
          "Negative",
          "Neutral",
          "Neutral",
          "Positive",
          "Negative",
          "Neutral",
          "Neutral",
          "Negative",
          "Positive",
          "Negative",
          "Neutral",
          "Neutral",
          "Positive",
          "Positive",
          "Negative",
          "Negative",
          "Neutral",
          "Positive",
          "Negative",
          "Negative",
          "Negative",
          "Neutral",
          "Neutral",
          "Negative",
          "Positive",
          "Negative",
          "Negative",
          "Negative",
          "Negative",
          "Negative",
          "Negative",
          "Negative",
          "Neutral",
          "Negative",
          "Negative",
          "Neutral",
          "Negative",
          "Neutral",
          "Negative",
          "Neutral",
          "Neutral",
          "Neutral",
          "Negative",
          "Negative",
          "Negative",
          "Negative",
          "Neutral",
          "Negative",
          "Positive",
          "Neutral",
          "Neutral",
          "Negative",
          "Neutral",
          "Neutral",
          "Negative",
          "Neutral",
          "Neutral",
          "Neutral",
          "Neutral",
          "Neutral",
          "Neutral",
          "Neutral",
          "Neutral",
          "Neutral",
          "Neutral",
          "Negative",
          "Negative",
          "Negative",
          "Negative",
          "Positive",
          "Neutral",
          "Neutral",
          "Neutral",
          "Negative",
          "Negative",
          "Neutral",
          "Negative",
          "Negative",
          "Neutral",
          "Negative",
          "Neutral",
          "Neutral",
          "Negative",
          "Negative",
          "Negative",
          "Negative",
          "Negative",
          "Negative",
          "Negative",
          "Negative",
          "Negative",
          "Neutral",
          "Negative",
          "Neutral",
          "Neutral",
          "Neutral",
          "Neutral",
          "Positive",
          "Neutral",
          "Neutral",
          "Neutral",
          "Neutral",
          "Negative",
          "Negative",
          "Negative",
          "Negative",
          "Neutral",
          "Neutral",
          "Negative",
          "Negative",
          "Negative",
          "Neutral",
          "Neutral",
          "Negative",
          "Negative",
          "Negative",
          "Negative",
          "Negative",
          "Negative",
          "Negative",
          "Negative",
          "Negative",
          "Negative",
          "Negative",
          "Negative",
          "Neutral",
          "Neutral",
          "Neutral",
          "Neutral",
          "Neutral",
          "Negative",
          "Neutral",
          "Negative",
          "Neutral",
          "Negative",
          "Positive",
          "Neutral",
          "Neutral",
          "Positive",
          "Negative",
          "Negative",
          "Negative",
          "Negative",
          "Neutral",
          "Neutral",
          "Negative",
          "Negative",
          "Negative",
          "Negative",
          "Neutral",
          "Negative",
          "Negative",
          "Negative",
          "Negative",
          "Negative",
          "Negative",
          "Negative",
          "Negative",
          "Neutral",
          "Negative",
          "Positive",
          "Neutral",
          "Neutral",
          "Neutral",
          "Neutral",
          "Neutral",
          "Neutral",
          "Neutral",
          "Negative",
          "Positive",
          "Neutral",
          "Positive",
          "Neutral",
          "Negative",
          "Negative",
          "Neutral",
          "Negative",
          "Neutral",
          "Negative",
          "Negative",
          "Negative",
          "Negative",
          "Neutral",
          "Positive",
          "Negative",
          "Neutral",
          "Neutral",
          "Positive",
          "Negative",
          "Negative",
          "Neutral",
          "Neutral",
          "Neutral",
          "Neutral",
          "Positive",
          "Negative",
          "Neutral",
          "Negative",
          "Negative",
          "Negative",
          "Neutral",
          "Positive",
          "Neutral",
          "Neutral",
          "Negative",
          "Negative",
          "Positive",
          "Neutral",
          "Neutral",
          "Negative",
          "Negative",
          "Negative",
          "Negative",
          "Neutral",
          "Positive",
          "Negative",
          "Negative",
          "Negative",
          "Positive",
          "Neutral",
          "Negative",
          "Neutral",
          "Neutral",
          "Neutral",
          "Negative",
          "Positive",
          "Positive",
          "Positive",
          "Negative",
          "Neutral",
          "Neutral",
          "Neutral",
          "Neutral",
          "Neutral",
          "Neutral",
          "Neutral",
          "Neutral",
          "Neutral",
          "Neutral",
          "Neutral",
          "Negative",
          "Neutral",
          "Negative",
          "Positive",
          "Negative",
          "Neutral",
          "Neutral",
          "Neutral",
          "Negative",
          "Negative",
          "Negative",
          "Negative",
          "Negative",
          "Negative",
          "Negative",
          "Neutral",
          "Neutral",
          "Negative",
          "Negative",
          "Negative",
          "Negative",
          "Neutral",
          "Neutral",
          "Neutral",
          "Neutral",
          "Neutral",
          "Neutral",
          "Neutral",
          "Negative",
          "Negative",
          "Negative",
          "Neutral",
          "Negative",
          "Negative",
          "Positive",
          "Neutral",
          "Neutral",
          "Positive",
          "Neutral",
          "Negative",
          "Negative",
          "Neutral",
          "Negative",
          "Neutral",
          "Positive",
          "Negative",
          "Neutral",
          "Negative",
          "Negative",
          "Neutral",
          "Negative",
          "Neutral",
          "Neutral",
          "Neutral",
          "Neutral",
          "Neutral",
          "Negative",
          "Neutral",
          "Negative",
          "Negative",
          "Negative",
          "Positive",
          "Neutral",
          "Negative",
          "Neutral",
          "Positive",
          "Negative",
          "Negative",
          "Neutral",
          "Neutral",
          "Neutral",
          "Neutral",
          "Neutral",
          "Neutral",
          "Neutral",
          "Neutral",
          "Neutral",
          "Neutral",
          "Negative",
          "Positive",
          "Negative",
          "Negative",
          "Neutral",
          "Neutral",
          "Negative",
          "Negative",
          "Neutral",
          "Negative",
          "Neutral",
          "Positive",
          "Neutral",
          "Neutral",
          "Neutral",
          "Negative",
          "Negative",
          "Negative",
          "Neutral",
          "Negative",
          "Neutral",
          "Neutral",
          "Neutral",
          "Negative",
          "Negative",
          "Neutral",
          "Neutral",
          "Negative",
          "Positive",
          "Negative",
          "Negative",
          "Negative",
          "Neutral",
          "Negative",
          "Neutral",
          "Negative",
          "Negative",
          "Negative",
          "Neutral",
          "Negative",
          "Negative",
          "Neutral",
          "Neutral",
          "Negative",
          "Neutral",
          "Negative",
          "Neutral",
          "Positive",
          "Neutral",
          "Neutral",
          "Neutral",
          "Negative",
          "Negative",
          "Negative",
          "Negative",
          "Negative",
          "Negative",
          "Negative",
          "Negative",
          "Negative",
          "Neutral",
          "Neutral",
          "Negative",
          "Negative",
          "Negative",
          "Negative",
          "Negative",
          "Negative",
          "Negative",
          "Negative",
          "Negative",
          "Negative",
          "Negative",
          "Positive",
          "Negative",
          "Negative",
          "Neutral",
          "Positive",
          "Negative",
          "Negative",
          "Negative",
          "Negative",
          "Neutral",
          "Neutral",
          "Neutral",
          "Negative",
          "Positive",
          "Neutral",
          "Neutral",
          "Positive",
          "Positive",
          "Positive",
          "Neutral",
          "Negative",
          "Negative",
          "Neutral",
          "Negative",
          "Negative",
          "Neutral",
          "Neutral",
          "Neutral",
          "Negative",
          "Negative",
          "Positive",
          "Neutral",
          "Negative",
          "Negative",
          "Negative",
          "Negative",
          "Negative",
          "Positive",
          "Neutral",
          "Neutral",
          "Positive",
          "Neutral",
          "Negative",
          "Negative",
          "Negative",
          "Negative",
          "Neutral",
          "Negative",
          "Neutral",
          "Negative",
          "Neutral",
          "Neutral",
          "Positive",
          "Positive",
          "Neutral",
          "Positive",
          "Neutral",
          "Negative",
          "Negative",
          "Negative",
          "Negative",
          "Negative",
          "Neutral",
          "Neutral",
          "Negative",
          "Neutral",
          "Positive",
          "Negative",
          "Neutral",
          "Negative",
          "Neutral",
          "Neutral",
          "Neutral",
          "Neutral",
          "Negative",
          "Neutral",
          "Negative",
          "Negative",
          "Negative",
          "Negative",
          "Neutral",
          "Negative",
          "Neutral",
          "Neutral",
          "Negative",
          "Neutral",
          "Neutral",
          "Negative",
          "Negative",
          "Negative",
          "Negative",
          "Negative",
          "Negative",
          "Negative",
          "Neutral",
          "Neutral",
          "Neutral",
          "Neutral",
          "Neutral",
          "Negative",
          "Neutral",
          "Negative",
          "Neutral",
          "Neutral",
          "Neutral",
          "Negative",
          "Neutral",
          "Negative",
          "Neutral",
          "Neutral",
          "Neutral",
          "Neutral",
          "Neutral",
          "Neutral",
          "Neutral",
          "Negative",
          "Negative",
          "Neutral",
          "Negative",
          "Negative",
          "Negative",
          "Neutral",
          "Neutral",
          "Negative",
          "Negative",
          "Negative",
          "Neutral",
          "Neutral",
          "Neutral",
          "Negative",
          "Neutral",
          "Neutral",
          "Negative",
          "Neutral",
          "Neutral",
          "Neutral",
          "Neutral",
          "Neutral",
          "Negative",
          "Neutral",
          "Negative",
          "Neutral",
          "Negative",
          "Neutral",
          "Neutral",
          "Neutral",
          "Positive",
          "Neutral",
          "Neutral",
          "Neutral",
          "Positive",
          "Negative",
          "Negative",
          "Negative",
          "Negative",
          "Negative",
          "Neutral",
          "Negative",
          "Positive",
          "Neutral",
          "Negative",
          "Positive",
          "Positive",
          "Positive",
          "Neutral",
          "Positive",
          "Neutral",
          "Neutral",
          "Neutral",
          "Neutral",
          "Neutral",
          "Positive",
          "Neutral",
          "Negative",
          "Neutral",
          "Neutral",
          "Negative",
          "Negative",
          "Neutral",
          "Negative",
          "Negative",
          "Negative",
          "Negative",
          "Negative",
          "Neutral",
          "Neutral",
          "Negative",
          "Neutral",
          "Negative",
          "Negative",
          "Negative",
          "Neutral",
          "Negative",
          "Negative",
          "Negative",
          "Negative",
          "Negative",
          "Negative",
          "Negative",
          "Neutral",
          "Neutral",
          "Negative",
          "Neutral",
          "Neutral",
          "Negative",
          "Negative",
          "Neutral",
          "Neutral",
          "Positive",
          "Neutral",
          "Neutral",
          "Neutral",
          "Negative",
          "Negative",
          "Neutral",
          "Neutral",
          "Neutral",
          "Neutral",
          "Negative",
          "Negative",
          "Neutral",
          "Negative",
          "Negative",
          "Negative",
          "Negative",
          "Negative",
          "Negative",
          "Neutral",
          "Negative",
          "Neutral",
          "Negative",
          "Neutral",
          "Negative",
          "Negative",
          "Negative",
          "Neutral",
          "Neutral",
          "Negative",
          "Negative",
          "Neutral",
          "Neutral",
          "Neutral",
          "Neutral",
          "Neutral",
          "Neutral",
          "Negative",
          "Negative",
          "Negative",
          "Negative",
          "Positive",
          "Neutral",
          "Negative",
          "Neutral",
          "Negative",
          "Negative",
          "Neutral",
          "Negative",
          "Negative",
          "Negative",
          "Negative",
          "Neutral",
          "Neutral",
          "Neutral",
          "Negative",
          "Negative",
          "Negative",
          "Neutral",
          "Neutral",
          "Neutral",
          "Neutral",
          "Neutral",
          "Neutral",
          "Neutral",
          "Neutral",
          "Neutral",
          "Negative",
          "Neutral",
          "Negative",
          "Neutral",
          "Negative",
          "Neutral",
          "Neutral",
          "Neutral",
          "Negative",
          "Negative",
          "Negative",
          "Neutral",
          "Negative",
          "Negative",
          "Positive",
          "Neutral",
          "Neutral",
          "Negative",
          "Neutral",
          "Positive",
          "Negative",
          "Negative",
          "Negative",
          "Negative",
          "Neutral",
          "Negative",
          "Negative",
          "Negative",
          "Negative",
          "Negative",
          "Negative",
          "Negative",
          "Negative",
          "Neutral",
          "Neutral",
          "Neutral",
          "Negative",
          "Neutral",
          "Neutral",
          "Negative",
          "Neutral",
          "Neutral",
          "Neutral",
          "Neutral",
          "Neutral",
          "Neutral",
          "Neutral",
          "Neutral",
          "Negative",
          "Neutral",
          "Neutral",
          "Positive",
          "Neutral",
          "Positive",
          "Positive",
          "Positive",
          "Negative",
          "Positive",
          "Positive",
          "Neutral",
          "Neutral",
          "Negative",
          "Neutral",
          "Negative",
          "Neutral",
          "Neutral",
          "Neutral",
          "Neutral",
          "Neutral",
          "Negative",
          "Neutral",
          "Negative",
          "Neutral",
          "Negative",
          "Negative",
          "Negative",
          "Negative",
          "Neutral",
          "Neutral",
          "Negative",
          "Negative",
          "Neutral",
          "Neutral",
          "Neutral",
          "Positive",
          "Neutral",
          "Negative",
          "Negative",
          "Neutral",
          "Negative",
          "Neutral",
          "Neutral",
          "Neutral",
          "Negative",
          "Negative",
          "Neutral",
          "Negative",
          "Neutral",
          "Neutral",
          "Neutral",
          "Neutral",
          "Negative",
          "Neutral",
          "Neutral",
          "Neutral",
          "Negative",
          "Neutral",
          "Neutral",
          "Neutral",
          "Negative",
          "Negative",
          "Neutral",
          "Positive",
          "Neutral",
          "Neutral",
          "Neutral",
          "Neutral",
          "Neutral",
          "Positive",
          "Positive",
          "Neutral",
          "Neutral",
          "Neutral",
          "Negative",
          "Negative",
          "Negative",
          "Negative",
          "Neutral",
          "Positive",
          "Positive",
          "Negative",
          "Negative",
          "Negative",
          "Neutral"
         ],
         "xaxis": "x",
         "yaxis": "y"
        },
        {
         "alignmentgroup": "True",
         "bingroup": "x",
         "hovertemplate": "Source=CNN<br>Sentiment_Bias=%{x}<br>count=%{y}<extra></extra>",
         "legendgroup": "CNN",
         "marker": {
          "color": "#00cc96",
          "pattern": {
           "shape": ""
          }
         },
         "name": "CNN",
         "nbinsx": 20,
         "offsetgroup": "CNN",
         "orientation": "v",
         "showlegend": true,
         "type": "histogram",
         "x": [
          "Negative",
          "Neutral",
          "Neutral",
          "Neutral",
          "Neutral",
          "Negative",
          "Negative",
          "Neutral",
          "Neutral",
          "Negative",
          "Neutral",
          "Neutral",
          "Neutral",
          "Neutral",
          "Negative",
          "Neutral",
          "Negative",
          "Neutral",
          "Negative",
          "Neutral",
          "Neutral",
          "Neutral",
          "Neutral",
          "Neutral",
          "Neutral",
          "Negative",
          "Negative",
          "Negative",
          "Neutral",
          "Negative",
          "Negative",
          "Neutral",
          "Neutral",
          "Negative",
          "Neutral",
          "Neutral",
          "Negative",
          "Neutral",
          "Neutral",
          "Negative",
          "Negative",
          "Negative",
          "Neutral",
          "Neutral",
          "Neutral",
          "Negative",
          "Neutral",
          "Negative",
          "Negative",
          "Negative",
          "Negative",
          "Neutral",
          "Neutral",
          "Neutral",
          "Negative",
          "Neutral",
          "Negative",
          "Negative",
          "Neutral",
          "Neutral",
          "Neutral",
          "Neutral",
          "Negative",
          "Negative",
          "Negative",
          "Neutral",
          "Negative",
          "Negative",
          "Negative",
          "Negative",
          "Negative",
          "Neutral",
          "Positive",
          "Neutral",
          "Negative",
          "Neutral",
          "Negative",
          "Neutral",
          "Negative",
          "Negative",
          "Neutral",
          "Neutral",
          "Neutral",
          "Neutral",
          "Neutral",
          "Neutral",
          "Negative",
          "Positive",
          "Neutral",
          "Negative",
          "Negative",
          "Neutral",
          "Negative",
          "Negative",
          "Negative",
          "Positive",
          "Negative",
          "Positive",
          "Neutral",
          "Positive",
          "Neutral",
          "Neutral",
          "Neutral",
          "Neutral",
          "Neutral",
          "Negative",
          "Neutral",
          "Neutral",
          "Negative",
          "Negative",
          "Neutral",
          "Negative",
          "Neutral",
          "Neutral",
          "Negative",
          "Neutral",
          "Neutral",
          "Neutral",
          "Negative",
          "Neutral",
          "Neutral",
          "Neutral",
          "Neutral",
          "Neutral",
          "Negative",
          "Neutral",
          "Neutral",
          "Neutral",
          "Negative",
          "Neutral",
          "Neutral",
          "Positive",
          "Neutral",
          "Negative",
          "Negative",
          "Negative",
          "Negative",
          "Negative",
          "Negative",
          "Negative",
          "Negative",
          "Neutral",
          "Neutral",
          "Negative",
          "Neutral",
          "Negative",
          "Neutral",
          "Neutral",
          "Neutral",
          "Negative",
          "Neutral",
          "Neutral",
          "Neutral",
          "Negative",
          "Neutral",
          "Neutral",
          "Negative",
          "Neutral",
          "Neutral",
          "Negative",
          "Neutral",
          "Negative",
          "Negative",
          "Negative",
          "Negative",
          "Negative",
          "Neutral",
          "Negative",
          "Positive",
          "Neutral",
          "Neutral",
          "Negative",
          "Negative",
          "Negative",
          "Negative",
          "Negative",
          "Negative",
          "Negative",
          "Negative",
          "Negative",
          "Negative",
          "Neutral",
          "Negative",
          "Negative",
          "Neutral",
          "Neutral",
          "Negative",
          "Neutral",
          "Negative",
          "Negative",
          "Negative",
          "Negative",
          "Neutral",
          "Negative",
          "Negative",
          "Negative",
          "Neutral",
          "Neutral",
          "Negative",
          "Neutral",
          "Neutral",
          "Neutral",
          "Neutral",
          "Neutral",
          "Negative",
          "Neutral",
          "Neutral",
          "Neutral",
          "Neutral",
          "Neutral",
          "Neutral",
          "Neutral",
          "Negative",
          "Neutral",
          "Neutral",
          "Neutral",
          "Neutral",
          "Negative",
          "Neutral",
          "Neutral",
          "Positive",
          "Neutral",
          "Negative",
          "Neutral",
          "Neutral",
          "Neutral",
          "Negative",
          "Negative",
          "Neutral",
          "Negative",
          "Neutral",
          "Positive",
          "Positive",
          "Neutral",
          "Neutral",
          "Positive",
          "Neutral",
          "Negative",
          "Neutral",
          "Neutral",
          "Neutral",
          "Negative",
          "Positive",
          "Positive",
          "Positive",
          "Positive",
          "Neutral",
          "Neutral",
          "Negative",
          "Negative",
          "Negative",
          "Neutral",
          "Neutral",
          "Neutral",
          "Positive",
          "Positive",
          "Neutral",
          "Negative",
          "Negative",
          "Positive",
          "Neutral",
          "Neutral",
          "Positive",
          "Positive",
          "Neutral",
          "Neutral",
          "Neutral",
          "Neutral",
          "Neutral",
          "Neutral",
          "Neutral",
          "Neutral",
          "Neutral",
          "Neutral",
          "Neutral",
          "Neutral",
          "Neutral",
          "Neutral",
          "Neutral",
          "Neutral",
          "Neutral",
          "Neutral",
          "Neutral",
          "Neutral",
          "Neutral",
          "Neutral",
          "Neutral",
          "Negative",
          "Negative",
          "Neutral",
          "Neutral",
          "Neutral",
          "Negative",
          "Negative",
          "Negative",
          "Neutral",
          "Neutral",
          "Negative",
          "Negative",
          "Negative",
          "Negative",
          "Negative",
          "Neutral",
          "Negative",
          "Neutral",
          "Negative",
          "Negative",
          "Neutral",
          "Neutral",
          "Negative",
          "Negative",
          "Negative",
          "Negative",
          "Negative",
          "Negative",
          "Neutral",
          "Negative",
          "Negative",
          "Negative",
          "Negative",
          "Negative",
          "Neutral",
          "Negative",
          "Neutral",
          "Negative",
          "Negative",
          "Negative",
          "Negative",
          "Negative",
          "Negative",
          "Negative",
          "Negative",
          "Neutral",
          "Negative",
          "Negative",
          "Negative",
          "Negative",
          "Negative",
          "Negative",
          "Negative",
          "Neutral",
          "Neutral",
          "Neutral",
          "Neutral",
          "Negative",
          "Negative",
          "Neutral",
          "Negative",
          "Neutral",
          "Negative",
          "Neutral",
          "Neutral",
          "Neutral",
          "Negative",
          "Neutral",
          "Negative",
          "Negative",
          "Neutral",
          "Neutral",
          "Neutral",
          "Negative",
          "Negative",
          "Positive",
          "Negative",
          "Neutral",
          "Neutral",
          "Negative",
          "Neutral",
          "Negative",
          "Negative",
          "Neutral",
          "Negative",
          "Neutral",
          "Neutral",
          "Neutral",
          "Negative",
          "Negative",
          "Negative",
          "Neutral",
          "Neutral",
          "Negative",
          "Negative",
          "Negative",
          "Neutral",
          "Neutral",
          "Negative",
          "Neutral",
          "Negative",
          "Neutral",
          "Negative",
          "Neutral",
          "Positive",
          "Negative",
          "Neutral",
          "Neutral",
          "Neutral",
          "Neutral",
          "Positive",
          "Negative",
          "Negative",
          "Neutral",
          "Negative",
          "Negative",
          "Neutral",
          "Neutral",
          "Negative",
          "Negative",
          "Negative",
          "Neutral",
          "Negative",
          "Negative",
          "Negative",
          "Negative",
          "Negative",
          "Negative",
          "Negative",
          "Negative",
          "Negative",
          "Negative",
          "Negative",
          "Negative",
          "Negative",
          "Neutral",
          "Negative",
          "Neutral",
          "Neutral",
          "Negative",
          "Negative",
          "Negative",
          "Negative",
          "Positive",
          "Negative",
          "Negative",
          "Neutral",
          "Negative",
          "Negative",
          "Negative",
          "Negative",
          "Neutral",
          "Neutral",
          "Neutral",
          "Neutral",
          "Negative",
          "Neutral",
          "Negative",
          "Neutral",
          "Neutral",
          "Positive",
          "Neutral",
          "Neutral",
          "Neutral",
          "Neutral",
          "Neutral",
          "Negative",
          "Neutral",
          "Negative",
          "Negative",
          "Negative",
          "Neutral",
          "Neutral",
          "Neutral",
          "Neutral",
          "Neutral",
          "Neutral",
          "Negative",
          "Neutral",
          "Negative",
          "Neutral",
          "Negative",
          "Negative",
          "Negative",
          "Negative",
          "Neutral",
          "Neutral",
          "Negative",
          "Neutral",
          "Neutral",
          "Negative",
          "Neutral",
          "Negative",
          "Neutral",
          "Negative",
          "Neutral",
          "Neutral",
          "Negative",
          "Neutral",
          "Positive",
          "Neutral",
          "Neutral",
          "Neutral",
          "Negative",
          "Neutral",
          "Negative",
          "Negative",
          "Neutral",
          "Neutral",
          "Neutral",
          "Negative",
          "Negative",
          "Positive",
          "Neutral",
          "Neutral",
          "Neutral",
          "Negative",
          "Neutral",
          "Negative",
          "Negative",
          "Positive",
          "Negative",
          "Neutral",
          "Negative",
          "Negative",
          "Negative",
          "Neutral",
          "Neutral",
          "Neutral",
          "Neutral",
          "Neutral",
          "Negative",
          "Neutral",
          "Neutral",
          "Neutral",
          "Neutral",
          "Neutral",
          "Negative",
          "Neutral",
          "Negative",
          "Neutral",
          "Negative",
          "Negative",
          "Negative",
          "Negative",
          "Neutral",
          "Negative",
          "Negative",
          "Negative",
          "Neutral",
          "Neutral",
          "Neutral",
          "Neutral",
          "Negative",
          "Negative",
          "Neutral",
          "Neutral",
          "Neutral",
          "Neutral",
          "Neutral",
          "Neutral",
          "Neutral",
          "Negative",
          "Neutral",
          "Neutral",
          "Neutral",
          "Neutral",
          "Neutral",
          "Neutral",
          "Neutral",
          "Neutral",
          "Neutral",
          "Negative",
          "Neutral",
          "Neutral",
          "Negative",
          "Negative",
          "Neutral",
          "Negative",
          "Negative",
          "Negative",
          "Negative",
          "Negative",
          "Neutral",
          "Negative",
          "Negative",
          "Negative",
          "Negative",
          "Negative",
          "Negative",
          "Neutral",
          "Negative",
          "Negative",
          "Neutral",
          "Negative",
          "Negative",
          "Negative",
          "Negative",
          "Neutral",
          "Negative",
          "Neutral",
          "Negative",
          "Neutral",
          "Neutral",
          "Neutral",
          "Neutral",
          "Negative",
          "Negative",
          "Positive",
          "Neutral",
          "Neutral",
          "Neutral",
          "Neutral",
          "Neutral",
          "Neutral",
          "Neutral",
          "Neutral",
          "Neutral",
          "Negative",
          "Neutral",
          "Positive",
          "Neutral",
          "Neutral",
          "Negative",
          "Negative",
          "Neutral",
          "Neutral",
          "Negative",
          "Neutral",
          "Neutral",
          "Neutral",
          "Negative",
          "Negative",
          "Neutral",
          "Negative",
          "Negative",
          "Negative",
          "Negative",
          "Neutral",
          "Negative",
          "Neutral",
          "Neutral",
          "Neutral",
          "Neutral",
          "Neutral",
          "Neutral",
          "Neutral",
          "Neutral",
          "Neutral",
          "Neutral",
          "Neutral",
          "Neutral",
          "Neutral",
          "Negative",
          "Neutral",
          "Neutral",
          "Neutral",
          "Neutral",
          "Neutral",
          "Neutral",
          "Neutral",
          "Neutral",
          "Neutral",
          "Neutral",
          "Neutral",
          "Neutral",
          "Neutral",
          "Neutral",
          "Neutral",
          "Neutral",
          "Positive",
          "Neutral",
          "Negative",
          "Neutral",
          "Neutral",
          "Negative",
          "Neutral",
          "Neutral",
          "Neutral",
          "Neutral",
          "Neutral",
          "Neutral",
          "Neutral",
          "Negative",
          "Neutral",
          "Neutral",
          "Neutral",
          "Neutral",
          "Neutral",
          "Neutral",
          "Neutral",
          "Neutral",
          "Neutral",
          "Neutral",
          "Negative",
          "Neutral",
          "Neutral",
          "Neutral",
          "Neutral",
          "Neutral",
          "Neutral",
          "Neutral",
          "Neutral",
          "Neutral",
          "Negative",
          "Neutral",
          "Neutral",
          "Neutral",
          "Neutral",
          "Negative",
          "Neutral",
          "Neutral",
          "Neutral",
          "Neutral",
          "Neutral",
          "Neutral",
          "Positive",
          "Neutral",
          "Neutral",
          "Neutral",
          "Neutral",
          "Neutral",
          "Neutral",
          "Neutral",
          "Neutral",
          "Neutral",
          "Neutral",
          "Neutral",
          "Neutral",
          "Neutral",
          "Neutral",
          "Neutral",
          "Neutral",
          "Neutral",
          "Neutral",
          "Neutral",
          "Neutral",
          "Neutral",
          "Neutral",
          "Neutral",
          "Neutral",
          "Neutral",
          "Negative",
          "Neutral",
          "Neutral",
          "Neutral",
          "Neutral",
          "Neutral",
          "Neutral",
          "Neutral",
          "Neutral",
          "Neutral",
          "Neutral",
          "Neutral",
          "Neutral",
          "Neutral",
          "Neutral",
          "Negative",
          "Neutral",
          "Neutral",
          "Negative",
          "Neutral",
          "Neutral",
          "Neutral",
          "Neutral",
          "Neutral",
          "Neutral",
          "Negative",
          "Neutral",
          "Neutral",
          "Neutral",
          "Neutral",
          "Neutral",
          "Neutral",
          "Neutral",
          "Neutral",
          "Neutral",
          "Neutral",
          "Neutral",
          "Neutral",
          "Negative",
          "Neutral",
          "Neutral",
          "Neutral",
          "Neutral",
          "Neutral",
          "Neutral",
          "Neutral",
          "Neutral",
          "Neutral",
          "Neutral",
          "Neutral",
          "Neutral",
          "Neutral",
          "Neutral",
          "Neutral",
          "Neutral",
          "Neutral",
          "Neutral",
          "Positive",
          "Neutral",
          "Neutral",
          "Negative",
          "Neutral",
          "Neutral",
          "Neutral",
          "Neutral",
          "Neutral",
          "Negative",
          "Neutral",
          "Neutral",
          "Neutral",
          "Neutral",
          "Neutral",
          "Neutral",
          "Positive",
          "Neutral",
          "Negative",
          "Neutral",
          "Positive",
          "Neutral",
          "Negative",
          "Negative",
          "Positive",
          "Neutral",
          "Negative",
          "Neutral",
          "Neutral",
          "Neutral",
          "Neutral",
          "Neutral",
          "Neutral",
          "Neutral",
          "Neutral",
          "Neutral",
          "Neutral",
          "Neutral",
          "Negative",
          "Neutral",
          "Negative",
          "Neutral",
          "Negative",
          "Neutral",
          "Negative",
          "Neutral",
          "Negative",
          "Neutral",
          "Neutral",
          "Neutral",
          "Negative",
          "Neutral",
          "Negative",
          "Neutral",
          "Neutral",
          "Negative",
          "Neutral",
          "Neutral",
          "Neutral",
          "Neutral",
          "Neutral",
          "Neutral",
          "Neutral",
          "Neutral",
          "Neutral",
          "Neutral",
          "Neutral",
          "Negative",
          "Neutral",
          "Negative",
          "Negative",
          "Neutral",
          "Neutral",
          "Negative",
          "Neutral",
          "Negative",
          "Negative",
          "Negative",
          "Neutral",
          "Neutral",
          "Neutral",
          "Neutral",
          "Negative",
          "Neutral",
          "Neutral",
          "Neutral",
          "Negative",
          "Negative",
          "Negative",
          "Neutral",
          "Neutral",
          "Negative",
          "Negative",
          "Negative",
          "Neutral",
          "Negative",
          "Negative",
          "Neutral",
          "Neutral",
          "Neutral",
          "Neutral",
          "Neutral",
          "Neutral",
          "Neutral",
          "Neutral",
          "Neutral",
          "Neutral",
          "Neutral",
          "Neutral",
          "Neutral",
          "Positive",
          "Neutral",
          "Neutral",
          "Neutral",
          "Neutral",
          "Negative",
          "Neutral",
          "Negative",
          "Neutral",
          "Neutral",
          "Neutral",
          "Neutral",
          "Negative",
          "Neutral",
          "Negative",
          "Neutral",
          "Neutral",
          "Neutral",
          "Neutral",
          "Neutral",
          "Neutral",
          "Negative",
          "Neutral",
          "Neutral",
          "Neutral",
          "Neutral",
          "Neutral",
          "Neutral",
          "Positive",
          "Neutral",
          "Negative",
          "Neutral",
          "Neutral",
          "Neutral",
          "Neutral",
          "Negative",
          "Neutral",
          "Neutral",
          "Neutral",
          "Neutral",
          "Positive",
          "Neutral",
          "Positive",
          "Neutral",
          "Neutral",
          "Neutral",
          "Neutral",
          "Neutral",
          "Neutral",
          "Neutral",
          "Neutral",
          "Neutral",
          "Neutral",
          "Neutral",
          "Neutral",
          "Positive",
          "Neutral",
          "Neutral",
          "Negative",
          "Neutral",
          "Negative",
          "Neutral",
          "Neutral",
          "Neutral",
          "Neutral",
          "Neutral",
          "Positive",
          "Negative",
          "Neutral",
          "Neutral",
          "Neutral",
          "Negative",
          "Positive",
          "Neutral",
          "Positive",
          "Neutral",
          "Negative",
          "Negative",
          "Neutral",
          "Negative",
          "Neutral",
          "Negative",
          "Negative",
          "Negative",
          "Neutral",
          "Negative",
          "Neutral",
          "Neutral",
          "Neutral",
          "Neutral",
          "Negative",
          "Neutral",
          "Positive",
          "Neutral",
          "Neutral",
          "Neutral",
          "Neutral",
          "Neutral",
          "Negative",
          "Neutral",
          "Neutral",
          "Neutral",
          "Neutral",
          "Neutral",
          "Neutral",
          "Neutral",
          "Negative",
          "Negative",
          "Negative",
          "Neutral",
          "Negative",
          "Neutral",
          "Neutral",
          "Neutral",
          "Neutral",
          "Neutral",
          "Neutral",
          "Neutral",
          "Neutral",
          "Neutral",
          "Negative",
          "Neutral",
          "Neutral",
          "Neutral",
          "Neutral",
          "Neutral",
          "Neutral",
          "Neutral",
          "Negative",
          "Neutral",
          "Neutral",
          "Neutral",
          "Neutral",
          "Neutral",
          "Negative",
          "Neutral",
          "Negative",
          "Neutral",
          "Neutral",
          "Negative",
          "Neutral",
          "Neutral",
          "Neutral",
          "Neutral",
          "Neutral",
          "Neutral",
          "Neutral",
          "Neutral",
          "Negative",
          "Neutral",
          "Negative",
          "Neutral",
          "Negative",
          "Negative",
          "Neutral",
          "Neutral",
          "Neutral",
          "Neutral",
          "Negative",
          "Negative",
          "Neutral",
          "Neutral",
          "Neutral",
          "Neutral",
          "Neutral",
          "Neutral",
          "Neutral",
          "Neutral",
          "Neutral",
          "Neutral",
          "Neutral",
          "Neutral",
          "Neutral",
          "Neutral",
          "Neutral",
          "Neutral",
          "Neutral",
          "Neutral",
          "Neutral",
          "Negative",
          "Neutral",
          "Negative",
          "Negative",
          "Neutral",
          "Neutral",
          "Negative",
          "Neutral",
          "Negative",
          "Negative",
          "Neutral",
          "Negative",
          "Neutral",
          "Neutral",
          "Neutral",
          "Negative",
          "Neutral",
          "Negative",
          "Neutral",
          "Negative",
          "Negative",
          "Neutral",
          "Neutral",
          "Negative",
          "Neutral",
          "Neutral",
          "Negative",
          "Neutral",
          "Negative",
          "Neutral",
          "Neutral",
          "Negative",
          "Negative",
          "Positive",
          "Negative",
          "Positive",
          "Neutral",
          "Neutral",
          "Neutral",
          "Negative",
          "Neutral",
          "Neutral",
          "Neutral",
          "Negative",
          "Neutral",
          "Neutral",
          "Neutral",
          "Neutral",
          "Neutral",
          "Neutral",
          "Neutral",
          "Neutral",
          "Negative",
          "Neutral",
          "Neutral",
          "Negative",
          "Neutral",
          "Neutral",
          "Negative",
          "Negative",
          "Neutral",
          "Negative",
          "Neutral",
          "Negative",
          "Neutral",
          "Neutral",
          "Neutral",
          "Neutral",
          "Neutral",
          "Positive",
          "Neutral",
          "Neutral",
          "Negative",
          "Negative",
          "Neutral",
          "Neutral",
          "Negative",
          "Negative",
          "Negative",
          "Negative",
          "Neutral",
          "Neutral",
          "Negative",
          "Negative",
          "Negative",
          "Negative",
          "Negative",
          "Negative",
          "Negative",
          "Neutral",
          "Negative",
          "Neutral",
          "Neutral",
          "Neutral",
          "Neutral",
          "Negative",
          "Negative",
          "Negative",
          "Neutral",
          "Neutral",
          "Negative",
          "Neutral",
          "Neutral",
          "Neutral",
          "Neutral",
          "Negative",
          "Negative",
          "Neutral",
          "Negative",
          "Neutral",
          "Neutral",
          "Positive",
          "Neutral",
          "Positive",
          "Neutral",
          "Neutral",
          "Neutral",
          "Neutral",
          "Neutral",
          "Neutral",
          "Negative",
          "Negative",
          "Neutral",
          "Neutral",
          "Neutral",
          "Neutral",
          "Neutral",
          "Neutral",
          "Neutral",
          "Neutral",
          "Negative",
          "Neutral",
          "Neutral",
          "Neutral",
          "Negative",
          "Negative",
          "Negative",
          "Negative",
          "Neutral",
          "Neutral",
          "Neutral",
          "Neutral",
          "Negative",
          "Neutral",
          "Positive",
          "Neutral",
          "Neutral",
          "Neutral",
          "Negative",
          "Negative",
          "Neutral",
          "Neutral",
          "Negative",
          "Negative",
          "Negative",
          "Negative",
          "Negative",
          "Negative",
          "Negative",
          "Negative",
          "Positive",
          "Positive",
          "Neutral",
          "Neutral",
          "Negative",
          "Neutral",
          "Neutral",
          "Negative",
          "Negative",
          "Neutral",
          "Negative",
          "Negative",
          "Neutral",
          "Neutral",
          "Negative",
          "Negative",
          "Neutral",
          "Positive",
          "Neutral",
          "Neutral",
          "Negative",
          "Neutral",
          "Neutral",
          "Neutral",
          "Negative",
          "Negative",
          "Negative",
          "Neutral",
          "Neutral",
          "Negative",
          "Negative",
          "Neutral",
          "Neutral",
          "Neutral",
          "Neutral",
          "Neutral",
          "Neutral",
          "Negative",
          "Positive",
          "Neutral",
          "Negative",
          "Positive",
          "Neutral",
          "Neutral",
          "Negative",
          "Neutral",
          "Neutral",
          "Neutral",
          "Negative",
          "Neutral",
          "Positive",
          "Neutral",
          "Neutral",
          "Negative",
          "Neutral",
          "Negative",
          "Negative",
          "Positive",
          "Negative",
          "Negative",
          "Neutral",
          "Neutral",
          "Negative",
          "Negative",
          "Neutral",
          "Neutral",
          "Neutral",
          "Neutral",
          "Neutral",
          "Negative",
          "Neutral",
          "Negative",
          "Negative",
          "Negative",
          "Neutral",
          "Negative",
          "Negative",
          "Positive",
          "Neutral",
          "Neutral",
          "Negative",
          "Neutral",
          "Neutral",
          "Neutral",
          "Negative",
          "Negative",
          "Negative",
          "Neutral",
          "Negative",
          "Neutral",
          "Negative",
          "Negative",
          "Negative",
          "Neutral",
          "Negative",
          "Neutral",
          "Positive",
          "Neutral",
          "Positive",
          "Neutral",
          "Negative",
          "Positive",
          "Neutral",
          "Positive",
          "Neutral",
          "Neutral",
          "Positive",
          "Neutral",
          "Neutral",
          "Neutral",
          "Negative",
          "Neutral",
          "Neutral",
          "Negative",
          "Neutral",
          "Positive",
          "Positive",
          "Positive",
          "Neutral",
          "Neutral",
          "Negative",
          "Neutral",
          "Neutral",
          "Neutral",
          "Neutral",
          "Negative",
          "Positive",
          "Negative",
          "Neutral",
          "Positive",
          "Neutral",
          "Neutral",
          "Neutral",
          "Neutral",
          "Negative",
          "Neutral",
          "Negative",
          "Neutral",
          "Positive",
          "Neutral",
          "Neutral",
          "Neutral",
          "Neutral",
          "Neutral",
          "Negative",
          "Neutral",
          "Neutral",
          "Neutral",
          "Neutral",
          "Neutral",
          "Neutral",
          "Neutral",
          "Neutral",
          "Positive",
          "Neutral",
          "Neutral",
          "Positive",
          "Neutral",
          "Negative",
          "Neutral",
          "Neutral",
          "Neutral",
          "Neutral",
          "Neutral",
          "Negative",
          "Negative",
          "Positive",
          "Negative",
          "Neutral",
          "Positive",
          "Neutral",
          "Neutral",
          "Neutral",
          "Neutral",
          "Positive",
          "Neutral",
          "Neutral",
          "Neutral",
          "Neutral",
          "Neutral",
          "Neutral",
          "Neutral",
          "Neutral",
          "Neutral",
          "Neutral",
          "Neutral",
          "Neutral",
          "Neutral",
          "Neutral",
          "Neutral",
          "Neutral",
          "Neutral",
          "Neutral",
          "Neutral",
          "Neutral",
          "Neutral",
          "Neutral",
          "Negative",
          "Neutral",
          "Neutral",
          "Negative",
          "Negative",
          "Negative",
          "Neutral",
          "Negative",
          "Negative",
          "Neutral",
          "Neutral",
          "Neutral",
          "Neutral",
          "Neutral",
          "Neutral",
          "Neutral",
          "Neutral",
          "Neutral",
          "Neutral",
          "Neutral",
          "Neutral",
          "Negative",
          "Neutral",
          "Negative",
          "Negative",
          "Negative",
          "Negative",
          "Negative",
          "Neutral",
          "Neutral",
          "Negative",
          "Neutral",
          "Neutral",
          "Neutral",
          "Neutral",
          "Neutral",
          "Neutral",
          "Neutral",
          "Neutral",
          "Negative",
          "Neutral",
          "Negative",
          "Negative",
          "Neutral",
          "Negative",
          "Negative",
          "Neutral",
          "Negative",
          "Neutral",
          "Positive",
          "Negative",
          "Negative",
          "Neutral",
          "Negative",
          "Neutral",
          "Neutral",
          "Negative",
          "Neutral",
          "Neutral",
          "Neutral",
          "Neutral",
          "Negative",
          "Neutral",
          "Neutral",
          "Neutral",
          "Negative",
          "Neutral",
          "Neutral",
          "Positive",
          "Negative",
          "Neutral",
          "Neutral",
          "Neutral",
          "Neutral",
          "Negative",
          "Neutral",
          "Neutral",
          "Neutral",
          "Negative",
          "Negative",
          "Neutral",
          "Neutral",
          "Neutral",
          "Negative",
          "Neutral",
          "Neutral",
          "Negative",
          "Neutral",
          "Neutral",
          "Neutral",
          "Negative",
          "Neutral",
          "Negative",
          "Neutral",
          "Neutral",
          "Positive",
          "Neutral",
          "Negative",
          "Neutral",
          "Negative",
          "Neutral",
          "Negative",
          "Neutral",
          "Neutral",
          "Neutral",
          "Neutral",
          "Neutral",
          "Neutral",
          "Negative",
          "Negative",
          "Negative",
          "Neutral",
          "Negative",
          "Negative",
          "Negative",
          "Neutral",
          "Neutral",
          "Neutral",
          "Neutral",
          "Neutral",
          "Neutral",
          "Neutral",
          "Neutral",
          "Neutral",
          "Neutral",
          "Negative",
          "Neutral",
          "Neutral",
          "Positive",
          "Neutral",
          "Neutral",
          "Neutral",
          "Neutral",
          "Neutral",
          "Neutral",
          "Neutral",
          "Neutral",
          "Neutral",
          "Negative",
          "Negative",
          "Neutral",
          "Negative",
          "Negative",
          "Negative",
          "Neutral",
          "Neutral",
          "Neutral",
          "Neutral",
          "Negative",
          "Positive",
          "Neutral",
          "Negative",
          "Neutral",
          "Neutral",
          "Neutral",
          "Neutral",
          "Neutral",
          "Neutral",
          "Neutral",
          "Neutral",
          "Neutral",
          "Neutral",
          "Neutral",
          "Positive",
          "Neutral",
          "Neutral",
          "Neutral",
          "Negative",
          "Negative",
          "Neutral",
          "Negative",
          "Neutral",
          "Neutral",
          "Neutral",
          "Negative",
          "Negative",
          "Negative",
          "Neutral",
          "Neutral",
          "Neutral",
          "Neutral",
          "Neutral",
          "Negative",
          "Neutral",
          "Neutral",
          "Negative",
          "Neutral",
          "Neutral",
          "Neutral",
          "Neutral",
          "Neutral",
          "Negative",
          "Neutral",
          "Neutral",
          "Negative",
          "Negative",
          "Neutral",
          "Positive",
          "Neutral",
          "Negative",
          "Neutral",
          "Neutral",
          "Negative",
          "Negative",
          "Neutral",
          "Neutral",
          "Neutral",
          "Neutral",
          "Neutral",
          "Neutral",
          "Neutral",
          "Neutral",
          "Neutral",
          "Neutral",
          "Negative",
          "Negative",
          "Negative",
          "Negative",
          "Positive",
          "Neutral",
          "Neutral",
          "Neutral",
          "Neutral",
          "Positive",
          "Neutral",
          "Neutral",
          "Neutral",
          "Neutral",
          "Neutral",
          "Neutral",
          "Neutral",
          "Negative",
          "Positive",
          "Neutral",
          "Neutral",
          "Positive",
          "Negative",
          "Negative",
          "Negative",
          "Neutral",
          "Neutral",
          "Neutral",
          "Negative",
          "Neutral",
          "Neutral",
          "Neutral",
          "Negative",
          "Neutral",
          "Negative",
          "Negative",
          "Neutral",
          "Negative",
          "Negative",
          "Negative",
          "Neutral",
          "Neutral",
          "Negative",
          "Neutral",
          "Neutral",
          "Positive",
          "Positive",
          "Neutral",
          "Negative",
          "Neutral",
          "Neutral",
          "Neutral",
          "Negative",
          "Neutral",
          "Neutral",
          "Negative",
          "Neutral",
          "Neutral",
          "Positive",
          "Neutral",
          "Neutral",
          "Negative",
          "Negative",
          "Positive",
          "Negative",
          "Negative",
          "Negative",
          "Neutral",
          "Negative",
          "Negative",
          "Positive",
          "Negative",
          "Neutral",
          "Negative",
          "Negative",
          "Neutral",
          "Neutral",
          "Negative",
          "Neutral",
          "Negative",
          "Neutral",
          "Neutral",
          "Neutral",
          "Neutral",
          "Negative",
          "Neutral",
          "Neutral",
          "Negative",
          "Neutral",
          "Neutral",
          "Neutral",
          "Neutral",
          "Neutral",
          "Neutral",
          "Negative",
          "Negative",
          "Negative",
          "Neutral",
          "Neutral",
          "Neutral",
          "Negative",
          "Negative",
          "Neutral",
          "Negative",
          "Neutral",
          "Neutral",
          "Neutral",
          "Negative",
          "Neutral",
          "Negative",
          "Negative",
          "Positive",
          "Neutral",
          "Neutral",
          "Neutral",
          "Negative",
          "Neutral",
          "Neutral",
          "Negative",
          "Negative",
          "Negative",
          "Negative",
          "Neutral",
          "Neutral",
          "Negative",
          "Negative",
          "Neutral",
          "Negative",
          "Neutral",
          "Neutral",
          "Negative",
          "Neutral",
          "Neutral",
          "Negative",
          "Negative",
          "Neutral",
          "Negative",
          "Neutral",
          "Neutral",
          "Neutral",
          "Neutral",
          "Negative",
          "Negative",
          "Negative",
          "Negative",
          "Neutral",
          "Negative",
          "Neutral",
          "Negative",
          "Neutral",
          "Neutral",
          "Neutral",
          "Neutral",
          "Negative",
          "Neutral",
          "Neutral",
          "Neutral",
          "Positive",
          "Negative",
          "Negative",
          "Negative",
          "Neutral",
          "Negative",
          "Positive",
          "Negative",
          "Neutral",
          "Neutral",
          "Neutral",
          "Negative",
          "Negative",
          "Negative",
          "Neutral",
          "Neutral",
          "Neutral",
          "Negative",
          "Neutral",
          "Neutral",
          "Negative",
          "Negative",
          "Neutral",
          "Negative",
          "Neutral",
          "Neutral",
          "Neutral",
          "Neutral",
          "Neutral",
          "Negative",
          "Negative",
          "Neutral",
          "Neutral",
          "Positive",
          "Neutral",
          "Neutral",
          "Neutral",
          "Neutral",
          "Neutral",
          "Neutral",
          "Neutral",
          "Negative",
          "Neutral",
          "Neutral",
          "Neutral",
          "Neutral",
          "Neutral",
          "Neutral",
          "Negative",
          "Neutral",
          "Negative",
          "Neutral",
          "Neutral",
          "Neutral",
          "Negative",
          "Neutral",
          "Negative",
          "Neutral",
          "Neutral",
          "Neutral",
          "Neutral",
          "Neutral",
          "Negative",
          "Neutral",
          "Neutral",
          "Neutral",
          "Neutral",
          "Neutral",
          "Neutral",
          "Neutral",
          "Neutral",
          "Neutral",
          "Neutral",
          "Neutral",
          "Positive",
          "Neutral",
          "Positive",
          "Neutral",
          "Neutral",
          "Neutral",
          "Neutral",
          "Negative",
          "Neutral",
          "Negative",
          "Negative",
          "Neutral",
          "Neutral",
          "Neutral",
          "Neutral",
          "Negative",
          "Negative",
          "Neutral",
          "Negative",
          "Positive",
          "Negative",
          "Negative",
          "Neutral",
          "Neutral",
          "Neutral",
          "Neutral",
          "Neutral",
          "Negative",
          "Negative",
          "Neutral",
          "Neutral",
          "Negative",
          "Neutral",
          "Neutral",
          "Neutral",
          "Neutral",
          "Neutral",
          "Neutral",
          "Negative",
          "Neutral",
          "Positive",
          "Neutral",
          "Negative",
          "Neutral",
          "Neutral",
          "Positive",
          "Neutral",
          "Neutral",
          "Neutral",
          "Negative",
          "Positive",
          "Neutral",
          "Positive",
          "Neutral",
          "Neutral",
          "Neutral",
          "Neutral",
          "Neutral",
          "Negative",
          "Neutral",
          "Neutral",
          "Neutral",
          "Neutral",
          "Neutral",
          "Neutral",
          "Neutral",
          "Neutral",
          "Positive"
         ],
         "xaxis": "x",
         "yaxis": "y"
        },
        {
         "alignmentgroup": "True",
         "bingroup": "x",
         "hovertemplate": "Source=Fox News<br>Sentiment_Bias=%{x}<br>count=%{y}<extra></extra>",
         "legendgroup": "Fox News",
         "marker": {
          "color": "#ab63fa",
          "pattern": {
           "shape": ""
          }
         },
         "name": "Fox News",
         "nbinsx": 20,
         "offsetgroup": "Fox News",
         "orientation": "v",
         "showlegend": true,
         "type": "histogram",
         "x": [
          "Neutral",
          "Neutral",
          "Neutral",
          "Negative",
          "Neutral",
          "Negative",
          "Neutral",
          "Neutral",
          "Negative",
          "Neutral",
          "Negative",
          "Negative",
          "Neutral",
          "Neutral",
          "Negative",
          "Positive",
          "Neutral",
          "Positive",
          "Neutral",
          "Negative",
          "Negative",
          "Negative",
          "Neutral",
          "Neutral",
          "Negative",
          "Neutral",
          "Neutral",
          "Positive",
          "Neutral",
          "Neutral",
          "Neutral",
          "Negative",
          "Neutral",
          "Negative",
          "Neutral",
          "Neutral",
          "Positive",
          "Neutral",
          "Neutral",
          "Negative",
          "Neutral",
          "Neutral",
          "Neutral",
          "Neutral",
          "Neutral",
          "Negative",
          "Negative",
          "Negative",
          "Neutral",
          "Negative",
          "Negative",
          "Negative",
          "Negative",
          "Neutral",
          "Neutral",
          "Neutral",
          "Negative",
          "Negative",
          "Positive",
          "Neutral",
          "Negative",
          "Negative",
          "Neutral",
          "Neutral",
          "Neutral",
          "Neutral",
          "Neutral",
          "Neutral",
          "Neutral",
          "Positive",
          "Neutral",
          "Negative",
          "Negative",
          "Negative",
          "Neutral",
          "Neutral",
          "Neutral",
          "Neutral",
          "Neutral",
          "Negative",
          "Neutral",
          "Neutral",
          "Neutral",
          "Neutral",
          "Neutral",
          "Neutral",
          "Neutral",
          "Negative",
          "Neutral",
          "Neutral",
          "Negative",
          "Neutral",
          "Negative",
          "Negative",
          "Neutral",
          "Neutral",
          "Neutral",
          "Neutral",
          "Negative",
          "Neutral",
          "Negative",
          "Neutral",
          "Negative",
          "Negative",
          "Negative",
          "Neutral",
          "Neutral",
          "Neutral",
          "Neutral",
          "Neutral",
          "Negative",
          "Negative",
          "Negative",
          "Negative",
          "Negative",
          "Negative",
          "Negative",
          "Negative",
          "Neutral",
          "Negative",
          "Neutral",
          "Neutral",
          "Neutral",
          "Negative",
          "Neutral",
          "Neutral",
          "Neutral",
          "Neutral",
          "Neutral",
          "Neutral",
          "Neutral",
          "Negative",
          "Neutral",
          "Neutral",
          "Neutral",
          "Neutral",
          "Neutral",
          "Neutral",
          "Neutral",
          "Neutral",
          "Neutral",
          "Negative",
          "Negative",
          "Neutral",
          "Neutral",
          "Neutral",
          "Neutral",
          "Neutral",
          "Neutral",
          "Neutral",
          "Negative",
          "Negative",
          "Negative",
          "Neutral",
          "Negative",
          "Negative",
          "Negative",
          "Negative",
          "Negative",
          "Negative",
          "Neutral",
          "Negative",
          "Negative",
          "Negative",
          "Neutral",
          "Negative",
          "Neutral",
          "Neutral",
          "Negative",
          "Negative",
          "Negative",
          "Negative",
          "Positive",
          "Negative",
          "Negative",
          "Neutral",
          "Negative",
          "Neutral",
          "Neutral",
          "Negative",
          "Neutral",
          "Negative",
          "Neutral",
          "Negative",
          "Negative",
          "Neutral",
          "Negative",
          "Negative",
          "Neutral",
          "Neutral",
          "Negative",
          "Positive",
          "Neutral",
          "Neutral",
          "Neutral",
          "Neutral",
          "Neutral",
          "Negative",
          "Neutral",
          "Negative",
          "Neutral",
          "Neutral",
          "Neutral",
          "Negative",
          "Neutral",
          "Neutral",
          "Neutral",
          "Negative",
          "Neutral",
          "Negative",
          "Negative",
          "Positive",
          "Neutral",
          "Negative",
          "Negative",
          "Neutral",
          "Negative",
          "Neutral",
          "Neutral",
          "Neutral",
          "Neutral",
          "Neutral",
          "Neutral",
          "Neutral",
          "Negative",
          "Negative",
          "Negative",
          "Neutral",
          "Neutral",
          "Neutral",
          "Negative",
          "Positive",
          "Negative",
          "Negative",
          "Neutral",
          "Neutral",
          "Neutral",
          "Negative",
          "Negative",
          "Negative",
          "Neutral",
          "Negative",
          "Negative",
          "Neutral",
          "Neutral",
          "Negative",
          "Neutral",
          "Negative",
          "Negative",
          "Negative",
          "Negative",
          "Neutral",
          "Negative",
          "Neutral",
          "Negative",
          "Neutral",
          "Negative",
          "Neutral",
          "Negative",
          "Neutral",
          "Neutral",
          "Negative",
          "Neutral",
          "Neutral",
          "Negative",
          "Neutral",
          "Negative",
          "Negative",
          "Neutral",
          "Neutral",
          "Neutral",
          "Negative",
          "Positive",
          "Neutral",
          "Negative",
          "Negative",
          "Neutral",
          "Neutral",
          "Negative",
          "Neutral",
          "Negative",
          "Neutral",
          "Neutral",
          "Neutral",
          "Negative",
          "Neutral",
          "Neutral",
          "Negative",
          "Neutral",
          "Negative",
          "Neutral",
          "Neutral",
          "Negative",
          "Neutral",
          "Neutral",
          "Negative",
          "Neutral",
          "Negative",
          "Negative",
          "Neutral",
          "Neutral",
          "Neutral",
          "Negative",
          "Positive",
          "Neutral",
          "Negative",
          "Negative",
          "Neutral",
          "Neutral",
          "Negative",
          "Neutral",
          "Negative",
          "Neutral",
          "Neutral",
          "Neutral",
          "Negative",
          "Neutral",
          "Neutral",
          "Negative"
         ],
         "xaxis": "x",
         "yaxis": "y"
        },
        {
         "alignmentgroup": "True",
         "bingroup": "x",
         "hovertemplate": "Source=TRT World<br>Sentiment_Bias=%{x}<br>count=%{y}<extra></extra>",
         "legendgroup": "TRT World",
         "marker": {
          "color": "#FFA15A",
          "pattern": {
           "shape": ""
          }
         },
         "name": "TRT World",
         "nbinsx": 20,
         "offsetgroup": "TRT World",
         "orientation": "v",
         "showlegend": true,
         "type": "histogram",
         "x": [
          "Neutral",
          "Negative",
          "Negative",
          "Negative",
          "Neutral",
          "Negative",
          "Negative",
          "Negative",
          "Neutral",
          "Neutral",
          "Neutral",
          "Negative",
          "Neutral",
          "Negative",
          "Negative",
          "Negative",
          "Negative",
          "Negative",
          "Negative",
          "Neutral",
          "Negative",
          "Negative",
          "Neutral",
          "Neutral",
          "Negative",
          "Neutral",
          "Negative",
          "Neutral",
          "Negative",
          "Negative",
          "Positive",
          "Negative",
          "Neutral",
          "Neutral",
          "Neutral",
          "Negative",
          "Negative",
          "Negative",
          "Negative",
          "Negative",
          "Negative",
          "Negative",
          "Negative",
          "Negative",
          "Neutral",
          "Negative",
          "Negative",
          "Negative",
          "Neutral",
          "Negative",
          "Negative",
          "Neutral",
          "Negative",
          "Neutral",
          "Neutral",
          "Negative",
          "Negative",
          "Negative",
          "Negative",
          "Negative",
          "Negative",
          "Neutral",
          "Negative",
          "Negative",
          "Neutral",
          "Neutral",
          "Neutral",
          "Neutral",
          "Neutral",
          "Negative",
          "Neutral",
          "Negative",
          "Neutral",
          "Negative",
          "Negative",
          "Neutral",
          "Negative",
          "Neutral",
          "Neutral",
          "Negative",
          "Negative",
          "Neutral",
          "Negative",
          "Neutral",
          "Neutral",
          "Negative",
          "Negative",
          "Neutral",
          "Negative",
          "Negative",
          "Neutral",
          "Neutral",
          "Neutral",
          "Negative",
          "Negative",
          "Negative",
          "Neutral",
          "Neutral",
          "Negative",
          "Negative",
          "Negative",
          "Neutral",
          "Negative",
          "Negative",
          "Neutral",
          "Negative",
          "Negative",
          "Negative",
          "Neutral",
          "Negative",
          "Neutral",
          "Negative",
          "Negative",
          "Neutral",
          "Negative",
          "Negative",
          "Neutral",
          "Negative",
          "Negative",
          "Negative",
          "Negative",
          "Neutral",
          "Negative",
          "Negative",
          "Neutral",
          "Negative",
          "Negative",
          "Neutral",
          "Negative",
          "Negative",
          "Negative",
          "Negative",
          "Negative",
          "Neutral",
          "Negative",
          "Neutral",
          "Negative",
          "Negative",
          "Neutral",
          "Neutral",
          "Neutral",
          "Negative",
          "Negative",
          "Negative",
          "Negative",
          "Negative",
          "Neutral",
          "Negative",
          "Negative",
          "Negative",
          "Negative",
          "Neutral",
          "Negative",
          "Neutral",
          "Neutral",
          "Negative",
          "Negative",
          "Negative",
          "Negative",
          "Negative",
          "Negative",
          "Negative",
          "Negative",
          "Negative",
          "Negative",
          "Negative",
          "Negative",
          "Neutral",
          "Negative",
          "Neutral",
          "Negative",
          "Neutral",
          "Negative",
          "Negative",
          "Negative",
          "Neutral",
          "Negative",
          "Neutral",
          "Neutral",
          "Neutral",
          "Neutral",
          "Negative",
          "Negative",
          "Negative",
          "Negative",
          "Negative",
          "Neutral",
          "Negative",
          "Neutral",
          "Neutral",
          "Neutral",
          "Neutral",
          "Negative",
          "Neutral",
          "Neutral",
          "Neutral",
          "Negative",
          "Neutral",
          "Neutral",
          "Negative",
          "Neutral",
          "Negative",
          "Negative",
          "Neutral",
          "Negative",
          "Negative",
          "Negative",
          "Neutral",
          "Negative",
          "Negative",
          "Neutral",
          "Neutral",
          "Negative",
          "Neutral",
          "Negative",
          "Negative",
          "Neutral",
          "Negative",
          "Neutral",
          "Negative",
          "Neutral",
          "Neutral",
          "Neutral",
          "Negative",
          "Negative",
          "Neutral",
          "Neutral",
          "Negative",
          "Neutral",
          "Negative",
          "Negative",
          "Negative",
          "Neutral",
          "Neutral",
          "Negative",
          "Neutral",
          "Negative",
          "Negative",
          "Neutral",
          "Neutral",
          "Neutral",
          "Negative",
          "Neutral",
          "Negative",
          "Negative",
          "Negative",
          "Negative",
          "Negative",
          "Negative",
          "Negative",
          "Negative",
          "Negative",
          "Neutral",
          "Negative",
          "Neutral",
          "Neutral",
          "Neutral",
          "Negative",
          "Negative",
          "Neutral",
          "Negative",
          "Negative",
          "Negative",
          "Negative",
          "Neutral",
          "Negative",
          "Negative",
          "Neutral",
          "Negative",
          "Neutral",
          "Neutral",
          "Neutral",
          "Negative",
          "Negative",
          "Negative",
          "Negative",
          "Negative",
          "Negative",
          "Negative",
          "Positive",
          "Negative",
          "Negative",
          "Neutral",
          "Neutral",
          "Negative",
          "Neutral",
          "Positive",
          "Positive",
          "Neutral",
          "Neutral",
          "Negative",
          "Negative",
          "Negative",
          "Neutral",
          "Neutral",
          "Negative",
          "Negative",
          "Negative",
          "Neutral",
          "Negative",
          "Negative",
          "Neutral",
          "Neutral",
          "Positive",
          "Negative",
          "Neutral",
          "Negative",
          "Neutral",
          "Neutral",
          "Neutral",
          "Neutral",
          "Neutral",
          "Neutral",
          "Neutral",
          "Neutral",
          "Neutral",
          "Negative",
          "Negative",
          "Neutral",
          "Neutral",
          "Neutral",
          "Negative",
          "Neutral",
          "Neutral",
          "Negative",
          "Neutral",
          "Negative",
          "Negative",
          "Negative",
          "Negative",
          "Neutral",
          "Negative",
          "Negative",
          "Neutral",
          "Negative",
          "Negative",
          "Neutral",
          "Neutral",
          "Negative",
          "Negative",
          "Negative",
          "Negative",
          "Negative",
          "Negative",
          "Negative",
          "Negative",
          "Neutral",
          "Negative",
          "Negative",
          "Neutral",
          "Negative",
          "Negative",
          "Negative",
          "Negative",
          "Negative",
          "Negative",
          "Negative",
          "Negative",
          "Negative",
          "Negative",
          "Negative",
          "Negative",
          "Negative",
          "Negative",
          "Neutral",
          "Negative",
          "Negative",
          "Negative",
          "Negative",
          "Neutral",
          "Negative",
          "Negative",
          "Negative",
          "Negative",
          "Negative",
          "Negative",
          "Negative",
          "Negative",
          "Negative",
          "Negative",
          "Negative",
          "Neutral",
          "Negative",
          "Neutral",
          "Neutral",
          "Neutral",
          "Negative",
          "Negative",
          "Negative",
          "Neutral",
          "Negative",
          "Neutral",
          "Negative",
          "Negative",
          "Negative",
          "Negative",
          "Negative",
          "Negative",
          "Negative",
          "Negative",
          "Neutral",
          "Negative",
          "Negative",
          "Negative",
          "Neutral",
          "Negative",
          "Negative",
          "Negative",
          "Neutral",
          "Neutral",
          "Neutral",
          "Neutral",
          "Neutral",
          "Neutral",
          "Negative",
          "Negative",
          "Negative",
          "Neutral",
          "Negative",
          "Negative",
          "Negative",
          "Neutral",
          "Negative",
          "Negative",
          "Negative",
          "Negative",
          "Negative",
          "Neutral",
          "Neutral",
          "Negative",
          "Neutral",
          "Neutral",
          "Negative",
          "Neutral",
          "Neutral",
          "Neutral",
          "Neutral",
          "Negative",
          "Negative",
          "Positive",
          "Negative",
          "Negative",
          "Negative",
          "Negative",
          "Neutral",
          "Negative",
          "Negative",
          "Negative",
          "Neutral",
          "Neutral",
          "Neutral",
          "Neutral",
          "Negative",
          "Neutral",
          "Neutral",
          "Neutral",
          "Negative",
          "Neutral",
          "Negative",
          "Neutral",
          "Neutral",
          "Negative",
          "Negative",
          "Neutral",
          "Neutral",
          "Negative",
          "Negative",
          "Negative",
          "Neutral",
          "Negative",
          "Negative",
          "Negative",
          "Neutral",
          "Neutral",
          "Neutral",
          "Negative",
          "Neutral",
          "Negative",
          "Negative",
          "Negative",
          "Negative",
          "Negative",
          "Negative",
          "Neutral",
          "Negative",
          "Negative",
          "Neutral",
          "Neutral",
          "Negative",
          "Neutral",
          "Negative",
          "Neutral",
          "Negative",
          "Negative",
          "Positive",
          "Negative",
          "Neutral",
          "Neutral",
          "Neutral",
          "Negative",
          "Negative",
          "Negative",
          "Negative",
          "Negative",
          "Negative",
          "Negative",
          "Negative",
          "Negative",
          "Neutral",
          "Negative",
          "Negative",
          "Negative",
          "Neutral",
          "Negative",
          "Negative",
          "Neutral",
          "Negative",
          "Neutral",
          "Neutral"
         ],
         "xaxis": "x",
         "yaxis": "y"
        }
       ],
       "layout": {
        "barmode": "group",
        "legend": {
         "title": {
          "text": "Source"
         },
         "tracegroupgap": 0
        },
        "margin": {
         "t": 60
        },
        "template": {
         "data": {
          "bar": [
           {
            "error_x": {
             "color": "#2a3f5f"
            },
            "error_y": {
             "color": "#2a3f5f"
            },
            "marker": {
             "line": {
              "color": "#E5ECF6",
              "width": 0.5
             },
             "pattern": {
              "fillmode": "overlay",
              "size": 10,
              "solidity": 0.2
             }
            },
            "type": "bar"
           }
          ],
          "barpolar": [
           {
            "marker": {
             "line": {
              "color": "#E5ECF6",
              "width": 0.5
             },
             "pattern": {
              "fillmode": "overlay",
              "size": 10,
              "solidity": 0.2
             }
            },
            "type": "barpolar"
           }
          ],
          "carpet": [
           {
            "aaxis": {
             "endlinecolor": "#2a3f5f",
             "gridcolor": "white",
             "linecolor": "white",
             "minorgridcolor": "white",
             "startlinecolor": "#2a3f5f"
            },
            "baxis": {
             "endlinecolor": "#2a3f5f",
             "gridcolor": "white",
             "linecolor": "white",
             "minorgridcolor": "white",
             "startlinecolor": "#2a3f5f"
            },
            "type": "carpet"
           }
          ],
          "choropleth": [
           {
            "colorbar": {
             "outlinewidth": 0,
             "ticks": ""
            },
            "type": "choropleth"
           }
          ],
          "contour": [
           {
            "colorbar": {
             "outlinewidth": 0,
             "ticks": ""
            },
            "colorscale": [
             [
              0,
              "#0d0887"
             ],
             [
              0.1111111111111111,
              "#46039f"
             ],
             [
              0.2222222222222222,
              "#7201a8"
             ],
             [
              0.3333333333333333,
              "#9c179e"
             ],
             [
              0.4444444444444444,
              "#bd3786"
             ],
             [
              0.5555555555555556,
              "#d8576b"
             ],
             [
              0.6666666666666666,
              "#ed7953"
             ],
             [
              0.7777777777777778,
              "#fb9f3a"
             ],
             [
              0.8888888888888888,
              "#fdca26"
             ],
             [
              1,
              "#f0f921"
             ]
            ],
            "type": "contour"
           }
          ],
          "contourcarpet": [
           {
            "colorbar": {
             "outlinewidth": 0,
             "ticks": ""
            },
            "type": "contourcarpet"
           }
          ],
          "heatmap": [
           {
            "colorbar": {
             "outlinewidth": 0,
             "ticks": ""
            },
            "colorscale": [
             [
              0,
              "#0d0887"
             ],
             [
              0.1111111111111111,
              "#46039f"
             ],
             [
              0.2222222222222222,
              "#7201a8"
             ],
             [
              0.3333333333333333,
              "#9c179e"
             ],
             [
              0.4444444444444444,
              "#bd3786"
             ],
             [
              0.5555555555555556,
              "#d8576b"
             ],
             [
              0.6666666666666666,
              "#ed7953"
             ],
             [
              0.7777777777777778,
              "#fb9f3a"
             ],
             [
              0.8888888888888888,
              "#fdca26"
             ],
             [
              1,
              "#f0f921"
             ]
            ],
            "type": "heatmap"
           }
          ],
          "heatmapgl": [
           {
            "colorbar": {
             "outlinewidth": 0,
             "ticks": ""
            },
            "colorscale": [
             [
              0,
              "#0d0887"
             ],
             [
              0.1111111111111111,
              "#46039f"
             ],
             [
              0.2222222222222222,
              "#7201a8"
             ],
             [
              0.3333333333333333,
              "#9c179e"
             ],
             [
              0.4444444444444444,
              "#bd3786"
             ],
             [
              0.5555555555555556,
              "#d8576b"
             ],
             [
              0.6666666666666666,
              "#ed7953"
             ],
             [
              0.7777777777777778,
              "#fb9f3a"
             ],
             [
              0.8888888888888888,
              "#fdca26"
             ],
             [
              1,
              "#f0f921"
             ]
            ],
            "type": "heatmapgl"
           }
          ],
          "histogram": [
           {
            "marker": {
             "pattern": {
              "fillmode": "overlay",
              "size": 10,
              "solidity": 0.2
             }
            },
            "type": "histogram"
           }
          ],
          "histogram2d": [
           {
            "colorbar": {
             "outlinewidth": 0,
             "ticks": ""
            },
            "colorscale": [
             [
              0,
              "#0d0887"
             ],
             [
              0.1111111111111111,
              "#46039f"
             ],
             [
              0.2222222222222222,
              "#7201a8"
             ],
             [
              0.3333333333333333,
              "#9c179e"
             ],
             [
              0.4444444444444444,
              "#bd3786"
             ],
             [
              0.5555555555555556,
              "#d8576b"
             ],
             [
              0.6666666666666666,
              "#ed7953"
             ],
             [
              0.7777777777777778,
              "#fb9f3a"
             ],
             [
              0.8888888888888888,
              "#fdca26"
             ],
             [
              1,
              "#f0f921"
             ]
            ],
            "type": "histogram2d"
           }
          ],
          "histogram2dcontour": [
           {
            "colorbar": {
             "outlinewidth": 0,
             "ticks": ""
            },
            "colorscale": [
             [
              0,
              "#0d0887"
             ],
             [
              0.1111111111111111,
              "#46039f"
             ],
             [
              0.2222222222222222,
              "#7201a8"
             ],
             [
              0.3333333333333333,
              "#9c179e"
             ],
             [
              0.4444444444444444,
              "#bd3786"
             ],
             [
              0.5555555555555556,
              "#d8576b"
             ],
             [
              0.6666666666666666,
              "#ed7953"
             ],
             [
              0.7777777777777778,
              "#fb9f3a"
             ],
             [
              0.8888888888888888,
              "#fdca26"
             ],
             [
              1,
              "#f0f921"
             ]
            ],
            "type": "histogram2dcontour"
           }
          ],
          "mesh3d": [
           {
            "colorbar": {
             "outlinewidth": 0,
             "ticks": ""
            },
            "type": "mesh3d"
           }
          ],
          "parcoords": [
           {
            "line": {
             "colorbar": {
              "outlinewidth": 0,
              "ticks": ""
             }
            },
            "type": "parcoords"
           }
          ],
          "pie": [
           {
            "automargin": true,
            "type": "pie"
           }
          ],
          "scatter": [
           {
            "fillpattern": {
             "fillmode": "overlay",
             "size": 10,
             "solidity": 0.2
            },
            "type": "scatter"
           }
          ],
          "scatter3d": [
           {
            "line": {
             "colorbar": {
              "outlinewidth": 0,
              "ticks": ""
             }
            },
            "marker": {
             "colorbar": {
              "outlinewidth": 0,
              "ticks": ""
             }
            },
            "type": "scatter3d"
           }
          ],
          "scattercarpet": [
           {
            "marker": {
             "colorbar": {
              "outlinewidth": 0,
              "ticks": ""
             }
            },
            "type": "scattercarpet"
           }
          ],
          "scattergeo": [
           {
            "marker": {
             "colorbar": {
              "outlinewidth": 0,
              "ticks": ""
             }
            },
            "type": "scattergeo"
           }
          ],
          "scattergl": [
           {
            "marker": {
             "colorbar": {
              "outlinewidth": 0,
              "ticks": ""
             }
            },
            "type": "scattergl"
           }
          ],
          "scattermapbox": [
           {
            "marker": {
             "colorbar": {
              "outlinewidth": 0,
              "ticks": ""
             }
            },
            "type": "scattermapbox"
           }
          ],
          "scatterpolar": [
           {
            "marker": {
             "colorbar": {
              "outlinewidth": 0,
              "ticks": ""
             }
            },
            "type": "scatterpolar"
           }
          ],
          "scatterpolargl": [
           {
            "marker": {
             "colorbar": {
              "outlinewidth": 0,
              "ticks": ""
             }
            },
            "type": "scatterpolargl"
           }
          ],
          "scatterternary": [
           {
            "marker": {
             "colorbar": {
              "outlinewidth": 0,
              "ticks": ""
             }
            },
            "type": "scatterternary"
           }
          ],
          "surface": [
           {
            "colorbar": {
             "outlinewidth": 0,
             "ticks": ""
            },
            "colorscale": [
             [
              0,
              "#0d0887"
             ],
             [
              0.1111111111111111,
              "#46039f"
             ],
             [
              0.2222222222222222,
              "#7201a8"
             ],
             [
              0.3333333333333333,
              "#9c179e"
             ],
             [
              0.4444444444444444,
              "#bd3786"
             ],
             [
              0.5555555555555556,
              "#d8576b"
             ],
             [
              0.6666666666666666,
              "#ed7953"
             ],
             [
              0.7777777777777778,
              "#fb9f3a"
             ],
             [
              0.8888888888888888,
              "#fdca26"
             ],
             [
              1,
              "#f0f921"
             ]
            ],
            "type": "surface"
           }
          ],
          "table": [
           {
            "cells": {
             "fill": {
              "color": "#EBF0F8"
             },
             "line": {
              "color": "white"
             }
            },
            "header": {
             "fill": {
              "color": "#C8D4E3"
             },
             "line": {
              "color": "white"
             }
            },
            "type": "table"
           }
          ]
         },
         "layout": {
          "annotationdefaults": {
           "arrowcolor": "#2a3f5f",
           "arrowhead": 0,
           "arrowwidth": 1
          },
          "autotypenumbers": "strict",
          "coloraxis": {
           "colorbar": {
            "outlinewidth": 0,
            "ticks": ""
           }
          },
          "colorscale": {
           "diverging": [
            [
             0,
             "#8e0152"
            ],
            [
             0.1,
             "#c51b7d"
            ],
            [
             0.2,
             "#de77ae"
            ],
            [
             0.3,
             "#f1b6da"
            ],
            [
             0.4,
             "#fde0ef"
            ],
            [
             0.5,
             "#f7f7f7"
            ],
            [
             0.6,
             "#e6f5d0"
            ],
            [
             0.7,
             "#b8e186"
            ],
            [
             0.8,
             "#7fbc41"
            ],
            [
             0.9,
             "#4d9221"
            ],
            [
             1,
             "#276419"
            ]
           ],
           "sequential": [
            [
             0,
             "#0d0887"
            ],
            [
             0.1111111111111111,
             "#46039f"
            ],
            [
             0.2222222222222222,
             "#7201a8"
            ],
            [
             0.3333333333333333,
             "#9c179e"
            ],
            [
             0.4444444444444444,
             "#bd3786"
            ],
            [
             0.5555555555555556,
             "#d8576b"
            ],
            [
             0.6666666666666666,
             "#ed7953"
            ],
            [
             0.7777777777777778,
             "#fb9f3a"
            ],
            [
             0.8888888888888888,
             "#fdca26"
            ],
            [
             1,
             "#f0f921"
            ]
           ],
           "sequentialminus": [
            [
             0,
             "#0d0887"
            ],
            [
             0.1111111111111111,
             "#46039f"
            ],
            [
             0.2222222222222222,
             "#7201a8"
            ],
            [
             0.3333333333333333,
             "#9c179e"
            ],
            [
             0.4444444444444444,
             "#bd3786"
            ],
            [
             0.5555555555555556,
             "#d8576b"
            ],
            [
             0.6666666666666666,
             "#ed7953"
            ],
            [
             0.7777777777777778,
             "#fb9f3a"
            ],
            [
             0.8888888888888888,
             "#fdca26"
            ],
            [
             1,
             "#f0f921"
            ]
           ]
          },
          "colorway": [
           "#636efa",
           "#EF553B",
           "#00cc96",
           "#ab63fa",
           "#FFA15A",
           "#19d3f3",
           "#FF6692",
           "#B6E880",
           "#FF97FF",
           "#FECB52"
          ],
          "font": {
           "color": "#2a3f5f"
          },
          "geo": {
           "bgcolor": "white",
           "lakecolor": "white",
           "landcolor": "#E5ECF6",
           "showlakes": true,
           "showland": true,
           "subunitcolor": "white"
          },
          "hoverlabel": {
           "align": "left"
          },
          "hovermode": "closest",
          "mapbox": {
           "style": "light"
          },
          "paper_bgcolor": "white",
          "plot_bgcolor": "#E5ECF6",
          "polar": {
           "angularaxis": {
            "gridcolor": "white",
            "linecolor": "white",
            "ticks": ""
           },
           "bgcolor": "#E5ECF6",
           "radialaxis": {
            "gridcolor": "white",
            "linecolor": "white",
            "ticks": ""
           }
          },
          "scene": {
           "xaxis": {
            "backgroundcolor": "#E5ECF6",
            "gridcolor": "white",
            "gridwidth": 2,
            "linecolor": "white",
            "showbackground": true,
            "ticks": "",
            "zerolinecolor": "white"
           },
           "yaxis": {
            "backgroundcolor": "#E5ECF6",
            "gridcolor": "white",
            "gridwidth": 2,
            "linecolor": "white",
            "showbackground": true,
            "ticks": "",
            "zerolinecolor": "white"
           },
           "zaxis": {
            "backgroundcolor": "#E5ECF6",
            "gridcolor": "white",
            "gridwidth": 2,
            "linecolor": "white",
            "showbackground": true,
            "ticks": "",
            "zerolinecolor": "white"
           }
          },
          "shapedefaults": {
           "line": {
            "color": "#2a3f5f"
           }
          },
          "ternary": {
           "aaxis": {
            "gridcolor": "white",
            "linecolor": "white",
            "ticks": ""
           },
           "baxis": {
            "gridcolor": "white",
            "linecolor": "white",
            "ticks": ""
           },
           "bgcolor": "#E5ECF6",
           "caxis": {
            "gridcolor": "white",
            "linecolor": "white",
            "ticks": ""
           }
          },
          "title": {
           "x": 0.05
          },
          "xaxis": {
           "automargin": true,
           "gridcolor": "white",
           "linecolor": "white",
           "ticks": "",
           "title": {
            "standoff": 15
           },
           "zerolinecolor": "white",
           "zerolinewidth": 2
          },
          "yaxis": {
           "automargin": true,
           "gridcolor": "white",
           "linecolor": "white",
           "ticks": "",
           "title": {
            "standoff": 15
           },
           "zerolinecolor": "white",
           "zerolinewidth": 2
          }
         }
        },
        "title": {
         "text": "Histogram of Sentiment Bias by Source"
        },
        "xaxis": {
         "anchor": "y",
         "domain": [
          0,
          1
         ],
         "title": {
          "text": "Sentiment Bias"
         }
        },
        "yaxis": {
         "anchor": "x",
         "domain": [
          0,
          1
         ],
         "title": {
          "text": "Frequency"
         }
        }
       }
      }
     },
     "metadata": {},
     "output_type": "display_data"
    }
   ],
   "source": [
    "import plotly.express as px\n",
    "\n",
    "fig = px.histogram(df, x='Sentiment_Bias', color='Source', barmode='group', nbins=20)\n",
    "fig.update_layout(\n",
    "    title='Histogram of Sentiment Bias by Source',\n",
    "    xaxis_title='Sentiment Bias',\n",
    "    yaxis_title='Frequency'\n",
    ")\n",
    "fig.show()"
   ]
  },
  {
   "cell_type": "code",
   "execution_count": null,
   "metadata": {},
   "outputs": [
    {
     "data": {
      "application/vnd.plotly.v1+json": {
       "config": {
        "plotlyServerURL": "https://plot.ly"
       },
       "data": [
        {
         "hovertemplate": "Sentiment_Bias=Highly Negative<br>Source=%{x}<br>Count=%{y}<extra></extra>",
         "legendgroup": "Highly Negative",
         "line": {
          "color": "#636efa",
          "dash": "solid"
         },
         "marker": {
          "symbol": "circle"
         },
         "mode": "lines+markers",
         "name": "Highly Negative",
         "orientation": "v",
         "showlegend": true,
         "type": "scatter",
         "x": [
          "Al Jazeera",
          "BBC",
          "CNN",
          "Fox News",
          "TRT World"
         ],
         "xaxis": "x",
         "y": [
          54,
          361,
          211,
          28,
          191
         ],
         "yaxis": "y"
        },
        {
         "hovertemplate": "Sentiment_Bias=Highly Positive<br>Source=%{x}<br>Count=%{y}<extra></extra>",
         "legendgroup": "Highly Positive",
         "line": {
          "color": "#EF553B",
          "dash": "solid"
         },
         "marker": {
          "symbol": "circle"
         },
         "mode": "lines+markers",
         "name": "Highly Positive",
         "orientation": "v",
         "showlegend": true,
         "type": "scatter",
         "x": [
          "Al Jazeera",
          "BBC",
          "CNN",
          "Fox News",
          "TRT World"
         ],
         "xaxis": "x",
         "y": [
          1,
          93,
          33,
          3,
          3
         ],
         "yaxis": "y"
        },
        {
         "hovertemplate": "Sentiment_Bias=Negative<br>Source=%{x}<br>Count=%{y}<extra></extra>",
         "legendgroup": "Negative",
         "line": {
          "color": "#00cc96",
          "dash": "solid"
         },
         "marker": {
          "symbol": "circle"
         },
         "mode": "lines+markers",
         "name": "Negative",
         "orientation": "v",
         "showlegend": true,
         "type": "scatter",
         "x": [
          "Al Jazeera",
          "BBC",
          "CNN",
          "Fox News",
          "TRT World"
         ],
         "xaxis": "x",
         "y": [
          69,
          533,
          392,
          94,
          116
         ],
         "yaxis": "y"
        },
        {
         "hovertemplate": "Sentiment_Bias=Neutral<br>Source=%{x}<br>Count=%{y}<extra></extra>",
         "legendgroup": "Neutral",
         "line": {
          "color": "#ab63fa",
          "dash": "solid"
         },
         "marker": {
          "symbol": "circle"
         },
         "mode": "lines+markers",
         "name": "Neutral",
         "orientation": "v",
         "showlegend": true,
         "type": "scatter",
         "x": [
          "Al Jazeera",
          "BBC",
          "CNN",
          "Fox News",
          "TRT World"
         ],
         "xaxis": "x",
         "y": [
          104,
          857,
          1210,
          178,
          195
         ],
         "yaxis": "y"
        },
        {
         "hovertemplate": "Sentiment_Bias=Positive<br>Source=%{x}<br>Count=%{y}<extra></extra>",
         "legendgroup": "Positive",
         "line": {
          "color": "#FFA15A",
          "dash": "solid"
         },
         "marker": {
          "symbol": "circle"
         },
         "mode": "lines+markers",
         "name": "Positive",
         "orientation": "v",
         "showlegend": true,
         "type": "scatter",
         "x": [
          "Al Jazeera",
          "BBC",
          "CNN",
          "Fox News",
          "TRT World"
         ],
         "xaxis": "x",
         "y": [
          3,
          105,
          68,
          8,
          4
         ],
         "yaxis": "y"
        },
        {
         "hovertemplate": "Sentiment_Bias=Slightly Negative<br>Source=%{x}<br>Count=%{y}<extra></extra>",
         "legendgroup": "Slightly Negative",
         "line": {
          "color": "#19d3f3",
          "dash": "solid"
         },
         "marker": {
          "symbol": "circle"
         },
         "mode": "lines+markers",
         "name": "Slightly Negative",
         "orientation": "v",
         "showlegend": true,
         "type": "scatter",
         "x": [
          "Al Jazeera",
          "BBC",
          "CNN",
          "Fox News",
          "TRT World"
         ],
         "xaxis": "x",
         "y": [
          3,
          39,
          29,
          7,
          10
         ],
         "yaxis": "y"
        },
        {
         "hovertemplate": "Sentiment_Bias=Slightly Positive<br>Source=%{x}<br>Count=%{y}<extra></extra>",
         "legendgroup": "Slightly Positive",
         "line": {
          "color": "#FF6692",
          "dash": "solid"
         },
         "marker": {
          "symbol": "circle"
         },
         "mode": "lines+markers",
         "name": "Slightly Positive",
         "orientation": "v",
         "showlegend": true,
         "type": "scatter",
         "x": [
          "BBC",
          "CNN",
          "Fox News"
         ],
         "xaxis": "x",
         "y": [
          8,
          2,
          1
         ],
         "yaxis": "y"
        }
       ],
       "layout": {
        "legend": {
         "title": {
          "text": "Sentiment Bias"
         },
         "tracegroupgap": 0
        },
        "margin": {
         "t": 60
        },
        "template": {
         "data": {
          "bar": [
           {
            "error_x": {
             "color": "#2a3f5f"
            },
            "error_y": {
             "color": "#2a3f5f"
            },
            "marker": {
             "line": {
              "color": "#E5ECF6",
              "width": 0.5
             },
             "pattern": {
              "fillmode": "overlay",
              "size": 10,
              "solidity": 0.2
             }
            },
            "type": "bar"
           }
          ],
          "barpolar": [
           {
            "marker": {
             "line": {
              "color": "#E5ECF6",
              "width": 0.5
             },
             "pattern": {
              "fillmode": "overlay",
              "size": 10,
              "solidity": 0.2
             }
            },
            "type": "barpolar"
           }
          ],
          "carpet": [
           {
            "aaxis": {
             "endlinecolor": "#2a3f5f",
             "gridcolor": "white",
             "linecolor": "white",
             "minorgridcolor": "white",
             "startlinecolor": "#2a3f5f"
            },
            "baxis": {
             "endlinecolor": "#2a3f5f",
             "gridcolor": "white",
             "linecolor": "white",
             "minorgridcolor": "white",
             "startlinecolor": "#2a3f5f"
            },
            "type": "carpet"
           }
          ],
          "choropleth": [
           {
            "colorbar": {
             "outlinewidth": 0,
             "ticks": ""
            },
            "type": "choropleth"
           }
          ],
          "contour": [
           {
            "colorbar": {
             "outlinewidth": 0,
             "ticks": ""
            },
            "colorscale": [
             [
              0,
              "#0d0887"
             ],
             [
              0.1111111111111111,
              "#46039f"
             ],
             [
              0.2222222222222222,
              "#7201a8"
             ],
             [
              0.3333333333333333,
              "#9c179e"
             ],
             [
              0.4444444444444444,
              "#bd3786"
             ],
             [
              0.5555555555555556,
              "#d8576b"
             ],
             [
              0.6666666666666666,
              "#ed7953"
             ],
             [
              0.7777777777777778,
              "#fb9f3a"
             ],
             [
              0.8888888888888888,
              "#fdca26"
             ],
             [
              1,
              "#f0f921"
             ]
            ],
            "type": "contour"
           }
          ],
          "contourcarpet": [
           {
            "colorbar": {
             "outlinewidth": 0,
             "ticks": ""
            },
            "type": "contourcarpet"
           }
          ],
          "heatmap": [
           {
            "colorbar": {
             "outlinewidth": 0,
             "ticks": ""
            },
            "colorscale": [
             [
              0,
              "#0d0887"
             ],
             [
              0.1111111111111111,
              "#46039f"
             ],
             [
              0.2222222222222222,
              "#7201a8"
             ],
             [
              0.3333333333333333,
              "#9c179e"
             ],
             [
              0.4444444444444444,
              "#bd3786"
             ],
             [
              0.5555555555555556,
              "#d8576b"
             ],
             [
              0.6666666666666666,
              "#ed7953"
             ],
             [
              0.7777777777777778,
              "#fb9f3a"
             ],
             [
              0.8888888888888888,
              "#fdca26"
             ],
             [
              1,
              "#f0f921"
             ]
            ],
            "type": "heatmap"
           }
          ],
          "heatmapgl": [
           {
            "colorbar": {
             "outlinewidth": 0,
             "ticks": ""
            },
            "colorscale": [
             [
              0,
              "#0d0887"
             ],
             [
              0.1111111111111111,
              "#46039f"
             ],
             [
              0.2222222222222222,
              "#7201a8"
             ],
             [
              0.3333333333333333,
              "#9c179e"
             ],
             [
              0.4444444444444444,
              "#bd3786"
             ],
             [
              0.5555555555555556,
              "#d8576b"
             ],
             [
              0.6666666666666666,
              "#ed7953"
             ],
             [
              0.7777777777777778,
              "#fb9f3a"
             ],
             [
              0.8888888888888888,
              "#fdca26"
             ],
             [
              1,
              "#f0f921"
             ]
            ],
            "type": "heatmapgl"
           }
          ],
          "histogram": [
           {
            "marker": {
             "pattern": {
              "fillmode": "overlay",
              "size": 10,
              "solidity": 0.2
             }
            },
            "type": "histogram"
           }
          ],
          "histogram2d": [
           {
            "colorbar": {
             "outlinewidth": 0,
             "ticks": ""
            },
            "colorscale": [
             [
              0,
              "#0d0887"
             ],
             [
              0.1111111111111111,
              "#46039f"
             ],
             [
              0.2222222222222222,
              "#7201a8"
             ],
             [
              0.3333333333333333,
              "#9c179e"
             ],
             [
              0.4444444444444444,
              "#bd3786"
             ],
             [
              0.5555555555555556,
              "#d8576b"
             ],
             [
              0.6666666666666666,
              "#ed7953"
             ],
             [
              0.7777777777777778,
              "#fb9f3a"
             ],
             [
              0.8888888888888888,
              "#fdca26"
             ],
             [
              1,
              "#f0f921"
             ]
            ],
            "type": "histogram2d"
           }
          ],
          "histogram2dcontour": [
           {
            "colorbar": {
             "outlinewidth": 0,
             "ticks": ""
            },
            "colorscale": [
             [
              0,
              "#0d0887"
             ],
             [
              0.1111111111111111,
              "#46039f"
             ],
             [
              0.2222222222222222,
              "#7201a8"
             ],
             [
              0.3333333333333333,
              "#9c179e"
             ],
             [
              0.4444444444444444,
              "#bd3786"
             ],
             [
              0.5555555555555556,
              "#d8576b"
             ],
             [
              0.6666666666666666,
              "#ed7953"
             ],
             [
              0.7777777777777778,
              "#fb9f3a"
             ],
             [
              0.8888888888888888,
              "#fdca26"
             ],
             [
              1,
              "#f0f921"
             ]
            ],
            "type": "histogram2dcontour"
           }
          ],
          "mesh3d": [
           {
            "colorbar": {
             "outlinewidth": 0,
             "ticks": ""
            },
            "type": "mesh3d"
           }
          ],
          "parcoords": [
           {
            "line": {
             "colorbar": {
              "outlinewidth": 0,
              "ticks": ""
             }
            },
            "type": "parcoords"
           }
          ],
          "pie": [
           {
            "automargin": true,
            "type": "pie"
           }
          ],
          "scatter": [
           {
            "fillpattern": {
             "fillmode": "overlay",
             "size": 10,
             "solidity": 0.2
            },
            "type": "scatter"
           }
          ],
          "scatter3d": [
           {
            "line": {
             "colorbar": {
              "outlinewidth": 0,
              "ticks": ""
             }
            },
            "marker": {
             "colorbar": {
              "outlinewidth": 0,
              "ticks": ""
             }
            },
            "type": "scatter3d"
           }
          ],
          "scattercarpet": [
           {
            "marker": {
             "colorbar": {
              "outlinewidth": 0,
              "ticks": ""
             }
            },
            "type": "scattercarpet"
           }
          ],
          "scattergeo": [
           {
            "marker": {
             "colorbar": {
              "outlinewidth": 0,
              "ticks": ""
             }
            },
            "type": "scattergeo"
           }
          ],
          "scattergl": [
           {
            "marker": {
             "colorbar": {
              "outlinewidth": 0,
              "ticks": ""
             }
            },
            "type": "scattergl"
           }
          ],
          "scattermapbox": [
           {
            "marker": {
             "colorbar": {
              "outlinewidth": 0,
              "ticks": ""
             }
            },
            "type": "scattermapbox"
           }
          ],
          "scatterpolar": [
           {
            "marker": {
             "colorbar": {
              "outlinewidth": 0,
              "ticks": ""
             }
            },
            "type": "scatterpolar"
           }
          ],
          "scatterpolargl": [
           {
            "marker": {
             "colorbar": {
              "outlinewidth": 0,
              "ticks": ""
             }
            },
            "type": "scatterpolargl"
           }
          ],
          "scatterternary": [
           {
            "marker": {
             "colorbar": {
              "outlinewidth": 0,
              "ticks": ""
             }
            },
            "type": "scatterternary"
           }
          ],
          "surface": [
           {
            "colorbar": {
             "outlinewidth": 0,
             "ticks": ""
            },
            "colorscale": [
             [
              0,
              "#0d0887"
             ],
             [
              0.1111111111111111,
              "#46039f"
             ],
             [
              0.2222222222222222,
              "#7201a8"
             ],
             [
              0.3333333333333333,
              "#9c179e"
             ],
             [
              0.4444444444444444,
              "#bd3786"
             ],
             [
              0.5555555555555556,
              "#d8576b"
             ],
             [
              0.6666666666666666,
              "#ed7953"
             ],
             [
              0.7777777777777778,
              "#fb9f3a"
             ],
             [
              0.8888888888888888,
              "#fdca26"
             ],
             [
              1,
              "#f0f921"
             ]
            ],
            "type": "surface"
           }
          ],
          "table": [
           {
            "cells": {
             "fill": {
              "color": "#EBF0F8"
             },
             "line": {
              "color": "white"
             }
            },
            "header": {
             "fill": {
              "color": "#C8D4E3"
             },
             "line": {
              "color": "white"
             }
            },
            "type": "table"
           }
          ]
         },
         "layout": {
          "annotationdefaults": {
           "arrowcolor": "#2a3f5f",
           "arrowhead": 0,
           "arrowwidth": 1
          },
          "autotypenumbers": "strict",
          "coloraxis": {
           "colorbar": {
            "outlinewidth": 0,
            "ticks": ""
           }
          },
          "colorscale": {
           "diverging": [
            [
             0,
             "#8e0152"
            ],
            [
             0.1,
             "#c51b7d"
            ],
            [
             0.2,
             "#de77ae"
            ],
            [
             0.3,
             "#f1b6da"
            ],
            [
             0.4,
             "#fde0ef"
            ],
            [
             0.5,
             "#f7f7f7"
            ],
            [
             0.6,
             "#e6f5d0"
            ],
            [
             0.7,
             "#b8e186"
            ],
            [
             0.8,
             "#7fbc41"
            ],
            [
             0.9,
             "#4d9221"
            ],
            [
             1,
             "#276419"
            ]
           ],
           "sequential": [
            [
             0,
             "#0d0887"
            ],
            [
             0.1111111111111111,
             "#46039f"
            ],
            [
             0.2222222222222222,
             "#7201a8"
            ],
            [
             0.3333333333333333,
             "#9c179e"
            ],
            [
             0.4444444444444444,
             "#bd3786"
            ],
            [
             0.5555555555555556,
             "#d8576b"
            ],
            [
             0.6666666666666666,
             "#ed7953"
            ],
            [
             0.7777777777777778,
             "#fb9f3a"
            ],
            [
             0.8888888888888888,
             "#fdca26"
            ],
            [
             1,
             "#f0f921"
            ]
           ],
           "sequentialminus": [
            [
             0,
             "#0d0887"
            ],
            [
             0.1111111111111111,
             "#46039f"
            ],
            [
             0.2222222222222222,
             "#7201a8"
            ],
            [
             0.3333333333333333,
             "#9c179e"
            ],
            [
             0.4444444444444444,
             "#bd3786"
            ],
            [
             0.5555555555555556,
             "#d8576b"
            ],
            [
             0.6666666666666666,
             "#ed7953"
            ],
            [
             0.7777777777777778,
             "#fb9f3a"
            ],
            [
             0.8888888888888888,
             "#fdca26"
            ],
            [
             1,
             "#f0f921"
            ]
           ]
          },
          "colorway": [
           "#636efa",
           "#EF553B",
           "#00cc96",
           "#ab63fa",
           "#FFA15A",
           "#19d3f3",
           "#FF6692",
           "#B6E880",
           "#FF97FF",
           "#FECB52"
          ],
          "font": {
           "color": "#2a3f5f"
          },
          "geo": {
           "bgcolor": "white",
           "lakecolor": "white",
           "landcolor": "#E5ECF6",
           "showlakes": true,
           "showland": true,
           "subunitcolor": "white"
          },
          "hoverlabel": {
           "align": "left"
          },
          "hovermode": "closest",
          "mapbox": {
           "style": "light"
          },
          "paper_bgcolor": "white",
          "plot_bgcolor": "#E5ECF6",
          "polar": {
           "angularaxis": {
            "gridcolor": "white",
            "linecolor": "white",
            "ticks": ""
           },
           "bgcolor": "#E5ECF6",
           "radialaxis": {
            "gridcolor": "white",
            "linecolor": "white",
            "ticks": ""
           }
          },
          "scene": {
           "xaxis": {
            "backgroundcolor": "#E5ECF6",
            "gridcolor": "white",
            "gridwidth": 2,
            "linecolor": "white",
            "showbackground": true,
            "ticks": "",
            "zerolinecolor": "white"
           },
           "yaxis": {
            "backgroundcolor": "#E5ECF6",
            "gridcolor": "white",
            "gridwidth": 2,
            "linecolor": "white",
            "showbackground": true,
            "ticks": "",
            "zerolinecolor": "white"
           },
           "zaxis": {
            "backgroundcolor": "#E5ECF6",
            "gridcolor": "white",
            "gridwidth": 2,
            "linecolor": "white",
            "showbackground": true,
            "ticks": "",
            "zerolinecolor": "white"
           }
          },
          "shapedefaults": {
           "line": {
            "color": "#2a3f5f"
           }
          },
          "ternary": {
           "aaxis": {
            "gridcolor": "white",
            "linecolor": "white",
            "ticks": ""
           },
           "baxis": {
            "gridcolor": "white",
            "linecolor": "white",
            "ticks": ""
           },
           "bgcolor": "#E5ECF6",
           "caxis": {
            "gridcolor": "white",
            "linecolor": "white",
            "ticks": ""
           }
          },
          "title": {
           "x": 0.05
          },
          "xaxis": {
           "automargin": true,
           "gridcolor": "white",
           "linecolor": "white",
           "ticks": "",
           "title": {
            "standoff": 15
           },
           "zerolinecolor": "white",
           "zerolinewidth": 2
          },
          "yaxis": {
           "automargin": true,
           "gridcolor": "white",
           "linecolor": "white",
           "ticks": "",
           "title": {
            "standoff": 15
           },
           "zerolinecolor": "white",
           "zerolinewidth": 2
          }
         }
        },
        "title": {
         "text": "Sentiment Bias by Source"
        },
        "xaxis": {
         "anchor": "y",
         "domain": [
          0,
          1
         ],
         "title": {
          "text": "Source"
         }
        },
        "yaxis": {
         "anchor": "x",
         "domain": [
          0,
          1
         ],
         "title": {
          "text": "Count"
         }
        }
       }
      }
     },
     "metadata": {},
     "output_type": "display_data"
    }
   ],
   "source": [
    "import plotly.express as px\n",
    "\n",
    "sentiment_source_counts = df.groupby(['Source', 'Sentiment_Bias']).size().reset_index(name='Count')\n",
    "\n",
    "fig = px.line(sentiment_source_counts, x='Source', y='Count', color='Sentiment_Bias', markers=True)\n",
    "\n",
    "fig.update_layout(\n",
    "    title='Sentiment Bias by Source',\n",
    "    xaxis_title='Source',\n",
    "    yaxis_title='Count',\n",
    "    legend_title='Sentiment Bias'\n",
    ")\n",
    "\n",
    "fig.show()"
   ]
  },
  {
   "cell_type": "code",
   "execution_count": 15,
   "metadata": {},
   "outputs": [
    {
     "data": {
      "application/vnd.plotly.v1+json": {
       "config": {
        "plotlyServerURL": "https://plot.ly"
       },
       "data": [
        {
         "alignmentgroup": "True",
         "bingroup": "x",
         "hovertemplate": "Sentiment_Bias=%{x}<br>count=%{y}<extra></extra>",
         "legendgroup": "",
         "marker": {
          "color": "#636efa",
          "pattern": {
           "shape": ""
          }
         },
         "name": "",
         "nbinsx": 20,
         "offsetgroup": "",
         "orientation": "v",
         "showlegend": false,
         "type": "histogram",
         "x": [
          "Highly Negative",
          "Highly Negative",
          "Neutral",
          "Highly Positive",
          "Highly Negative",
          "Highly Negative",
          "Neutral",
          "Highly Negative",
          "Neutral",
          "Negative",
          "Neutral",
          "Negative",
          "Neutral",
          "Negative",
          "Negative",
          "Highly Negative",
          "Neutral",
          "Neutral",
          "Negative",
          "Highly Negative",
          "Highly Negative",
          "Highly Negative",
          "Negative",
          "Neutral",
          "Negative",
          "Negative",
          "Neutral",
          "Neutral",
          "Negative",
          "Neutral",
          "Neutral",
          "Negative",
          "Neutral",
          "Neutral",
          "Neutral",
          "Neutral",
          "Neutral",
          "Highly Negative",
          "Negative",
          "Neutral",
          "Neutral",
          "Negative",
          "Highly Negative",
          "Neutral",
          "Neutral",
          "Negative",
          "Neutral",
          "Neutral",
          "Negative",
          "Neutral",
          "Neutral",
          "Neutral",
          "Negative",
          "Negative",
          "Neutral",
          "Neutral",
          "Neutral",
          "Negative",
          "Neutral",
          "Neutral",
          "Highly Negative",
          "Neutral",
          "Neutral",
          "Neutral",
          "Neutral",
          "Negative",
          "Negative",
          "Neutral",
          "Negative",
          "Negative",
          "Negative",
          "Neutral",
          "Neutral",
          "Negative",
          "Highly Negative",
          "Highly Negative",
          "Highly Negative",
          "Highly Negative",
          "Neutral",
          "Negative",
          "Neutral",
          "Neutral",
          "Negative",
          "Neutral",
          "Highly Negative",
          "Neutral",
          "Highly Negative",
          "Negative",
          "Neutral",
          "Negative",
          "Neutral",
          "Neutral",
          "Neutral",
          "Negative",
          "Highly Negative",
          "Highly Negative",
          "Highly Negative",
          "Negative",
          "Negative",
          "Negative",
          "Slightly Negative",
          "Negative",
          "Negative",
          "Negative",
          "Negative",
          "Neutral",
          "Highly Negative",
          "Neutral",
          "Highly Negative",
          "Highly Negative",
          "Highly Negative",
          "Highly Negative",
          "Highly Negative",
          "Neutral",
          "Negative",
          "Negative",
          "Negative",
          "Negative",
          "Neutral",
          "Highly Negative",
          "Neutral",
          "Negative",
          "Highly Negative",
          "Neutral",
          "Negative",
          "Negative",
          "Neutral",
          "Negative",
          "Slightly Negative",
          "Highly Negative",
          "Highly Negative",
          "Highly Negative",
          "Highly Negative",
          "Positive",
          "Negative",
          "Neutral",
          "Highly Negative",
          "Positive",
          "Neutral",
          "Highly Negative",
          "Highly Negative",
          "Neutral",
          "Neutral",
          "Neutral",
          "Negative",
          "Highly Negative",
          "Negative",
          "Highly Negative",
          "Neutral",
          "Negative",
          "Negative",
          "Negative",
          "Negative",
          "Positive",
          "Highly Negative",
          "Highly Negative",
          "Highly Negative",
          "Negative",
          "Neutral",
          "Negative",
          "Neutral",
          "Slightly Negative",
          "Neutral",
          "Negative",
          "Negative",
          "Negative",
          "Neutral",
          "Neutral",
          "Negative",
          "Negative",
          "Neutral",
          "Highly Negative",
          "Highly Negative",
          "Negative",
          "Highly Negative",
          "Highly Negative",
          "Highly Negative",
          "Neutral",
          "Highly Negative",
          "Neutral",
          "Highly Negative",
          "Neutral",
          "Neutral",
          "Neutral",
          "Neutral",
          "Highly Negative",
          "Highly Negative",
          "Neutral",
          "Neutral",
          "Neutral",
          "Neutral",
          "Neutral",
          "Neutral",
          "Neutral",
          "Neutral",
          "Neutral",
          "Neutral",
          "Neutral",
          "Neutral",
          "Neutral",
          "Neutral",
          "Neutral",
          "Neutral",
          "Neutral",
          "Neutral",
          "Neutral",
          "Neutral",
          "Neutral",
          "Highly Negative",
          "Neutral",
          "Negative",
          "Neutral",
          "Negative",
          "Neutral",
          "Negative",
          "Highly Negative",
          "Neutral",
          "Negative",
          "Neutral",
          "Neutral",
          "Negative",
          "Negative",
          "Neutral",
          "Highly Negative",
          "Negative",
          "Negative",
          "Neutral",
          "Neutral",
          "Negative",
          "Negative",
          "Highly Negative",
          "Neutral",
          "Neutral",
          "Negative",
          "Neutral",
          "Neutral",
          "Negative",
          "Negative",
          "Highly Negative",
          "Neutral",
          "Neutral",
          "Highly Negative",
          "Slightly Negative",
          "Slightly Negative",
          "Highly Negative",
          "Neutral",
          "Slightly Negative",
          "Slightly Negative",
          "Neutral",
          "Neutral",
          "Highly Negative",
          "Neutral",
          "Neutral",
          "Negative",
          "Neutral",
          "Neutral",
          "Neutral",
          "Negative",
          "Highly Negative",
          "Neutral",
          "Neutral",
          "Highly Negative",
          "Negative",
          "Highly Negative",
          "Neutral",
          "Highly Negative",
          "Slightly Negative",
          "Highly Negative",
          "Positive",
          "Highly Negative",
          "Positive",
          "Highly Negative",
          "Negative",
          "Highly Negative",
          "Highly Positive",
          "Highly Negative",
          "Negative",
          "Neutral",
          "Highly Positive",
          "Neutral",
          "Negative",
          "Negative",
          "Neutral",
          "Negative",
          "Positive",
          "Negative",
          "Slightly Negative",
          "Neutral",
          "Highly Negative",
          "Negative",
          "Negative",
          "Highly Negative",
          "Neutral",
          "Negative",
          "Neutral",
          "Highly Positive",
          "Neutral",
          "Neutral",
          "Highly Negative",
          "Neutral",
          "Neutral",
          "Highly Negative",
          "Neutral",
          "Neutral",
          "Negative",
          "Highly Positive",
          "Neutral",
          "Negative",
          "Negative",
          "Negative",
          "Neutral",
          "Neutral",
          "Negative",
          "Neutral",
          "Neutral",
          "Neutral",
          "Negative",
          "Highly Positive",
          "Negative",
          "Negative",
          "Highly Negative",
          "Highly Negative",
          "Highly Negative",
          "Negative",
          "Neutral",
          "Neutral",
          "Negative",
          "Highly Negative",
          "Highly Negative",
          "Highly Negative",
          "Positive",
          "Negative",
          "Highly Negative",
          "Neutral",
          "Negative",
          "Neutral",
          "Highly Negative",
          "Negative",
          "Negative",
          "Neutral",
          "Negative",
          "Neutral",
          "Neutral",
          "Negative",
          "Negative",
          "Neutral",
          "Highly Negative",
          "Negative",
          "Negative",
          "Highly Negative",
          "Neutral",
          "Negative",
          "Negative",
          "Neutral",
          "Negative",
          "Negative",
          "Positive",
          "Highly Positive",
          "Negative",
          "Positive",
          "Negative",
          "Negative",
          "Neutral",
          "Highly Negative",
          "Negative",
          "Neutral",
          "Negative",
          "Negative",
          "Neutral",
          "Neutral",
          "Positive",
          "Highly Negative",
          "Neutral",
          "Highly Negative",
          "Negative",
          "Neutral",
          "Negative",
          "Negative",
          "Negative",
          "Negative",
          "Negative",
          "Highly Negative",
          "Neutral",
          "Neutral",
          "Neutral",
          "Highly Negative",
          "Neutral",
          "Neutral",
          "Negative",
          "Highly Negative",
          "Negative",
          "Neutral",
          "Neutral",
          "Highly Negative",
          "Neutral",
          "Highly Negative",
          "Highly Negative",
          "Highly Negative",
          "Highly Negative",
          "Neutral",
          "Negative",
          "Negative",
          "Highly Negative",
          "Highly Negative",
          "Highly Negative",
          "Highly Negative",
          "Negative",
          "Negative",
          "Highly Positive",
          "Positive",
          "Neutral",
          "Neutral",
          "Highly Negative",
          "Negative",
          "Negative",
          "Negative",
          "Highly Positive",
          "Neutral",
          "Negative",
          "Neutral",
          "Highly Negative",
          "Negative",
          "Negative",
          "Negative",
          "Highly Positive",
          "Highly Negative",
          "Neutral",
          "Positive",
          "Neutral",
          "Negative",
          "Highly Negative",
          "Highly Negative",
          "Highly Negative",
          "Highly Negative",
          "Highly Negative",
          "Negative",
          "Negative",
          "Highly Positive",
          "Negative",
          "Neutral",
          "Neutral",
          "Highly Negative",
          "Negative",
          "Highly Negative",
          "Negative",
          "Neutral",
          "Highly Negative",
          "Neutral",
          "Neutral",
          "Negative",
          "Slightly Positive",
          "Neutral",
          "Negative",
          "Neutral",
          "Negative",
          "Positive",
          "Highly Positive",
          "Negative",
          "Negative",
          "Negative",
          "Highly Positive",
          "Negative",
          "Negative",
          "Slightly Negative",
          "Highly Negative",
          "Negative",
          "Negative",
          "Negative",
          "Highly Negative",
          "Highly Negative",
          "Positive",
          "Highly Positive",
          "Highly Negative",
          "Highly Positive",
          "Negative",
          "Neutral",
          "Positive",
          "Positive",
          "Positive",
          "Positive",
          "Positive",
          "Positive",
          "Positive",
          "Highly Negative",
          "Negative",
          "Neutral",
          "Neutral",
          "Neutral",
          "Highly Negative",
          "Neutral",
          "Highly Negative",
          "Highly Negative",
          "Neutral",
          "Highly Negative",
          "Highly Negative",
          "Negative",
          "Negative",
          "Neutral",
          "Neutral",
          "Highly Positive",
          "Neutral",
          "Highly Negative",
          "Positive",
          "Highly Negative",
          "Neutral",
          "Negative",
          "Highly Positive",
          "Positive",
          "Highly Negative",
          "Negative",
          "Negative",
          "Highly Negative",
          "Highly Negative",
          "Negative",
          "Positive",
          "Neutral",
          "Negative",
          "Neutral",
          "Negative",
          "Positive",
          "Neutral",
          "Highly Positive",
          "Neutral",
          "Highly Positive",
          "Neutral",
          "Negative",
          "Positive",
          "Positive",
          "Neutral",
          "Neutral",
          "Highly Negative",
          "Negative",
          "Highly Positive",
          "Neutral",
          "Negative",
          "Negative",
          "Neutral",
          "Highly Negative",
          "Negative",
          "Neutral",
          "Negative",
          "Negative",
          "Negative",
          "Highly Negative",
          "Negative",
          "Slightly Negative",
          "Negative",
          "Positive",
          "Negative",
          "Highly Negative",
          "Neutral",
          "Neutral",
          "Highly Negative",
          "Neutral",
          "Highly Negative",
          "Highly Negative",
          "Slightly Negative",
          "Negative",
          "Neutral",
          "Neutral",
          "Neutral",
          "Highly Negative",
          "Negative",
          "Negative",
          "Positive",
          "Neutral",
          "Neutral",
          "Negative",
          "Neutral",
          "Highly Negative",
          "Neutral",
          "Negative",
          "Neutral",
          "Negative",
          "Neutral",
          "Highly Negative",
          "Neutral",
          "Neutral",
          "Neutral",
          "Highly Negative",
          "Neutral",
          "Neutral",
          "Highly Positive",
          "Highly Positive",
          "Neutral",
          "Negative",
          "Negative",
          "Negative",
          "Neutral",
          "Positive",
          "Negative",
          "Neutral",
          "Neutral",
          "Neutral",
          "Neutral",
          "Neutral",
          "Neutral",
          "Highly Negative",
          "Highly Negative",
          "Negative",
          "Negative",
          "Neutral",
          "Negative",
          "Negative",
          "Highly Negative",
          "Highly Negative",
          "Negative",
          "Neutral",
          "Neutral",
          "Negative",
          "Negative",
          "Neutral",
          "Highly Negative",
          "Neutral",
          "Highly Negative",
          "Negative",
          "Neutral",
          "Negative",
          "Highly Negative",
          "Highly Negative",
          "Neutral",
          "Highly Positive",
          "Negative",
          "Highly Positive",
          "Highly Negative",
          "Neutral",
          "Positive",
          "Highly Negative",
          "Negative",
          "Highly Negative",
          "Highly Negative",
          "Highly Negative",
          "Highly Negative",
          "Highly Negative",
          "Negative",
          "Neutral",
          "Neutral",
          "Negative",
          "Highly Negative",
          "Neutral",
          "Neutral",
          "Negative",
          "Neutral",
          "Negative",
          "Negative",
          "Neutral",
          "Negative",
          "Highly Negative",
          "Neutral",
          "Neutral",
          "Negative",
          "Neutral",
          "Positive",
          "Neutral",
          "Highly Negative",
          "Neutral",
          "Neutral",
          "Neutral",
          "Neutral",
          "Neutral",
          "Neutral",
          "Positive",
          "Highly Positive",
          "Positive",
          "Negative",
          "Negative",
          "Neutral",
          "Highly Negative",
          "Neutral",
          "Neutral",
          "Highly Positive",
          "Highly Positive",
          "Slightly Negative",
          "Negative",
          "Highly Negative",
          "Highly Negative",
          "Highly Negative",
          "Highly Negative",
          "Highly Negative",
          "Highly Negative",
          "Highly Negative",
          "Negative",
          "Highly Negative",
          "Highly Negative",
          "Highly Negative",
          "Highly Negative",
          "Highly Negative",
          "Highly Negative",
          "Highly Negative",
          "Negative",
          "Highly Negative",
          "Highly Negative",
          "Neutral",
          "Neutral",
          "Neutral",
          "Neutral",
          "Highly Negative",
          "Neutral",
          "Highly Negative",
          "Neutral",
          "Highly Negative",
          "Highly Positive",
          "Neutral",
          "Negative",
          "Neutral",
          "Negative",
          "Positive",
          "Highly Negative",
          "Neutral",
          "Neutral",
          "Neutral",
          "Neutral",
          "Negative",
          "Negative",
          "Neutral",
          "Positive",
          "Neutral",
          "Neutral",
          "Highly Positive",
          "Positive",
          "Neutral",
          "Negative",
          "Highly Positive",
          "Negative",
          "Negative",
          "Neutral",
          "Neutral",
          "Neutral",
          "Neutral",
          "Neutral",
          "Neutral",
          "Negative",
          "Positive",
          "Neutral",
          "Neutral",
          "Negative",
          "Neutral",
          "Neutral",
          "Negative",
          "Neutral",
          "Neutral",
          "Neutral",
          "Highly Negative",
          "Highly Negative",
          "Neutral",
          "Neutral",
          "Negative",
          "Neutral",
          "Neutral",
          "Neutral",
          "Highly Negative",
          "Highly Negative",
          "Negative",
          "Negative",
          "Neutral",
          "Neutral",
          "Neutral",
          "Neutral",
          "Highly Positive",
          "Neutral",
          "Negative",
          "Neutral",
          "Neutral",
          "Neutral",
          "Highly Positive",
          "Slightly Negative",
          "Highly Negative",
          "Negative",
          "Negative",
          "Negative",
          "Neutral",
          "Neutral",
          "Neutral",
          "Neutral",
          "Neutral",
          "Neutral",
          "Neutral",
          "Neutral",
          "Neutral",
          "Neutral",
          "Positive",
          "Neutral",
          "Negative",
          "Neutral",
          "Highly Positive",
          "Negative",
          "Neutral",
          "Neutral",
          "Negative",
          "Neutral",
          "Negative",
          "Highly Negative",
          "Negative",
          "Neutral",
          "Neutral",
          "Neutral",
          "Neutral",
          "Neutral",
          "Slightly Negative",
          "Negative",
          "Highly Negative",
          "Neutral",
          "Highly Negative",
          "Negative",
          "Neutral",
          "Negative",
          "Negative",
          "Negative",
          "Negative",
          "Negative",
          "Neutral",
          "Negative",
          "Neutral",
          "Negative",
          "Neutral",
          "Positive",
          "Positive",
          "Neutral",
          "Neutral",
          "Neutral",
          "Neutral",
          "Neutral",
          "Neutral",
          "Neutral",
          "Neutral",
          "Negative",
          "Slightly Negative",
          "Highly Negative",
          "Highly Negative",
          "Positive",
          "Positive",
          "Negative",
          "Neutral",
          "Negative",
          "Positive",
          "Highly Negative",
          "Neutral",
          "Negative",
          "Neutral",
          "Neutral",
          "Negative",
          "Negative",
          "Highly Negative",
          "Neutral",
          "Negative",
          "Negative",
          "Negative",
          "Neutral",
          "Neutral",
          "Positive",
          "Neutral",
          "Negative",
          "Negative",
          "Neutral",
          "Neutral",
          "Neutral",
          "Neutral",
          "Slightly Negative",
          "Neutral",
          "Negative",
          "Negative",
          "Slightly Negative",
          "Slightly Negative",
          "Slightly Negative",
          "Slightly Negative",
          "Negative",
          "Neutral",
          "Positive",
          "Neutral",
          "Neutral",
          "Neutral",
          "Negative",
          "Highly Positive",
          "Negative",
          "Negative",
          "Negative",
          "Negative",
          "Negative",
          "Neutral",
          "Neutral",
          "Highly Negative",
          "Highly Negative",
          "Highly Negative",
          "Highly Negative",
          "Neutral",
          "Neutral",
          "Neutral",
          "Neutral",
          "Negative",
          "Negative",
          "Neutral",
          "Highly Negative",
          "Neutral",
          "Neutral",
          "Neutral",
          "Neutral",
          "Neutral",
          "Neutral",
          "Negative",
          "Neutral",
          "Neutral",
          "Negative",
          "Neutral",
          "Neutral",
          "Neutral",
          "Neutral",
          "Neutral",
          "Negative",
          "Negative",
          "Highly Negative",
          "Highly Negative",
          "Highly Positive",
          "Negative",
          "Neutral",
          "Neutral",
          "Slightly Negative",
          "Negative",
          "Neutral",
          "Negative",
          "Positive",
          "Positive",
          "Neutral",
          "Highly Negative",
          "Negative",
          "Negative",
          "Neutral",
          "Highly Negative",
          "Neutral",
          "Negative",
          "Neutral",
          "Neutral",
          "Neutral",
          "Neutral",
          "Neutral",
          "Negative",
          "Highly Negative",
          "Negative",
          "Highly Negative",
          "Negative",
          "Negative",
          "Negative",
          "Negative",
          "Negative",
          "Neutral",
          "Neutral",
          "Neutral",
          "Neutral",
          "Negative",
          "Neutral",
          "Neutral",
          "Neutral",
          "Negative",
          "Neutral",
          "Neutral",
          "Highly Negative",
          "Negative",
          "Highly Negative",
          "Highly Negative",
          "Highly Negative",
          "Highly Negative",
          "Neutral",
          "Highly Negative",
          "Highly Negative",
          "Negative",
          "Neutral",
          "Neutral",
          "Neutral",
          "Positive",
          "Negative",
          "Highly Positive",
          "Positive",
          "Neutral",
          "Neutral",
          "Negative",
          "Negative",
          "Negative",
          "Neutral",
          "Highly Negative",
          "Neutral",
          "Neutral",
          "Positive",
          "Positive",
          "Negative",
          "Neutral",
          "Negative",
          "Neutral",
          "Neutral",
          "Highly Positive",
          "Positive",
          "Neutral",
          "Neutral",
          "Neutral",
          "Neutral",
          "Neutral",
          "Neutral",
          "Highly Negative",
          "Neutral",
          "Neutral",
          "Highly Negative",
          "Highly Negative",
          "Negative",
          "Negative",
          "Highly Positive",
          "Positive",
          "Neutral",
          "Highly Positive",
          "Negative",
          "Highly Positive",
          "Highly Positive",
          "Negative",
          "Negative",
          "Neutral",
          "Negative",
          "Highly Negative",
          "Negative",
          "Highly Negative",
          "Highly Negative",
          "Negative",
          "Highly Negative",
          "Positive",
          "Negative",
          "Negative",
          "Negative",
          "Negative",
          "Highly Negative",
          "Highly Positive",
          "Neutral",
          "Highly Positive",
          "Highly Positive",
          "Neutral",
          "Negative",
          "Neutral",
          "Negative",
          "Neutral",
          "Neutral",
          "Highly Negative",
          "Neutral",
          "Negative",
          "Neutral",
          "Highly Negative",
          "Neutral",
          "Neutral",
          "Neutral",
          "Highly Negative",
          "Neutral",
          "Neutral",
          "Neutral",
          "Highly Negative",
          "Highly Negative",
          "Highly Negative",
          "Neutral",
          "Neutral",
          "Negative",
          "Neutral",
          "Neutral",
          "Negative",
          "Negative",
          "Neutral",
          "Negative",
          "Negative",
          "Neutral",
          "Neutral",
          "Neutral",
          "Negative",
          "Negative",
          "Negative",
          "Neutral",
          "Neutral",
          "Neutral",
          "Neutral",
          "Highly Negative",
          "Neutral",
          "Highly Negative",
          "Neutral",
          "Neutral",
          "Negative",
          "Negative",
          "Highly Negative",
          "Highly Negative",
          "Highly Negative",
          "Neutral",
          "Neutral",
          "Neutral",
          "Neutral",
          "Highly Negative",
          "Highly Negative",
          "Neutral",
          "Neutral",
          "Negative",
          "Neutral",
          "Neutral",
          "Negative",
          "Neutral",
          "Neutral",
          "Negative",
          "Negative",
          "Neutral",
          "Negative",
          "Neutral",
          "Neutral",
          "Neutral",
          "Neutral",
          "Neutral",
          "Slightly Negative",
          "Slightly Negative",
          "Neutral",
          "Highly Negative",
          "Neutral",
          "Highly Negative",
          "Negative",
          "Highly Positive",
          "Neutral",
          "Neutral",
          "Highly Negative",
          "Negative",
          "Negative",
          "Neutral",
          "Negative",
          "Neutral",
          "Negative",
          "Negative",
          "Neutral",
          "Highly Negative",
          "Neutral",
          "Neutral",
          "Negative",
          "Highly Negative",
          "Highly Negative",
          "Highly Negative",
          "Negative",
          "Highly Negative",
          "Negative",
          "Negative",
          "Highly Negative",
          "Negative",
          "Highly Negative",
          "Negative",
          "Neutral",
          "Negative",
          "Highly Negative",
          "Highly Negative",
          "Negative",
          "Negative",
          "Highly Negative",
          "Highly Negative",
          "Highly Negative",
          "Negative",
          "Highly Negative",
          "Neutral",
          "Negative",
          "Highly Negative",
          "Highly Negative",
          "Neutral",
          "Neutral",
          "Negative",
          "Highly Negative",
          "Highly Negative",
          "Negative",
          "Negative",
          "Highly Negative",
          "Highly Negative",
          "Highly Negative",
          "Negative",
          "Highly Negative",
          "Positive",
          "Neutral",
          "Neutral",
          "Neutral",
          "Negative",
          "Highly Negative",
          "Slightly Positive",
          "Highly Negative",
          "Negative",
          "Negative",
          "Highly Negative",
          "Negative",
          "Neutral",
          "Neutral",
          "Slightly Negative",
          "Neutral",
          "Negative",
          "Neutral",
          "Highly Negative",
          "Neutral",
          "Positive",
          "Negative",
          "Negative",
          "Neutral",
          "Neutral",
          "Neutral",
          "Neutral",
          "Positive",
          "Highly Negative",
          "Neutral",
          "Negative",
          "Highly Positive",
          "Neutral",
          "Neutral",
          "Positive",
          "Highly Positive",
          "Highly Positive",
          "Highly Positive",
          "Highly Negative",
          "Neutral",
          "Neutral",
          "Positive",
          "Neutral",
          "Neutral",
          "Highly Negative",
          "Negative",
          "Negative",
          "Neutral",
          "Neutral",
          "Neutral",
          "Highly Negative",
          "Neutral",
          "Negative",
          "Highly Positive",
          "Neutral",
          "Highly Positive",
          "Neutral",
          "Highly Negative",
          "Negative",
          "Neutral",
          "Neutral",
          "Neutral",
          "Positive",
          "Negative",
          "Neutral",
          "Highly Negative",
          "Neutral",
          "Neutral",
          "Neutral",
          "Neutral",
          "Neutral",
          "Neutral",
          "Neutral",
          "Neutral",
          "Negative",
          "Negative",
          "Neutral",
          "Neutral",
          "Neutral",
          "Neutral",
          "Highly Positive",
          "Negative",
          "Negative",
          "Neutral",
          "Negative",
          "Neutral",
          "Highly Positive",
          "Positive",
          "Neutral",
          "Neutral",
          "Neutral",
          "Highly Positive",
          "Negative",
          "Negative",
          "Neutral",
          "Neutral",
          "Highly Negative",
          "Neutral",
          "Neutral",
          "Neutral",
          "Neutral",
          "Neutral",
          "Neutral",
          "Neutral",
          "Neutral",
          "Neutral",
          "Neutral",
          "Highly Negative",
          "Negative",
          "Negative",
          "Positive",
          "Highly Negative",
          "Neutral",
          "Highly Negative",
          "Highly Negative",
          "Highly Negative",
          "Highly Negative",
          "Neutral",
          "Neutral",
          "Neutral",
          "Highly Negative",
          "Neutral",
          "Neutral",
          "Negative",
          "Neutral",
          "Neutral",
          "Neutral",
          "Highly Positive",
          "Neutral",
          "Highly Negative",
          "Neutral",
          "Neutral",
          "Neutral",
          "Neutral",
          "Neutral",
          "Neutral",
          "Highly Negative",
          "Negative",
          "Neutral",
          "Neutral",
          "Neutral",
          "Neutral",
          "Neutral",
          "Neutral",
          "Neutral",
          "Negative",
          "Neutral",
          "Highly Positive",
          "Neutral",
          "Neutral",
          "Neutral",
          "Negative",
          "Neutral",
          "Neutral",
          "Positive",
          "Neutral",
          "Highly Positive",
          "Highly Positive",
          "Highly Negative",
          "Neutral",
          "Neutral",
          "Positive",
          "Negative",
          "Slightly Positive",
          "Slightly Positive",
          "Neutral",
          "Neutral",
          "Highly Negative",
          "Neutral",
          "Neutral",
          "Negative",
          "Highly Negative",
          "Positive",
          "Highly Negative",
          "Negative",
          "Negative",
          "Neutral",
          "Negative",
          "Highly Negative",
          "Neutral",
          "Neutral",
          "Neutral",
          "Neutral",
          "Highly Negative",
          "Slightly Negative",
          "Neutral",
          "Neutral",
          "Neutral",
          "Highly Positive",
          "Neutral",
          "Negative",
          "Neutral",
          "Highly Negative",
          "Highly Negative",
          "Neutral",
          "Highly Positive",
          "Negative",
          "Neutral",
          "Neutral",
          "Neutral",
          "Neutral",
          "Neutral",
          "Highly Negative",
          "Neutral",
          "Neutral",
          "Neutral",
          "Neutral",
          "Neutral",
          "Negative",
          "Negative",
          "Slightly Positive",
          "Negative",
          "Neutral",
          "Positive",
          "Positive",
          "Negative",
          "Negative",
          "Highly Negative",
          "Highly Negative",
          "Highly Negative",
          "Highly Negative",
          "Neutral",
          "Highly Positive",
          "Neutral",
          "Neutral",
          "Neutral",
          "Neutral",
          "Neutral",
          "Neutral",
          "Positive",
          "Negative",
          "Slightly Negative",
          "Positive",
          "Neutral",
          "Negative",
          "Neutral",
          "Highly Negative",
          "Highly Negative",
          "Negative",
          "Negative",
          "Highly Negative",
          "Highly Negative",
          "Neutral",
          "Neutral",
          "Slightly Positive",
          "Neutral",
          "Neutral",
          "Negative",
          "Highly Positive",
          "Highly Positive",
          "Neutral",
          "Neutral",
          "Neutral",
          "Neutral",
          "Highly Negative",
          "Neutral",
          "Highly Negative",
          "Neutral",
          "Highly Negative",
          "Negative",
          "Negative",
          "Neutral",
          "Neutral",
          "Neutral",
          "Neutral",
          "Negative",
          "Negative",
          "Neutral",
          "Neutral",
          "Highly Positive",
          "Negative",
          "Neutral",
          "Neutral",
          "Negative",
          "Positive",
          "Negative",
          "Neutral",
          "Neutral",
          "Highly Positive",
          "Highly Positive",
          "Highly Negative",
          "Highly Negative",
          "Neutral",
          "Positive",
          "Negative",
          "Negative",
          "Negative",
          "Neutral",
          "Neutral",
          "Negative",
          "Positive",
          "Highly Negative",
          "Negative",
          "Negative",
          "Negative",
          "Negative",
          "Negative",
          "Highly Negative",
          "Neutral",
          "Negative",
          "Highly Negative",
          "Neutral",
          "Highly Negative",
          "Neutral",
          "Negative",
          "Neutral",
          "Neutral",
          "Neutral",
          "Negative",
          "Negative",
          "Negative",
          "Negative",
          "Neutral",
          "Highly Negative",
          "Slightly Positive",
          "Neutral",
          "Neutral",
          "Highly Negative",
          "Neutral",
          "Neutral",
          "Highly Negative",
          "Neutral",
          "Neutral",
          "Neutral",
          "Neutral",
          "Neutral",
          "Neutral",
          "Neutral",
          "Neutral",
          "Neutral",
          "Neutral",
          "Negative",
          "Negative",
          "Negative",
          "Highly Negative",
          "Positive",
          "Neutral",
          "Neutral",
          "Neutral",
          "Negative",
          "Negative",
          "Neutral",
          "Highly Negative",
          "Highly Negative",
          "Neutral",
          "Negative",
          "Neutral",
          "Neutral",
          "Highly Negative",
          "Highly Negative",
          "Negative",
          "Negative",
          "Highly Negative",
          "Negative",
          "Highly Negative",
          "Highly Negative",
          "Negative",
          "Neutral",
          "Negative",
          "Neutral",
          "Neutral",
          "Neutral",
          "Neutral",
          "Positive",
          "Neutral",
          "Neutral",
          "Neutral",
          "Neutral",
          "Highly Negative",
          "Negative",
          "Highly Negative",
          "Negative",
          "Neutral",
          "Neutral",
          "Highly Negative",
          "Highly Negative",
          "Negative",
          "Neutral",
          "Neutral",
          "Highly Negative",
          "Highly Negative",
          "Negative",
          "Negative",
          "Negative",
          "Negative",
          "Slightly Negative",
          "Highly Negative",
          "Negative",
          "Highly Negative",
          "Highly Negative",
          "Highly Negative",
          "Neutral",
          "Neutral",
          "Neutral",
          "Neutral",
          "Neutral",
          "Negative",
          "Neutral",
          "Negative",
          "Neutral",
          "Negative",
          "Positive",
          "Neutral",
          "Neutral",
          "Highly Positive",
          "Negative",
          "Highly Negative",
          "Negative",
          "Negative",
          "Neutral",
          "Neutral",
          "Highly Negative",
          "Negative",
          "Negative",
          "Negative",
          "Neutral",
          "Negative",
          "Negative",
          "Negative",
          "Negative",
          "Highly Negative",
          "Highly Negative",
          "Highly Negative",
          "Highly Negative",
          "Neutral",
          "Highly Negative",
          "Highly Positive",
          "Neutral",
          "Neutral",
          "Neutral",
          "Neutral",
          "Neutral",
          "Neutral",
          "Neutral",
          "Negative",
          "Positive",
          "Neutral",
          "Positive",
          "Neutral",
          "Highly Negative",
          "Highly Negative",
          "Neutral",
          "Highly Negative",
          "Neutral",
          "Negative",
          "Negative",
          "Negative",
          "Negative",
          "Neutral",
          "Highly Positive",
          "Negative",
          "Neutral",
          "Neutral",
          "Highly Positive",
          "Negative",
          "Highly Negative",
          "Neutral",
          "Neutral",
          "Neutral",
          "Neutral",
          "Highly Positive",
          "Highly Negative",
          "Neutral",
          "Negative",
          "Negative",
          "Negative",
          "Neutral",
          "Highly Positive",
          "Neutral",
          "Neutral",
          "Highly Negative",
          "Negative",
          "Positive",
          "Neutral",
          "Neutral",
          "Highly Negative",
          "Slightly Negative",
          "Slightly Negative",
          "Slightly Negative",
          "Neutral",
          "Positive",
          "Negative",
          "Negative",
          "Negative",
          "Highly Positive",
          "Neutral",
          "Negative",
          "Neutral",
          "Neutral",
          "Neutral",
          "Slightly Negative",
          "Highly Positive",
          "Positive",
          "Positive",
          "Slightly Negative",
          "Neutral",
          "Neutral",
          "Neutral",
          "Neutral",
          "Neutral",
          "Neutral",
          "Neutral",
          "Neutral",
          "Neutral",
          "Neutral",
          "Neutral",
          "Negative",
          "Neutral",
          "Negative",
          "Highly Positive",
          "Highly Negative",
          "Neutral",
          "Neutral",
          "Neutral",
          "Negative",
          "Negative",
          "Negative",
          "Negative",
          "Negative",
          "Negative",
          "Negative",
          "Neutral",
          "Neutral",
          "Highly Negative",
          "Negative",
          "Highly Negative",
          "Highly Negative",
          "Neutral",
          "Neutral",
          "Neutral",
          "Neutral",
          "Neutral",
          "Neutral",
          "Neutral",
          "Highly Negative",
          "Highly Negative",
          "Negative",
          "Neutral",
          "Slightly Negative",
          "Slightly Negative",
          "Highly Positive",
          "Neutral",
          "Neutral",
          "Positive",
          "Neutral",
          "Highly Negative",
          "Highly Negative",
          "Neutral",
          "Negative",
          "Neutral",
          "Highly Positive",
          "Negative",
          "Neutral",
          "Negative",
          "Highly Negative",
          "Neutral",
          "Negative",
          "Neutral",
          "Neutral",
          "Neutral",
          "Neutral",
          "Neutral",
          "Negative",
          "Neutral",
          "Negative",
          "Negative",
          "Negative",
          "Highly Positive",
          "Neutral",
          "Negative",
          "Neutral",
          "Highly Positive",
          "Negative",
          "Negative",
          "Neutral",
          "Neutral",
          "Neutral",
          "Neutral",
          "Neutral",
          "Neutral",
          "Neutral",
          "Neutral",
          "Neutral",
          "Neutral",
          "Negative",
          "Highly Positive",
          "Highly Negative",
          "Negative",
          "Neutral",
          "Neutral",
          "Negative",
          "Negative",
          "Neutral",
          "Negative",
          "Neutral",
          "Positive",
          "Neutral",
          "Neutral",
          "Neutral",
          "Highly Negative",
          "Highly Negative",
          "Slightly Negative",
          "Neutral",
          "Negative",
          "Neutral",
          "Neutral",
          "Neutral",
          "Negative",
          "Highly Negative",
          "Neutral",
          "Neutral",
          "Highly Negative",
          "Positive",
          "Negative",
          "Negative",
          "Highly Negative",
          "Neutral",
          "Highly Negative",
          "Neutral",
          "Negative",
          "Highly Negative",
          "Highly Negative",
          "Neutral",
          "Negative",
          "Highly Negative",
          "Neutral",
          "Neutral",
          "Negative",
          "Neutral",
          "Negative",
          "Neutral",
          "Highly Positive",
          "Neutral",
          "Neutral",
          "Neutral",
          "Slightly Negative",
          "Negative",
          "Negative",
          "Negative",
          "Negative",
          "Negative",
          "Highly Negative",
          "Negative",
          "Negative",
          "Neutral",
          "Neutral",
          "Highly Negative",
          "Highly Negative",
          "Negative",
          "Negative",
          "Negative",
          "Negative",
          "Negative",
          "Highly Negative",
          "Negative",
          "Highly Negative",
          "Highly Negative",
          "Positive",
          "Negative",
          "Negative",
          "Neutral",
          "Positive",
          "Highly Negative",
          "Highly Negative",
          "Negative",
          "Highly Negative",
          "Neutral",
          "Neutral",
          "Neutral",
          "Highly Negative",
          "Positive",
          "Neutral",
          "Neutral",
          "Positive",
          "Highly Positive",
          "Highly Positive",
          "Neutral",
          "Negative",
          "Negative",
          "Neutral",
          "Negative",
          "Negative",
          "Neutral",
          "Neutral",
          "Neutral",
          "Negative",
          "Negative",
          "Positive",
          "Neutral",
          "Negative",
          "Highly Negative",
          "Highly Negative",
          "Negative",
          "Negative",
          "Positive",
          "Neutral",
          "Neutral",
          "Highly Positive",
          "Neutral",
          "Negative",
          "Negative",
          "Negative",
          "Negative",
          "Neutral",
          "Negative",
          "Neutral",
          "Highly Negative",
          "Neutral",
          "Neutral",
          "Highly Positive",
          "Highly Positive",
          "Neutral",
          "Positive",
          "Neutral",
          "Highly Negative",
          "Negative",
          "Negative",
          "Negative",
          "Negative",
          "Neutral",
          "Neutral",
          "Highly Negative",
          "Neutral",
          "Highly Positive",
          "Negative",
          "Neutral",
          "Negative",
          "Neutral",
          "Neutral",
          "Neutral",
          "Neutral",
          "Negative",
          "Neutral",
          "Negative",
          "Negative",
          "Negative",
          "Highly Negative",
          "Neutral",
          "Negative",
          "Neutral",
          "Neutral",
          "Highly Negative",
          "Neutral",
          "Neutral",
          "Highly Negative",
          "Highly Negative",
          "Highly Negative",
          "Negative",
          "Negative",
          "Negative",
          "Negative",
          "Neutral",
          "Neutral",
          "Neutral",
          "Neutral",
          "Neutral",
          "Negative",
          "Neutral",
          "Negative",
          "Neutral",
          "Neutral",
          "Neutral",
          "Negative",
          "Neutral",
          "Negative",
          "Neutral",
          "Neutral",
          "Neutral",
          "Neutral",
          "Neutral",
          "Neutral",
          "Neutral",
          "Negative",
          "Negative",
          "Neutral",
          "Highly Negative",
          "Negative",
          "Negative",
          "Neutral",
          "Neutral",
          "Negative",
          "Highly Negative",
          "Highly Negative",
          "Neutral",
          "Neutral",
          "Neutral",
          "Negative",
          "Neutral",
          "Neutral",
          "Negative",
          "Neutral",
          "Neutral",
          "Neutral",
          "Neutral",
          "Neutral",
          "Highly Negative",
          "Neutral",
          "Highly Negative",
          "Neutral",
          "Negative",
          "Neutral",
          "Neutral",
          "Neutral",
          "Highly Positive",
          "Neutral",
          "Neutral",
          "Neutral",
          "Positive",
          "Negative",
          "Highly Negative",
          "Negative",
          "Highly Negative",
          "Negative",
          "Neutral",
          "Negative",
          "Positive",
          "Neutral",
          "Negative",
          "Highly Positive",
          "Slightly Positive",
          "Positive",
          "Neutral",
          "Highly Positive",
          "Neutral",
          "Neutral",
          "Neutral",
          "Neutral",
          "Neutral",
          "Highly Positive",
          "Neutral",
          "Highly Negative",
          "Neutral",
          "Neutral",
          "Highly Negative",
          "Negative",
          "Neutral",
          "Negative",
          "Negative",
          "Negative",
          "Highly Negative",
          "Negative",
          "Neutral",
          "Neutral",
          "Highly Negative",
          "Neutral",
          "Negative",
          "Negative",
          "Negative",
          "Neutral",
          "Highly Negative",
          "Highly Negative",
          "Highly Negative",
          "Highly Negative",
          "Negative",
          "Highly Negative",
          "Highly Negative",
          "Neutral",
          "Neutral",
          "Highly Negative",
          "Neutral",
          "Neutral",
          "Highly Negative",
          "Negative",
          "Neutral",
          "Neutral",
          "Highly Positive",
          "Neutral",
          "Neutral",
          "Neutral",
          "Highly Negative",
          "Highly Negative",
          "Neutral",
          "Neutral",
          "Neutral",
          "Neutral",
          "Highly Negative",
          "Highly Negative",
          "Neutral",
          "Negative",
          "Highly Negative",
          "Highly Negative",
          "Highly Negative",
          "Highly Negative",
          "Negative",
          "Neutral",
          "Negative",
          "Neutral",
          "Negative",
          "Neutral",
          "Negative",
          "Negative",
          "Highly Negative",
          "Neutral",
          "Neutral",
          "Negative",
          "Negative",
          "Neutral",
          "Neutral",
          "Neutral",
          "Neutral",
          "Neutral",
          "Neutral",
          "Negative",
          "Negative",
          "Highly Negative",
          "Negative",
          "Positive",
          "Neutral",
          "Negative",
          "Neutral",
          "Highly Negative",
          "Highly Negative",
          "Neutral",
          "Negative",
          "Negative",
          "Negative",
          "Negative",
          "Neutral",
          "Neutral",
          "Neutral",
          "Highly Negative",
          "Highly Negative",
          "Negative",
          "Neutral",
          "Neutral",
          "Neutral",
          "Neutral",
          "Neutral",
          "Neutral",
          "Neutral",
          "Neutral",
          "Neutral",
          "Negative",
          "Neutral",
          "Highly Negative",
          "Neutral",
          "Negative",
          "Neutral",
          "Neutral",
          "Neutral",
          "Negative",
          "Negative",
          "Negative",
          "Neutral",
          "Highly Negative",
          "Negative",
          "Positive",
          "Neutral",
          "Neutral",
          "Highly Negative",
          "Neutral",
          "Positive",
          "Negative",
          "Negative",
          "Negative",
          "Negative",
          "Neutral",
          "Slightly Negative",
          "Slightly Negative",
          "Highly Negative",
          "Negative",
          "Negative",
          "Negative",
          "Negative",
          "Negative",
          "Neutral",
          "Neutral",
          "Neutral",
          "Highly Negative",
          "Neutral",
          "Neutral",
          "Negative",
          "Neutral",
          "Neutral",
          "Neutral",
          "Neutral",
          "Neutral",
          "Neutral",
          "Neutral",
          "Neutral",
          "Slightly Negative",
          "Neutral",
          "Neutral",
          "Positive",
          "Neutral",
          "Positive",
          "Positive",
          "Positive",
          "Negative",
          "Positive",
          "Positive",
          "Neutral",
          "Neutral",
          "Negative",
          "Neutral",
          "Negative",
          "Neutral",
          "Neutral",
          "Neutral",
          "Neutral",
          "Neutral",
          "Negative",
          "Neutral",
          "Highly Negative",
          "Neutral",
          "Highly Negative",
          "Negative",
          "Highly Negative",
          "Highly Negative",
          "Neutral",
          "Neutral",
          "Highly Negative",
          "Negative",
          "Neutral",
          "Neutral",
          "Neutral",
          "Highly Positive",
          "Neutral",
          "Negative",
          "Negative",
          "Neutral",
          "Slightly Negative",
          "Neutral",
          "Neutral",
          "Neutral",
          "Highly Negative",
          "Highly Negative",
          "Neutral",
          "Negative",
          "Neutral",
          "Neutral",
          "Neutral",
          "Neutral",
          "Slightly Negative",
          "Neutral",
          "Neutral",
          "Neutral",
          "Highly Negative",
          "Neutral",
          "Neutral",
          "Neutral",
          "Negative",
          "Negative",
          "Neutral",
          "Highly Positive",
          "Neutral",
          "Neutral",
          "Neutral",
          "Neutral",
          "Neutral",
          "Positive",
          "Positive",
          "Neutral",
          "Neutral",
          "Neutral",
          "Highly Negative",
          "Negative",
          "Negative",
          "Negative",
          "Neutral",
          "Positive",
          "Positive",
          "Negative",
          "Negative",
          "Negative",
          "Neutral",
          "Negative",
          "Neutral",
          "Neutral",
          "Neutral",
          "Neutral",
          "Slightly Negative",
          "Highly Negative",
          "Neutral",
          "Neutral",
          "Highly Negative",
          "Neutral",
          "Neutral",
          "Neutral",
          "Neutral",
          "Highly Negative",
          "Neutral",
          "Highly Negative",
          "Neutral",
          "Negative",
          "Neutral",
          "Neutral",
          "Neutral",
          "Neutral",
          "Neutral",
          "Neutral",
          "Highly Negative",
          "Negative",
          "Highly Negative",
          "Neutral",
          "Highly Negative",
          "Negative",
          "Neutral",
          "Neutral",
          "Negative",
          "Neutral",
          "Neutral",
          "Negative",
          "Neutral",
          "Neutral",
          "Highly Negative",
          "Negative",
          "Highly Negative",
          "Neutral",
          "Neutral",
          "Neutral",
          "Highly Negative",
          "Neutral",
          "Highly Negative",
          "Negative",
          "Highly Negative",
          "Negative",
          "Neutral",
          "Neutral",
          "Neutral",
          "Highly Negative",
          "Neutral",
          "Negative",
          "Negative",
          "Neutral",
          "Neutral",
          "Neutral",
          "Neutral",
          "Highly Negative",
          "Highly Negative",
          "Negative",
          "Neutral",
          "Highly Negative",
          "Highly Negative",
          "Negative",
          "Negative",
          "Negative",
          "Neutral",
          "Positive",
          "Neutral",
          "Highly Negative",
          "Neutral",
          "Negative",
          "Neutral",
          "Highly Negative",
          "Negative",
          "Neutral",
          "Neutral",
          "Neutral",
          "Neutral",
          "Neutral",
          "Neutral",
          "Negative",
          "Positive",
          "Neutral",
          "Negative",
          "Highly Negative",
          "Neutral",
          "Negative",
          "Highly Negative",
          "Negative",
          "Highly Positive",
          "Negative",
          "Positive",
          "Neutral",
          "Highly Positive",
          "Neutral",
          "Neutral",
          "Neutral",
          "Neutral",
          "Neutral",
          "Negative",
          "Neutral",
          "Neutral",
          "Negative",
          "Negative",
          "Neutral",
          "Highly Negative",
          "Neutral",
          "Neutral",
          "Negative",
          "Neutral",
          "Neutral",
          "Neutral",
          "Negative",
          "Neutral",
          "Neutral",
          "Neutral",
          "Neutral",
          "Neutral",
          "Negative",
          "Neutral",
          "Neutral",
          "Neutral",
          "Negative",
          "Neutral",
          "Neutral",
          "Positive",
          "Neutral",
          "Highly Negative",
          "Negative",
          "Negative",
          "Negative",
          "Negative",
          "Highly Negative",
          "Highly Negative",
          "Negative",
          "Neutral",
          "Neutral",
          "Negative",
          "Neutral",
          "Negative",
          "Neutral",
          "Neutral",
          "Neutral",
          "Negative",
          "Neutral",
          "Neutral",
          "Neutral",
          "Negative",
          "Neutral",
          "Neutral",
          "Negative",
          "Neutral",
          "Neutral",
          "Negative",
          "Neutral",
          "Slightly Negative",
          "Negative",
          "Highly Negative",
          "Negative",
          "Negative",
          "Neutral",
          "Negative",
          "Highly Positive",
          "Neutral",
          "Neutral",
          "Highly Negative",
          "Highly Negative",
          "Highly Negative",
          "Highly Negative",
          "Highly Negative",
          "Highly Negative",
          "Highly Negative",
          "Highly Negative",
          "Negative",
          "Highly Negative",
          "Neutral",
          "Negative",
          "Highly Negative",
          "Neutral",
          "Neutral",
          "Negative",
          "Neutral",
          "Highly Negative",
          "Highly Negative",
          "Negative",
          "Highly Negative",
          "Neutral",
          "Negative",
          "Highly Negative",
          "Negative",
          "Neutral",
          "Neutral",
          "Negative",
          "Neutral",
          "Neutral",
          "Neutral",
          "Neutral",
          "Neutral",
          "Negative",
          "Neutral",
          "Neutral",
          "Neutral",
          "Neutral",
          "Neutral",
          "Neutral",
          "Neutral",
          "Negative",
          "Neutral",
          "Neutral",
          "Neutral",
          "Neutral",
          "Negative",
          "Neutral",
          "Neutral",
          "Highly Positive",
          "Neutral",
          "Negative",
          "Neutral",
          "Neutral",
          "Neutral",
          "Negative",
          "Negative",
          "Neutral",
          "Highly Negative",
          "Neutral",
          "Highly Positive",
          "Highly Positive",
          "Neutral",
          "Neutral",
          "Positive",
          "Neutral",
          "Negative",
          "Neutral",
          "Neutral",
          "Neutral",
          "Negative",
          "Positive",
          "Highly Positive",
          "Highly Positive",
          "Positive",
          "Neutral",
          "Neutral",
          "Negative",
          "Negative",
          "Negative",
          "Neutral",
          "Neutral",
          "Neutral",
          "Positive",
          "Positive",
          "Neutral",
          "Negative",
          "Negative",
          "Highly Positive",
          "Neutral",
          "Neutral",
          "Positive",
          "Positive",
          "Neutral",
          "Neutral",
          "Neutral",
          "Neutral",
          "Neutral",
          "Neutral",
          "Neutral",
          "Neutral",
          "Neutral",
          "Neutral",
          "Neutral",
          "Neutral",
          "Neutral",
          "Neutral",
          "Neutral",
          "Neutral",
          "Neutral",
          "Neutral",
          "Neutral",
          "Neutral",
          "Neutral",
          "Neutral",
          "Neutral",
          "Negative",
          "Highly Negative",
          "Neutral",
          "Neutral",
          "Neutral",
          "Negative",
          "Highly Negative",
          "Highly Negative",
          "Neutral",
          "Neutral",
          "Highly Negative",
          "Highly Negative",
          "Negative",
          "Highly Negative",
          "Negative",
          "Neutral",
          "Negative",
          "Neutral",
          "Highly Negative",
          "Highly Negative",
          "Neutral",
          "Neutral",
          "Highly Negative",
          "Highly Negative",
          "Negative",
          "Negative",
          "Highly Negative",
          "Highly Negative",
          "Neutral",
          "Negative",
          "Negative",
          "Highly Negative",
          "Highly Negative",
          "Highly Negative",
          "Neutral",
          "Negative",
          "Neutral",
          "Highly Negative",
          "Highly Negative",
          "Highly Negative",
          "Slightly Negative",
          "Negative",
          "Negative",
          "Negative",
          "Negative",
          "Neutral",
          "Highly Negative",
          "Highly Negative",
          "Highly Negative",
          "Highly Negative",
          "Highly Negative",
          "Highly Negative",
          "Negative",
          "Neutral",
          "Neutral",
          "Neutral",
          "Neutral",
          "Negative",
          "Negative",
          "Neutral",
          "Highly Negative",
          "Neutral",
          "Negative",
          "Neutral",
          "Neutral",
          "Neutral",
          "Highly Negative",
          "Neutral",
          "Highly Negative",
          "Highly Negative",
          "Neutral",
          "Neutral",
          "Neutral",
          "Highly Negative",
          "Highly Negative",
          "Highly Positive",
          "Negative",
          "Neutral",
          "Neutral",
          "Highly Negative",
          "Neutral",
          "Negative",
          "Highly Negative",
          "Neutral",
          "Negative",
          "Neutral",
          "Neutral",
          "Neutral",
          "Highly Negative",
          "Negative",
          "Highly Negative",
          "Neutral",
          "Neutral",
          "Negative",
          "Highly Negative",
          "Negative",
          "Neutral",
          "Neutral",
          "Highly Negative",
          "Neutral",
          "Negative",
          "Neutral",
          "Negative",
          "Neutral",
          "Highly Positive",
          "Highly Negative",
          "Neutral",
          "Neutral",
          "Neutral",
          "Neutral",
          "Positive",
          "Highly Negative",
          "Negative",
          "Neutral",
          "Negative",
          "Negative",
          "Neutral",
          "Neutral",
          "Negative",
          "Highly Negative",
          "Highly Negative",
          "Neutral",
          "Highly Negative",
          "Highly Negative",
          "Highly Negative",
          "Highly Negative",
          "Highly Negative",
          "Slightly Negative",
          "Negative",
          "Negative",
          "Negative",
          "Highly Negative",
          "Highly Negative",
          "Highly Negative",
          "Highly Negative",
          "Neutral",
          "Highly Negative",
          "Neutral",
          "Neutral",
          "Negative",
          "Negative",
          "Highly Negative",
          "Negative",
          "Highly Positive",
          "Highly Negative",
          "Negative",
          "Neutral",
          "Negative",
          "Highly Negative",
          "Negative",
          "Negative",
          "Neutral",
          "Neutral",
          "Neutral",
          "Neutral",
          "Highly Negative",
          "Neutral",
          "Negative",
          "Neutral",
          "Neutral",
          "Positive",
          "Neutral",
          "Neutral",
          "Neutral",
          "Neutral",
          "Neutral",
          "Highly Negative",
          "Neutral",
          "Negative",
          "Highly Negative",
          "Highly Negative",
          "Neutral",
          "Neutral",
          "Neutral",
          "Neutral",
          "Neutral",
          "Neutral",
          "Highly Negative",
          "Neutral",
          "Negative",
          "Neutral",
          "Negative",
          "Negative",
          "Highly Negative",
          "Highly Negative",
          "Neutral",
          "Neutral",
          "Negative",
          "Neutral",
          "Neutral",
          "Negative",
          "Neutral",
          "Negative",
          "Neutral",
          "Negative",
          "Neutral",
          "Neutral",
          "Negative",
          "Neutral",
          "Positive",
          "Neutral",
          "Neutral",
          "Neutral",
          "Negative",
          "Neutral",
          "Negative",
          "Negative",
          "Neutral",
          "Neutral",
          "Neutral",
          "Negative",
          "Highly Negative",
          "Positive",
          "Neutral",
          "Neutral",
          "Neutral",
          "Slightly Negative",
          "Neutral",
          "Negative",
          "Highly Negative",
          "Positive",
          "Highly Negative",
          "Neutral",
          "Negative",
          "Negative",
          "Highly Negative",
          "Neutral",
          "Neutral",
          "Neutral",
          "Neutral",
          "Neutral",
          "Highly Negative",
          "Neutral",
          "Neutral",
          "Neutral",
          "Neutral",
          "Neutral",
          "Highly Negative",
          "Neutral",
          "Negative",
          "Neutral",
          "Highly Negative",
          "Highly Negative",
          "Negative",
          "Negative",
          "Neutral",
          "Negative",
          "Highly Negative",
          "Negative",
          "Neutral",
          "Neutral",
          "Neutral",
          "Neutral",
          "Negative",
          "Negative",
          "Neutral",
          "Neutral",
          "Neutral",
          "Neutral",
          "Neutral",
          "Neutral",
          "Neutral",
          "Negative",
          "Neutral",
          "Neutral",
          "Neutral",
          "Neutral",
          "Neutral",
          "Neutral",
          "Neutral",
          "Neutral",
          "Neutral",
          "Negative",
          "Neutral",
          "Neutral",
          "Highly Negative",
          "Negative",
          "Neutral",
          "Highly Negative",
          "Negative",
          "Highly Negative",
          "Highly Negative",
          "Highly Negative",
          "Neutral",
          "Highly Negative",
          "Negative",
          "Negative",
          "Negative",
          "Negative",
          "Negative",
          "Neutral",
          "Highly Negative",
          "Highly Negative",
          "Neutral",
          "Negative",
          "Negative",
          "Highly Negative",
          "Negative",
          "Neutral",
          "Negative",
          "Neutral",
          "Negative",
          "Neutral",
          "Neutral",
          "Neutral",
          "Neutral",
          "Negative",
          "Highly Negative",
          "Slightly Positive",
          "Neutral",
          "Neutral",
          "Neutral",
          "Neutral",
          "Neutral",
          "Neutral",
          "Neutral",
          "Neutral",
          "Neutral",
          "Negative",
          "Neutral",
          "Positive",
          "Neutral",
          "Neutral",
          "Highly Negative",
          "Negative",
          "Neutral",
          "Neutral",
          "Negative",
          "Neutral",
          "Neutral",
          "Neutral",
          "Negative",
          "Negative",
          "Neutral",
          "Highly Negative",
          "Highly Negative",
          "Highly Negative",
          "Highly Negative",
          "Neutral",
          "Negative",
          "Neutral",
          "Neutral",
          "Neutral",
          "Neutral",
          "Neutral",
          "Neutral",
          "Neutral",
          "Neutral",
          "Neutral",
          "Neutral",
          "Neutral",
          "Neutral",
          "Neutral",
          "Negative",
          "Neutral",
          "Neutral",
          "Neutral",
          "Neutral",
          "Neutral",
          "Neutral",
          "Neutral",
          "Neutral",
          "Neutral",
          "Neutral",
          "Neutral",
          "Neutral",
          "Neutral",
          "Neutral",
          "Neutral",
          "Neutral",
          "Slightly Positive",
          "Neutral",
          "Negative",
          "Neutral",
          "Neutral",
          "Highly Negative",
          "Neutral",
          "Neutral",
          "Neutral",
          "Neutral",
          "Neutral",
          "Neutral",
          "Neutral",
          "Negative",
          "Neutral",
          "Neutral",
          "Neutral",
          "Neutral",
          "Neutral",
          "Neutral",
          "Neutral",
          "Neutral",
          "Neutral",
          "Neutral",
          "Negative",
          "Neutral",
          "Neutral",
          "Neutral",
          "Neutral",
          "Neutral",
          "Neutral",
          "Neutral",
          "Neutral",
          "Neutral",
          "Negative",
          "Neutral",
          "Neutral",
          "Neutral",
          "Neutral",
          "Negative",
          "Neutral",
          "Neutral",
          "Neutral",
          "Neutral",
          "Neutral",
          "Neutral",
          "Positive",
          "Neutral",
          "Neutral",
          "Neutral",
          "Neutral",
          "Neutral",
          "Neutral",
          "Neutral",
          "Neutral",
          "Neutral",
          "Neutral",
          "Neutral",
          "Neutral",
          "Neutral",
          "Neutral",
          "Neutral",
          "Neutral",
          "Neutral",
          "Neutral",
          "Neutral",
          "Neutral",
          "Neutral",
          "Neutral",
          "Neutral",
          "Neutral",
          "Neutral",
          "Negative",
          "Neutral",
          "Neutral",
          "Neutral",
          "Neutral",
          "Neutral",
          "Neutral",
          "Neutral",
          "Neutral",
          "Neutral",
          "Neutral",
          "Neutral",
          "Neutral",
          "Neutral",
          "Neutral",
          "Negative",
          "Neutral",
          "Neutral",
          "Negative",
          "Neutral",
          "Neutral",
          "Neutral",
          "Neutral",
          "Neutral",
          "Neutral",
          "Negative",
          "Neutral",
          "Neutral",
          "Neutral",
          "Neutral",
          "Neutral",
          "Neutral",
          "Neutral",
          "Neutral",
          "Neutral",
          "Neutral",
          "Neutral",
          "Neutral",
          "Negative",
          "Neutral",
          "Neutral",
          "Neutral",
          "Neutral",
          "Neutral",
          "Neutral",
          "Neutral",
          "Neutral",
          "Neutral",
          "Neutral",
          "Neutral",
          "Neutral",
          "Neutral",
          "Neutral",
          "Neutral",
          "Neutral",
          "Neutral",
          "Neutral",
          "Positive",
          "Neutral",
          "Neutral",
          "Highly Negative",
          "Neutral",
          "Neutral",
          "Neutral",
          "Neutral",
          "Neutral",
          "Highly Negative",
          "Neutral",
          "Neutral",
          "Neutral",
          "Neutral",
          "Neutral",
          "Neutral",
          "Positive",
          "Neutral",
          "Highly Negative",
          "Neutral",
          "Positive",
          "Neutral",
          "Slightly Negative",
          "Negative",
          "Positive",
          "Neutral",
          "Negative",
          "Neutral",
          "Neutral",
          "Neutral",
          "Neutral",
          "Neutral",
          "Neutral",
          "Neutral",
          "Neutral",
          "Neutral",
          "Neutral",
          "Neutral",
          "Negative",
          "Neutral",
          "Negative",
          "Neutral",
          "Negative",
          "Neutral",
          "Negative",
          "Neutral",
          "Highly Negative",
          "Neutral",
          "Neutral",
          "Neutral",
          "Negative",
          "Neutral",
          "Highly Negative",
          "Neutral",
          "Neutral",
          "Negative",
          "Neutral",
          "Neutral",
          "Neutral",
          "Neutral",
          "Neutral",
          "Neutral",
          "Neutral",
          "Neutral",
          "Neutral",
          "Neutral",
          "Neutral",
          "Negative",
          "Neutral",
          "Highly Negative",
          "Negative",
          "Neutral",
          "Neutral",
          "Negative",
          "Neutral",
          "Highly Negative",
          "Slightly Negative",
          "Negative",
          "Neutral",
          "Neutral",
          "Neutral",
          "Neutral",
          "Highly Negative",
          "Neutral",
          "Neutral",
          "Neutral",
          "Negative",
          "Negative",
          "Negative",
          "Neutral",
          "Neutral",
          "Negative",
          "Highly Negative",
          "Highly Negative",
          "Neutral",
          "Negative",
          "Negative",
          "Neutral",
          "Neutral",
          "Neutral",
          "Neutral",
          "Neutral",
          "Neutral",
          "Neutral",
          "Neutral",
          "Neutral",
          "Neutral",
          "Neutral",
          "Neutral",
          "Neutral",
          "Positive",
          "Neutral",
          "Neutral",
          "Neutral",
          "Neutral",
          "Negative",
          "Neutral",
          "Negative",
          "Neutral",
          "Neutral",
          "Neutral",
          "Neutral",
          "Negative",
          "Neutral",
          "Negative",
          "Neutral",
          "Neutral",
          "Neutral",
          "Neutral",
          "Neutral",
          "Neutral",
          "Negative",
          "Neutral",
          "Neutral",
          "Neutral",
          "Neutral",
          "Neutral",
          "Neutral",
          "Positive",
          "Neutral",
          "Negative",
          "Neutral",
          "Neutral",
          "Neutral",
          "Neutral",
          "Slightly Negative",
          "Neutral",
          "Neutral",
          "Neutral",
          "Neutral",
          "Positive",
          "Neutral",
          "Highly Positive",
          "Neutral",
          "Neutral",
          "Neutral",
          "Neutral",
          "Neutral",
          "Neutral",
          "Neutral",
          "Neutral",
          "Neutral",
          "Neutral",
          "Neutral",
          "Neutral",
          "Positive",
          "Neutral",
          "Neutral",
          "Negative",
          "Neutral",
          "Slightly Negative",
          "Neutral",
          "Neutral",
          "Neutral",
          "Neutral",
          "Neutral",
          "Positive",
          "Negative",
          "Neutral",
          "Neutral",
          "Neutral",
          "Negative",
          "Positive",
          "Neutral",
          "Positive",
          "Neutral",
          "Highly Negative",
          "Negative",
          "Neutral",
          "Negative",
          "Neutral",
          "Negative",
          "Highly Negative",
          "Negative",
          "Neutral",
          "Negative",
          "Neutral",
          "Neutral",
          "Neutral",
          "Neutral",
          "Negative",
          "Neutral",
          "Positive",
          "Neutral",
          "Neutral",
          "Neutral",
          "Neutral",
          "Neutral",
          "Slightly Negative",
          "Neutral",
          "Neutral",
          "Neutral",
          "Neutral",
          "Neutral",
          "Neutral",
          "Neutral",
          "Negative",
          "Highly Negative",
          "Highly Negative",
          "Neutral",
          "Negative",
          "Neutral",
          "Neutral",
          "Neutral",
          "Neutral",
          "Neutral",
          "Neutral",
          "Neutral",
          "Neutral",
          "Neutral",
          "Highly Negative",
          "Neutral",
          "Neutral",
          "Neutral",
          "Neutral",
          "Neutral",
          "Neutral",
          "Neutral",
          "Negative",
          "Neutral",
          "Neutral",
          "Neutral",
          "Neutral",
          "Neutral",
          "Highly Negative",
          "Neutral",
          "Negative",
          "Neutral",
          "Neutral",
          "Negative",
          "Neutral",
          "Neutral",
          "Neutral",
          "Neutral",
          "Neutral",
          "Neutral",
          "Neutral",
          "Neutral",
          "Negative",
          "Neutral",
          "Highly Negative",
          "Neutral",
          "Highly Negative",
          "Negative",
          "Neutral",
          "Neutral",
          "Neutral",
          "Neutral",
          "Negative",
          "Highly Negative",
          "Neutral",
          "Neutral",
          "Neutral",
          "Neutral",
          "Neutral",
          "Neutral",
          "Neutral",
          "Neutral",
          "Neutral",
          "Neutral",
          "Neutral",
          "Neutral",
          "Neutral",
          "Neutral",
          "Neutral",
          "Neutral",
          "Neutral",
          "Neutral",
          "Neutral",
          "Negative",
          "Neutral",
          "Highly Negative",
          "Highly Negative",
          "Neutral",
          "Neutral",
          "Negative",
          "Neutral",
          "Negative",
          "Negative",
          "Neutral",
          "Highly Negative",
          "Neutral",
          "Neutral",
          "Neutral",
          "Negative",
          "Neutral",
          "Negative",
          "Neutral",
          "Negative",
          "Negative",
          "Neutral",
          "Neutral",
          "Negative",
          "Neutral",
          "Neutral",
          "Negative",
          "Neutral",
          "Negative",
          "Neutral",
          "Neutral",
          "Negative",
          "Negative",
          "Positive",
          "Negative",
          "Highly Positive",
          "Neutral",
          "Neutral",
          "Neutral",
          "Highly Negative",
          "Neutral",
          "Neutral",
          "Neutral",
          "Slightly Negative",
          "Neutral",
          "Neutral",
          "Neutral",
          "Neutral",
          "Neutral",
          "Neutral",
          "Neutral",
          "Neutral",
          "Negative",
          "Neutral",
          "Neutral",
          "Highly Negative",
          "Neutral",
          "Neutral",
          "Highly Negative",
          "Negative",
          "Neutral",
          "Slightly Negative",
          "Neutral",
          "Negative",
          "Neutral",
          "Neutral",
          "Neutral",
          "Neutral",
          "Neutral",
          "Positive",
          "Neutral",
          "Neutral",
          "Negative",
          "Highly Negative",
          "Neutral",
          "Neutral",
          "Negative",
          "Highly Negative",
          "Negative",
          "Negative",
          "Neutral",
          "Neutral",
          "Negative",
          "Highly Negative",
          "Negative",
          "Highly Negative",
          "Highly Negative",
          "Highly Negative",
          "Negative",
          "Neutral",
          "Negative",
          "Neutral",
          "Neutral",
          "Neutral",
          "Neutral",
          "Negative",
          "Negative",
          "Negative",
          "Neutral",
          "Neutral",
          "Negative",
          "Neutral",
          "Neutral",
          "Neutral",
          "Neutral",
          "Highly Negative",
          "Negative",
          "Neutral",
          "Negative",
          "Neutral",
          "Neutral",
          "Positive",
          "Neutral",
          "Positive",
          "Neutral",
          "Neutral",
          "Neutral",
          "Neutral",
          "Neutral",
          "Neutral",
          "Negative",
          "Negative",
          "Neutral",
          "Neutral",
          "Neutral",
          "Neutral",
          "Neutral",
          "Neutral",
          "Neutral",
          "Neutral",
          "Highly Negative",
          "Neutral",
          "Neutral",
          "Neutral",
          "Negative",
          "Highly Negative",
          "Negative",
          "Negative",
          "Neutral",
          "Neutral",
          "Neutral",
          "Neutral",
          "Negative",
          "Neutral",
          "Highly Positive",
          "Neutral",
          "Neutral",
          "Neutral",
          "Negative",
          "Negative",
          "Neutral",
          "Neutral",
          "Negative",
          "Slightly Negative",
          "Negative",
          "Highly Negative",
          "Negative",
          "Highly Negative",
          "Highly Negative",
          "Slightly Negative",
          "Positive",
          "Highly Positive",
          "Neutral",
          "Neutral",
          "Highly Negative",
          "Neutral",
          "Neutral",
          "Highly Negative",
          "Negative",
          "Neutral",
          "Highly Negative",
          "Negative",
          "Neutral",
          "Neutral",
          "Negative",
          "Negative",
          "Neutral",
          "Positive",
          "Neutral",
          "Neutral",
          "Negative",
          "Neutral",
          "Neutral",
          "Neutral",
          "Slightly Negative",
          "Negative",
          "Slightly Negative",
          "Neutral",
          "Neutral",
          "Negative",
          "Negative",
          "Neutral",
          "Neutral",
          "Neutral",
          "Neutral",
          "Neutral",
          "Neutral",
          "Negative",
          "Positive",
          "Neutral",
          "Negative",
          "Positive",
          "Neutral",
          "Neutral",
          "Negative",
          "Neutral",
          "Neutral",
          "Neutral",
          "Negative",
          "Neutral",
          "Highly Positive",
          "Neutral",
          "Neutral",
          "Negative",
          "Neutral",
          "Negative",
          "Highly Negative",
          "Positive",
          "Negative",
          "Negative",
          "Neutral",
          "Neutral",
          "Highly Negative",
          "Highly Negative",
          "Neutral",
          "Neutral",
          "Neutral",
          "Neutral",
          "Neutral",
          "Negative",
          "Neutral",
          "Negative",
          "Negative",
          "Slightly Negative",
          "Neutral",
          "Negative",
          "Negative",
          "Highly Positive",
          "Neutral",
          "Neutral",
          "Negative",
          "Neutral",
          "Neutral",
          "Neutral",
          "Slightly Negative",
          "Highly Negative",
          "Negative",
          "Neutral",
          "Negative",
          "Neutral",
          "Negative",
          "Negative",
          "Highly Negative",
          "Neutral",
          "Slightly Negative",
          "Neutral",
          "Positive",
          "Neutral",
          "Positive",
          "Neutral",
          "Negative",
          "Positive",
          "Neutral",
          "Positive",
          "Neutral",
          "Neutral",
          "Positive",
          "Neutral",
          "Neutral",
          "Neutral",
          "Negative",
          "Neutral",
          "Neutral",
          "Negative",
          "Neutral",
          "Positive",
          "Highly Positive",
          "Positive",
          "Neutral",
          "Neutral",
          "Negative",
          "Neutral",
          "Neutral",
          "Neutral",
          "Neutral",
          "Negative",
          "Positive",
          "Negative",
          "Neutral",
          "Positive",
          "Neutral",
          "Neutral",
          "Neutral",
          "Neutral",
          "Negative",
          "Neutral",
          "Negative",
          "Neutral",
          "Positive",
          "Neutral",
          "Neutral",
          "Neutral",
          "Neutral",
          "Neutral",
          "Negative",
          "Neutral",
          "Neutral",
          "Neutral",
          "Neutral",
          "Neutral",
          "Neutral",
          "Neutral",
          "Neutral",
          "Positive",
          "Neutral",
          "Neutral",
          "Positive",
          "Neutral",
          "Negative",
          "Neutral",
          "Neutral",
          "Neutral",
          "Neutral",
          "Neutral",
          "Negative",
          "Negative",
          "Highly Positive",
          "Negative",
          "Neutral",
          "Positive",
          "Neutral",
          "Neutral",
          "Neutral",
          "Neutral",
          "Positive",
          "Neutral",
          "Neutral",
          "Neutral",
          "Neutral",
          "Neutral",
          "Neutral",
          "Neutral",
          "Neutral",
          "Neutral",
          "Neutral",
          "Neutral",
          "Neutral",
          "Neutral",
          "Neutral",
          "Neutral",
          "Neutral",
          "Neutral",
          "Neutral",
          "Neutral",
          "Neutral",
          "Neutral",
          "Neutral",
          "Slightly Negative",
          "Neutral",
          "Neutral",
          "Highly Negative",
          "Negative",
          "Highly Negative",
          "Neutral",
          "Negative",
          "Negative",
          "Neutral",
          "Neutral",
          "Neutral",
          "Neutral",
          "Neutral",
          "Neutral",
          "Neutral",
          "Neutral",
          "Neutral",
          "Neutral",
          "Neutral",
          "Neutral",
          "Negative",
          "Neutral",
          "Negative",
          "Highly Negative",
          "Negative",
          "Highly Negative",
          "Negative",
          "Neutral",
          "Neutral",
          "Negative",
          "Neutral",
          "Neutral",
          "Neutral",
          "Neutral",
          "Neutral",
          "Neutral",
          "Neutral",
          "Neutral",
          "Negative",
          "Neutral",
          "Negative",
          "Negative",
          "Neutral",
          "Negative",
          "Negative",
          "Neutral",
          "Highly Negative",
          "Neutral",
          "Positive",
          "Negative",
          "Negative",
          "Neutral",
          "Negative",
          "Neutral",
          "Neutral",
          "Negative",
          "Neutral",
          "Neutral",
          "Neutral",
          "Neutral",
          "Highly Negative",
          "Neutral",
          "Neutral",
          "Neutral",
          "Negative",
          "Neutral",
          "Neutral",
          "Highly Positive",
          "Negative",
          "Neutral",
          "Neutral",
          "Neutral",
          "Neutral",
          "Negative",
          "Neutral",
          "Neutral",
          "Neutral",
          "Negative",
          "Negative",
          "Neutral",
          "Neutral",
          "Neutral",
          "Negative",
          "Neutral",
          "Neutral",
          "Negative",
          "Neutral",
          "Neutral",
          "Neutral",
          "Negative",
          "Neutral",
          "Negative",
          "Neutral",
          "Neutral",
          "Highly Positive",
          "Neutral",
          "Negative",
          "Neutral",
          "Negative",
          "Neutral",
          "Negative",
          "Neutral",
          "Neutral",
          "Neutral",
          "Neutral",
          "Neutral",
          "Neutral",
          "Negative",
          "Negative",
          "Negative",
          "Neutral",
          "Negative",
          "Highly Negative",
          "Negative",
          "Neutral",
          "Neutral",
          "Neutral",
          "Neutral",
          "Neutral",
          "Neutral",
          "Neutral",
          "Neutral",
          "Neutral",
          "Neutral",
          "Negative",
          "Neutral",
          "Neutral",
          "Positive",
          "Neutral",
          "Neutral",
          "Neutral",
          "Neutral",
          "Neutral",
          "Neutral",
          "Neutral",
          "Neutral",
          "Neutral",
          "Negative",
          "Negative",
          "Neutral",
          "Negative",
          "Negative",
          "Highly Negative",
          "Neutral",
          "Neutral",
          "Neutral",
          "Neutral",
          "Negative",
          "Positive",
          "Neutral",
          "Highly Negative",
          "Neutral",
          "Neutral",
          "Neutral",
          "Neutral",
          "Neutral",
          "Neutral",
          "Neutral",
          "Neutral",
          "Neutral",
          "Neutral",
          "Neutral",
          "Highly Positive",
          "Neutral",
          "Neutral",
          "Neutral",
          "Slightly Negative",
          "Negative",
          "Neutral",
          "Negative",
          "Neutral",
          "Neutral",
          "Neutral",
          "Negative",
          "Negative",
          "Slightly Negative",
          "Neutral",
          "Neutral",
          "Neutral",
          "Neutral",
          "Neutral",
          "Slightly Negative",
          "Neutral",
          "Neutral",
          "Negative",
          "Neutral",
          "Neutral",
          "Neutral",
          "Neutral",
          "Neutral",
          "Slightly Negative",
          "Neutral",
          "Neutral",
          "Highly Negative",
          "Negative",
          "Neutral",
          "Positive",
          "Neutral",
          "Negative",
          "Neutral",
          "Neutral",
          "Highly Negative",
          "Negative",
          "Neutral",
          "Neutral",
          "Neutral",
          "Neutral",
          "Neutral",
          "Neutral",
          "Neutral",
          "Neutral",
          "Neutral",
          "Neutral",
          "Negative",
          "Negative",
          "Negative",
          "Highly Negative",
          "Positive",
          "Neutral",
          "Neutral",
          "Neutral",
          "Neutral",
          "Highly Positive",
          "Neutral",
          "Neutral",
          "Neutral",
          "Neutral",
          "Neutral",
          "Neutral",
          "Neutral",
          "Negative",
          "Positive",
          "Neutral",
          "Neutral",
          "Highly Positive",
          "Slightly Negative",
          "Negative",
          "Negative",
          "Neutral",
          "Neutral",
          "Neutral",
          "Negative",
          "Neutral",
          "Neutral",
          "Neutral",
          "Negative",
          "Neutral",
          "Highly Negative",
          "Negative",
          "Neutral",
          "Highly Negative",
          "Negative",
          "Negative",
          "Neutral",
          "Neutral",
          "Negative",
          "Neutral",
          "Neutral",
          "Positive",
          "Highly Positive",
          "Neutral",
          "Highly Negative",
          "Neutral",
          "Neutral",
          "Neutral",
          "Negative",
          "Neutral",
          "Neutral",
          "Negative",
          "Neutral",
          "Neutral",
          "Highly Positive",
          "Neutral",
          "Neutral",
          "Negative",
          "Negative",
          "Highly Positive",
          "Negative",
          "Negative",
          "Highly Negative",
          "Neutral",
          "Negative",
          "Negative",
          "Positive",
          "Negative",
          "Neutral",
          "Negative",
          "Negative",
          "Neutral",
          "Neutral",
          "Negative",
          "Neutral",
          "Negative",
          "Neutral",
          "Neutral",
          "Neutral",
          "Neutral",
          "Negative",
          "Neutral",
          "Neutral",
          "Slightly Negative",
          "Neutral",
          "Neutral",
          "Neutral",
          "Neutral",
          "Neutral",
          "Neutral",
          "Highly Negative",
          "Negative",
          "Negative",
          "Neutral",
          "Neutral",
          "Neutral",
          "Negative",
          "Highly Negative",
          "Neutral",
          "Highly Negative",
          "Neutral",
          "Neutral",
          "Neutral",
          "Negative",
          "Neutral",
          "Highly Negative",
          "Highly Negative",
          "Positive",
          "Neutral",
          "Neutral",
          "Neutral",
          "Highly Negative",
          "Neutral",
          "Neutral",
          "Negative",
          "Highly Negative",
          "Negative",
          "Slightly Negative",
          "Neutral",
          "Neutral",
          "Highly Negative",
          "Highly Negative",
          "Neutral",
          "Highly Negative",
          "Neutral",
          "Neutral",
          "Highly Negative",
          "Neutral",
          "Neutral",
          "Negative",
          "Negative",
          "Neutral",
          "Negative",
          "Neutral",
          "Neutral",
          "Neutral",
          "Neutral",
          "Highly Negative",
          "Highly Negative",
          "Negative",
          "Slightly Negative",
          "Neutral",
          "Negative",
          "Neutral",
          "Negative",
          "Neutral",
          "Neutral",
          "Neutral",
          "Neutral",
          "Highly Negative",
          "Neutral",
          "Neutral",
          "Neutral",
          "Positive",
          "Highly Negative",
          "Highly Negative",
          "Highly Negative",
          "Neutral",
          "Negative",
          "Highly Positive",
          "Highly Negative",
          "Neutral",
          "Neutral",
          "Neutral",
          "Negative",
          "Negative",
          "Negative",
          "Neutral",
          "Neutral",
          "Neutral",
          "Highly Negative",
          "Neutral",
          "Neutral",
          "Negative",
          "Negative",
          "Neutral",
          "Negative",
          "Neutral",
          "Neutral",
          "Neutral",
          "Neutral",
          "Neutral",
          "Negative",
          "Negative",
          "Neutral",
          "Neutral",
          "Positive",
          "Neutral",
          "Neutral",
          "Neutral",
          "Neutral",
          "Neutral",
          "Neutral",
          "Neutral",
          "Negative",
          "Neutral",
          "Neutral",
          "Neutral",
          "Neutral",
          "Neutral",
          "Neutral",
          "Negative",
          "Neutral",
          "Negative",
          "Neutral",
          "Neutral",
          "Neutral",
          "Negative",
          "Neutral",
          "Negative",
          "Neutral",
          "Neutral",
          "Neutral",
          "Neutral",
          "Neutral",
          "Negative",
          "Neutral",
          "Neutral",
          "Neutral",
          "Neutral",
          "Neutral",
          "Neutral",
          "Neutral",
          "Neutral",
          "Neutral",
          "Neutral",
          "Neutral",
          "Positive",
          "Neutral",
          "Highly Positive",
          "Neutral",
          "Neutral",
          "Neutral",
          "Neutral",
          "Highly Negative",
          "Neutral",
          "Highly Negative",
          "Negative",
          "Neutral",
          "Neutral",
          "Neutral",
          "Neutral",
          "Negative",
          "Highly Negative",
          "Neutral",
          "Negative",
          "Highly Positive",
          "Slightly Negative",
          "Negative",
          "Neutral",
          "Neutral",
          "Neutral",
          "Neutral",
          "Neutral",
          "Negative",
          "Negative",
          "Neutral",
          "Neutral",
          "Negative",
          "Neutral",
          "Neutral",
          "Neutral",
          "Neutral",
          "Neutral",
          "Neutral",
          "Highly Negative",
          "Neutral",
          "Positive",
          "Neutral",
          "Highly Negative",
          "Neutral",
          "Neutral",
          "Highly Positive",
          "Neutral",
          "Neutral",
          "Neutral",
          "Negative",
          "Positive",
          "Neutral",
          "Highly Positive",
          "Neutral",
          "Neutral",
          "Neutral",
          "Neutral",
          "Neutral",
          "Negative",
          "Neutral",
          "Neutral",
          "Neutral",
          "Neutral",
          "Neutral",
          "Neutral",
          "Neutral",
          "Neutral",
          "Positive",
          "Neutral",
          "Neutral",
          "Neutral",
          "Negative",
          "Neutral",
          "Highly Negative",
          "Neutral",
          "Neutral",
          "Highly Negative",
          "Neutral",
          "Highly Negative",
          "Negative",
          "Neutral",
          "Neutral",
          "Negative",
          "Slightly Positive",
          "Neutral",
          "Positive",
          "Neutral",
          "Highly Negative",
          "Negative",
          "Negative",
          "Neutral",
          "Neutral",
          "Negative",
          "Neutral",
          "Neutral",
          "Positive",
          "Neutral",
          "Neutral",
          "Neutral",
          "Negative",
          "Neutral",
          "Negative",
          "Neutral",
          "Neutral",
          "Highly Positive",
          "Neutral",
          "Neutral",
          "Negative",
          "Neutral",
          "Neutral",
          "Neutral",
          "Neutral",
          "Neutral",
          "Highly Negative",
          "Negative",
          "Highly Negative",
          "Neutral",
          "Negative",
          "Negative",
          "Negative",
          "Negative",
          "Neutral",
          "Neutral",
          "Neutral",
          "Negative",
          "Negative",
          "Positive",
          "Neutral",
          "Highly Negative",
          "Negative",
          "Neutral",
          "Neutral",
          "Neutral",
          "Neutral",
          "Neutral",
          "Neutral",
          "Neutral",
          "Highly Positive",
          "Neutral",
          "Highly Negative",
          "Slightly Negative",
          "Negative",
          "Neutral",
          "Neutral",
          "Neutral",
          "Neutral",
          "Neutral",
          "Negative",
          "Neutral",
          "Neutral",
          "Neutral",
          "Neutral",
          "Neutral",
          "Neutral",
          "Neutral",
          "Negative",
          "Neutral",
          "Neutral",
          "Negative",
          "Neutral",
          "Negative",
          "Negative",
          "Neutral",
          "Neutral",
          "Neutral",
          "Neutral",
          "Negative",
          "Neutral",
          "Negative",
          "Neutral",
          "Negative",
          "Negative",
          "Negative",
          "Neutral",
          "Neutral",
          "Neutral",
          "Neutral",
          "Neutral",
          "Negative",
          "Negative",
          "Negative",
          "Negative",
          "Highly Negative",
          "Highly Negative",
          "Highly Negative",
          "Negative",
          "Neutral",
          "Highly Negative",
          "Neutral",
          "Neutral",
          "Neutral",
          "Highly Negative",
          "Neutral",
          "Neutral",
          "Neutral",
          "Neutral",
          "Neutral",
          "Neutral",
          "Neutral",
          "Negative",
          "Neutral",
          "Neutral",
          "Neutral",
          "Neutral",
          "Neutral",
          "Neutral",
          "Neutral",
          "Neutral",
          "Neutral",
          "Negative",
          "Negative",
          "Neutral",
          "Neutral",
          "Neutral",
          "Neutral",
          "Neutral",
          "Neutral",
          "Neutral",
          "Negative",
          "Negative",
          "Slightly Negative",
          "Neutral",
          "Negative",
          "Negative",
          "Negative",
          "Negative",
          "Negative",
          "Negative",
          "Neutral",
          "Negative",
          "Negative",
          "Negative",
          "Neutral",
          "Negative",
          "Neutral",
          "Neutral",
          "Negative",
          "Highly Negative",
          "Negative",
          "Negative",
          "Positive",
          "Negative",
          "Negative",
          "Neutral",
          "Highly Negative",
          "Neutral",
          "Neutral",
          "Negative",
          "Neutral",
          "Negative",
          "Neutral",
          "Highly Negative",
          "Highly Negative",
          "Neutral",
          "Highly Negative",
          "Highly Negative",
          "Neutral",
          "Neutral",
          "Slightly Negative",
          "Highly Positive",
          "Neutral",
          "Neutral",
          "Neutral",
          "Neutral",
          "Neutral",
          "Negative",
          "Neutral",
          "Negative",
          "Neutral",
          "Neutral",
          "Neutral",
          "Negative",
          "Neutral",
          "Neutral",
          "Neutral",
          "Negative",
          "Neutral",
          "Negative",
          "Negative",
          "Positive",
          "Neutral",
          "Slightly Negative",
          "Negative",
          "Neutral",
          "Negative",
          "Neutral",
          "Neutral",
          "Neutral",
          "Neutral",
          "Neutral",
          "Neutral",
          "Neutral",
          "Negative",
          "Negative",
          "Negative",
          "Neutral",
          "Neutral",
          "Neutral",
          "Negative",
          "Positive",
          "Highly Negative",
          "Negative",
          "Neutral",
          "Neutral",
          "Neutral",
          "Negative",
          "Highly Negative",
          "Negative",
          "Neutral",
          "Highly Negative",
          "Negative",
          "Neutral",
          "Neutral",
          "Highly Negative",
          "Neutral",
          "Slightly Negative",
          "Negative",
          "Negative",
          "Highly Negative",
          "Neutral",
          "Negative",
          "Neutral",
          "Negative",
          "Neutral",
          "Negative",
          "Neutral",
          "Slightly Negative",
          "Neutral",
          "Neutral",
          "Highly Negative",
          "Neutral",
          "Neutral",
          "Negative",
          "Neutral",
          "Negative",
          "Negative",
          "Neutral",
          "Neutral",
          "Neutral",
          "Negative",
          "Positive",
          "Neutral",
          "Negative",
          "Highly Negative",
          "Neutral",
          "Neutral",
          "Negative",
          "Neutral",
          "Negative",
          "Neutral",
          "Neutral",
          "Neutral",
          "Negative",
          "Neutral",
          "Neutral",
          "Negative",
          "Neutral",
          "Highly Negative",
          "Negative",
          "Highly Negative",
          "Neutral",
          "Negative",
          "Negative",
          "Highly Negative",
          "Neutral",
          "Neutral",
          "Neutral",
          "Negative",
          "Neutral",
          "Highly Negative",
          "Highly Negative",
          "Highly Negative",
          "Highly Negative",
          "Slightly Negative",
          "Highly Negative",
          "Neutral",
          "Negative",
          "Negative",
          "Neutral",
          "Neutral",
          "Highly Negative",
          "Neutral",
          "Highly Negative",
          "Neutral",
          "Highly Negative",
          "Highly Negative",
          "Highly Positive",
          "Highly Negative",
          "Neutral",
          "Neutral",
          "Neutral",
          "Highly Negative",
          "Highly Negative",
          "Negative",
          "Highly Negative",
          "Highly Negative",
          "Highly Negative",
          "Negative",
          "Negative",
          "Negative",
          "Neutral",
          "Highly Negative",
          "Negative",
          "Highly Negative",
          "Neutral",
          "Highly Negative",
          "Highly Negative",
          "Neutral",
          "Negative",
          "Neutral",
          "Neutral",
          "Negative",
          "Highly Negative",
          "Negative",
          "Highly Negative",
          "Highly Negative",
          "Highly Negative",
          "Neutral",
          "Negative",
          "Negative",
          "Neutral",
          "Neutral",
          "Neutral",
          "Neutral",
          "Neutral",
          "Negative",
          "Neutral",
          "Negative",
          "Neutral",
          "Highly Negative",
          "Highly Negative",
          "Neutral",
          "Negative",
          "Neutral",
          "Neutral",
          "Highly Negative",
          "Highly Negative",
          "Neutral",
          "Negative",
          "Neutral",
          "Neutral",
          "Negative",
          "Highly Negative",
          "Neutral",
          "Highly Negative",
          "Highly Negative",
          "Neutral",
          "Neutral",
          "Neutral",
          "Highly Negative",
          "Highly Negative",
          "Negative",
          "Neutral",
          "Neutral",
          "Highly Negative",
          "Negative",
          "Negative",
          "Neutral",
          "Highly Negative",
          "Highly Negative",
          "Neutral",
          "Highly Negative",
          "Negative",
          "Negative",
          "Neutral",
          "Highly Negative",
          "Neutral",
          "Negative",
          "Slightly Negative",
          "Neutral",
          "Negative",
          "Highly Negative",
          "Neutral",
          "Negative",
          "Negative",
          "Negative",
          "Highly Negative",
          "Neutral",
          "Highly Negative",
          "Highly Negative",
          "Neutral",
          "Highly Negative",
          "Highly Negative",
          "Neutral",
          "Highly Negative",
          "Highly Negative",
          "Highly Negative",
          "Highly Negative",
          "Highly Negative",
          "Neutral",
          "Highly Negative",
          "Neutral",
          "Negative",
          "Negative",
          "Neutral",
          "Neutral",
          "Neutral",
          "Highly Negative",
          "Negative",
          "Negative",
          "Slightly Negative",
          "Highly Negative",
          "Neutral",
          "Negative",
          "Negative",
          "Slightly Negative",
          "Highly Negative",
          "Neutral",
          "Highly Negative",
          "Neutral",
          "Neutral",
          "Highly Negative",
          "Highly Negative",
          "Highly Negative",
          "Negative",
          "Negative",
          "Highly Negative",
          "Negative",
          "Highly Negative",
          "Highly Negative",
          "Negative",
          "Highly Negative",
          "Negative",
          "Neutral",
          "Highly Negative",
          "Neutral",
          "Highly Negative",
          "Neutral",
          "Negative",
          "Highly Negative",
          "Highly Negative",
          "Neutral",
          "Negative",
          "Neutral",
          "Neutral",
          "Neutral",
          "Neutral",
          "Negative",
          "Highly Negative",
          "Negative",
          "Negative",
          "Negative",
          "Neutral",
          "Highly Negative",
          "Neutral",
          "Neutral",
          "Neutral",
          "Neutral",
          "Highly Negative",
          "Neutral",
          "Neutral",
          "Neutral",
          "Highly Negative",
          "Neutral",
          "Neutral",
          "Highly Negative",
          "Neutral",
          "Negative",
          "Highly Negative",
          "Neutral",
          "Highly Negative",
          "Highly Negative",
          "Highly Negative",
          "Neutral",
          "Negative",
          "Negative",
          "Neutral",
          "Neutral",
          "Highly Negative",
          "Neutral",
          "Highly Negative",
          "Highly Negative",
          "Neutral",
          "Highly Negative",
          "Neutral",
          "Negative",
          "Neutral",
          "Neutral",
          "Neutral",
          "Negative",
          "Highly Negative",
          "Neutral",
          "Neutral",
          "Highly Negative",
          "Neutral",
          "Negative",
          "Negative",
          "Negative",
          "Neutral",
          "Neutral",
          "Highly Negative",
          "Neutral",
          "Highly Negative",
          "Highly Negative",
          "Neutral",
          "Neutral",
          "Neutral",
          "Highly Negative",
          "Neutral",
          "Slightly Negative",
          "Highly Negative",
          "Negative",
          "Highly Negative",
          "Negative",
          "Highly Negative",
          "Highly Negative",
          "Highly Negative",
          "Highly Negative",
          "Neutral",
          "Highly Negative",
          "Neutral",
          "Neutral",
          "Neutral",
          "Highly Negative",
          "Highly Negative",
          "Neutral",
          "Negative",
          "Highly Negative",
          "Negative",
          "Highly Negative",
          "Neutral",
          "Highly Negative",
          "Negative",
          "Neutral",
          "Highly Negative",
          "Neutral",
          "Neutral",
          "Neutral",
          "Negative",
          "Negative",
          "Negative",
          "Highly Negative",
          "Negative",
          "Highly Negative",
          "Highly Negative",
          "Positive",
          "Highly Negative",
          "Highly Negative",
          "Neutral",
          "Neutral",
          "Highly Negative",
          "Neutral",
          "Positive",
          "Positive",
          "Neutral",
          "Neutral",
          "Negative",
          "Highly Negative",
          "Highly Negative",
          "Neutral",
          "Neutral",
          "Highly Negative",
          "Negative",
          "Slightly Negative",
          "Neutral",
          "Negative",
          "Highly Negative",
          "Neutral",
          "Neutral",
          "Highly Positive",
          "Highly Negative",
          "Neutral",
          "Negative",
          "Neutral",
          "Neutral",
          "Neutral",
          "Neutral",
          "Neutral",
          "Neutral",
          "Neutral",
          "Neutral",
          "Neutral",
          "Highly Negative",
          "Highly Negative",
          "Neutral",
          "Neutral",
          "Neutral",
          "Highly Negative",
          "Neutral",
          "Neutral",
          "Negative",
          "Neutral",
          "Highly Negative",
          "Negative",
          "Highly Negative",
          "Negative",
          "Neutral",
          "Highly Negative",
          "Highly Negative",
          "Neutral",
          "Highly Negative",
          "Negative",
          "Neutral",
          "Neutral",
          "Negative",
          "Highly Negative",
          "Highly Negative",
          "Negative",
          "Highly Negative",
          "Highly Negative",
          "Negative",
          "Highly Negative",
          "Neutral",
          "Highly Negative",
          "Negative",
          "Neutral",
          "Highly Negative",
          "Negative",
          "Negative",
          "Negative",
          "Highly Negative",
          "Negative",
          "Highly Negative",
          "Highly Negative",
          "Highly Negative",
          "Highly Negative",
          "Negative",
          "Highly Negative",
          "Highly Negative",
          "Negative",
          "Neutral",
          "Highly Negative",
          "Highly Negative",
          "Highly Negative",
          "Highly Negative",
          "Neutral",
          "Highly Negative",
          "Highly Negative",
          "Highly Negative",
          "Highly Negative",
          "Negative",
          "Highly Negative",
          "Highly Negative",
          "Highly Negative",
          "Highly Negative",
          "Negative",
          "Highly Negative",
          "Neutral",
          "Negative",
          "Neutral",
          "Neutral",
          "Neutral",
          "Slightly Negative",
          "Highly Negative",
          "Negative",
          "Neutral",
          "Slightly Negative",
          "Neutral",
          "Negative",
          "Highly Negative",
          "Highly Negative",
          "Negative",
          "Highly Negative",
          "Highly Negative",
          "Highly Negative",
          "Highly Negative",
          "Neutral",
          "Negative",
          "Negative",
          "Negative",
          "Neutral",
          "Highly Negative",
          "Highly Negative",
          "Highly Negative",
          "Neutral",
          "Neutral",
          "Neutral",
          "Neutral",
          "Neutral",
          "Neutral",
          "Negative",
          "Negative",
          "Negative",
          "Neutral",
          "Highly Negative",
          "Negative",
          "Highly Negative",
          "Neutral",
          "Negative",
          "Negative",
          "Highly Negative",
          "Highly Negative",
          "Highly Negative",
          "Neutral",
          "Neutral",
          "Highly Negative",
          "Neutral",
          "Neutral",
          "Negative",
          "Neutral",
          "Neutral",
          "Neutral",
          "Neutral",
          "Highly Negative",
          "Highly Negative",
          "Positive",
          "Highly Negative",
          "Negative",
          "Negative",
          "Slightly Negative",
          "Neutral",
          "Highly Negative",
          "Highly Negative",
          "Highly Negative",
          "Neutral",
          "Neutral",
          "Neutral",
          "Neutral",
          "Highly Negative",
          "Neutral",
          "Neutral",
          "Neutral",
          "Negative",
          "Neutral",
          "Negative",
          "Neutral",
          "Neutral",
          "Highly Negative",
          "Negative",
          "Neutral",
          "Neutral",
          "Slightly Negative",
          "Neutral",
          "Neutral",
          "Highly Negative",
          "Neutral",
          "Neutral",
          "Negative",
          "Neutral",
          "Negative",
          "Negative",
          "Neutral",
          "Neutral",
          "Neutral",
          "Negative",
          "Positive",
          "Neutral",
          "Negative",
          "Highly Negative",
          "Neutral",
          "Neutral",
          "Negative",
          "Neutral",
          "Negative",
          "Neutral",
          "Neutral",
          "Neutral",
          "Negative",
          "Neutral",
          "Neutral",
          "Negative",
          "Neutral",
          "Highly Negative",
          "Negative",
          "Highly Negative",
          "Neutral",
          "Negative",
          "Negative",
          "Highly Negative",
          "Neutral",
          "Neutral",
          "Neutral",
          "Negative",
          "Neutral",
          "Highly Negative",
          "Highly Negative",
          "Highly Negative",
          "Highly Negative",
          "Slightly Negative",
          "Highly Negative",
          "Neutral",
          "Negative",
          "Negative",
          "Neutral",
          "Neutral",
          "Highly Negative",
          "Neutral",
          "Highly Negative",
          "Neutral",
          "Highly Negative",
          "Highly Negative",
          "Highly Positive",
          "Highly Negative",
          "Neutral",
          "Neutral",
          "Neutral",
          "Highly Negative",
          "Highly Negative",
          "Negative",
          "Highly Negative",
          "Highly Negative",
          "Highly Negative",
          "Negative",
          "Negative",
          "Negative",
          "Neutral",
          "Highly Negative",
          "Negative",
          "Highly Negative",
          "Neutral",
          "Highly Negative",
          "Highly Negative",
          "Neutral",
          "Negative",
          "Neutral",
          "Neutral"
         ],
         "xaxis": "x",
         "yaxis": "y"
        }
       ],
       "layout": {
        "barmode": "relative",
        "legend": {
         "tracegroupgap": 0
        },
        "margin": {
         "t": 60
        },
        "template": {
         "data": {
          "bar": [
           {
            "error_x": {
             "color": "#2a3f5f"
            },
            "error_y": {
             "color": "#2a3f5f"
            },
            "marker": {
             "line": {
              "color": "#E5ECF6",
              "width": 0.5
             },
             "pattern": {
              "fillmode": "overlay",
              "size": 10,
              "solidity": 0.2
             }
            },
            "type": "bar"
           }
          ],
          "barpolar": [
           {
            "marker": {
             "line": {
              "color": "#E5ECF6",
              "width": 0.5
             },
             "pattern": {
              "fillmode": "overlay",
              "size": 10,
              "solidity": 0.2
             }
            },
            "type": "barpolar"
           }
          ],
          "carpet": [
           {
            "aaxis": {
             "endlinecolor": "#2a3f5f",
             "gridcolor": "white",
             "linecolor": "white",
             "minorgridcolor": "white",
             "startlinecolor": "#2a3f5f"
            },
            "baxis": {
             "endlinecolor": "#2a3f5f",
             "gridcolor": "white",
             "linecolor": "white",
             "minorgridcolor": "white",
             "startlinecolor": "#2a3f5f"
            },
            "type": "carpet"
           }
          ],
          "choropleth": [
           {
            "colorbar": {
             "outlinewidth": 0,
             "ticks": ""
            },
            "type": "choropleth"
           }
          ],
          "contour": [
           {
            "colorbar": {
             "outlinewidth": 0,
             "ticks": ""
            },
            "colorscale": [
             [
              0,
              "#0d0887"
             ],
             [
              0.1111111111111111,
              "#46039f"
             ],
             [
              0.2222222222222222,
              "#7201a8"
             ],
             [
              0.3333333333333333,
              "#9c179e"
             ],
             [
              0.4444444444444444,
              "#bd3786"
             ],
             [
              0.5555555555555556,
              "#d8576b"
             ],
             [
              0.6666666666666666,
              "#ed7953"
             ],
             [
              0.7777777777777778,
              "#fb9f3a"
             ],
             [
              0.8888888888888888,
              "#fdca26"
             ],
             [
              1,
              "#f0f921"
             ]
            ],
            "type": "contour"
           }
          ],
          "contourcarpet": [
           {
            "colorbar": {
             "outlinewidth": 0,
             "ticks": ""
            },
            "type": "contourcarpet"
           }
          ],
          "heatmap": [
           {
            "colorbar": {
             "outlinewidth": 0,
             "ticks": ""
            },
            "colorscale": [
             [
              0,
              "#0d0887"
             ],
             [
              0.1111111111111111,
              "#46039f"
             ],
             [
              0.2222222222222222,
              "#7201a8"
             ],
             [
              0.3333333333333333,
              "#9c179e"
             ],
             [
              0.4444444444444444,
              "#bd3786"
             ],
             [
              0.5555555555555556,
              "#d8576b"
             ],
             [
              0.6666666666666666,
              "#ed7953"
             ],
             [
              0.7777777777777778,
              "#fb9f3a"
             ],
             [
              0.8888888888888888,
              "#fdca26"
             ],
             [
              1,
              "#f0f921"
             ]
            ],
            "type": "heatmap"
           }
          ],
          "heatmapgl": [
           {
            "colorbar": {
             "outlinewidth": 0,
             "ticks": ""
            },
            "colorscale": [
             [
              0,
              "#0d0887"
             ],
             [
              0.1111111111111111,
              "#46039f"
             ],
             [
              0.2222222222222222,
              "#7201a8"
             ],
             [
              0.3333333333333333,
              "#9c179e"
             ],
             [
              0.4444444444444444,
              "#bd3786"
             ],
             [
              0.5555555555555556,
              "#d8576b"
             ],
             [
              0.6666666666666666,
              "#ed7953"
             ],
             [
              0.7777777777777778,
              "#fb9f3a"
             ],
             [
              0.8888888888888888,
              "#fdca26"
             ],
             [
              1,
              "#f0f921"
             ]
            ],
            "type": "heatmapgl"
           }
          ],
          "histogram": [
           {
            "marker": {
             "pattern": {
              "fillmode": "overlay",
              "size": 10,
              "solidity": 0.2
             }
            },
            "type": "histogram"
           }
          ],
          "histogram2d": [
           {
            "colorbar": {
             "outlinewidth": 0,
             "ticks": ""
            },
            "colorscale": [
             [
              0,
              "#0d0887"
             ],
             [
              0.1111111111111111,
              "#46039f"
             ],
             [
              0.2222222222222222,
              "#7201a8"
             ],
             [
              0.3333333333333333,
              "#9c179e"
             ],
             [
              0.4444444444444444,
              "#bd3786"
             ],
             [
              0.5555555555555556,
              "#d8576b"
             ],
             [
              0.6666666666666666,
              "#ed7953"
             ],
             [
              0.7777777777777778,
              "#fb9f3a"
             ],
             [
              0.8888888888888888,
              "#fdca26"
             ],
             [
              1,
              "#f0f921"
             ]
            ],
            "type": "histogram2d"
           }
          ],
          "histogram2dcontour": [
           {
            "colorbar": {
             "outlinewidth": 0,
             "ticks": ""
            },
            "colorscale": [
             [
              0,
              "#0d0887"
             ],
             [
              0.1111111111111111,
              "#46039f"
             ],
             [
              0.2222222222222222,
              "#7201a8"
             ],
             [
              0.3333333333333333,
              "#9c179e"
             ],
             [
              0.4444444444444444,
              "#bd3786"
             ],
             [
              0.5555555555555556,
              "#d8576b"
             ],
             [
              0.6666666666666666,
              "#ed7953"
             ],
             [
              0.7777777777777778,
              "#fb9f3a"
             ],
             [
              0.8888888888888888,
              "#fdca26"
             ],
             [
              1,
              "#f0f921"
             ]
            ],
            "type": "histogram2dcontour"
           }
          ],
          "mesh3d": [
           {
            "colorbar": {
             "outlinewidth": 0,
             "ticks": ""
            },
            "type": "mesh3d"
           }
          ],
          "parcoords": [
           {
            "line": {
             "colorbar": {
              "outlinewidth": 0,
              "ticks": ""
             }
            },
            "type": "parcoords"
           }
          ],
          "pie": [
           {
            "automargin": true,
            "type": "pie"
           }
          ],
          "scatter": [
           {
            "fillpattern": {
             "fillmode": "overlay",
             "size": 10,
             "solidity": 0.2
            },
            "type": "scatter"
           }
          ],
          "scatter3d": [
           {
            "line": {
             "colorbar": {
              "outlinewidth": 0,
              "ticks": ""
             }
            },
            "marker": {
             "colorbar": {
              "outlinewidth": 0,
              "ticks": ""
             }
            },
            "type": "scatter3d"
           }
          ],
          "scattercarpet": [
           {
            "marker": {
             "colorbar": {
              "outlinewidth": 0,
              "ticks": ""
             }
            },
            "type": "scattercarpet"
           }
          ],
          "scattergeo": [
           {
            "marker": {
             "colorbar": {
              "outlinewidth": 0,
              "ticks": ""
             }
            },
            "type": "scattergeo"
           }
          ],
          "scattergl": [
           {
            "marker": {
             "colorbar": {
              "outlinewidth": 0,
              "ticks": ""
             }
            },
            "type": "scattergl"
           }
          ],
          "scattermapbox": [
           {
            "marker": {
             "colorbar": {
              "outlinewidth": 0,
              "ticks": ""
             }
            },
            "type": "scattermapbox"
           }
          ],
          "scatterpolar": [
           {
            "marker": {
             "colorbar": {
              "outlinewidth": 0,
              "ticks": ""
             }
            },
            "type": "scatterpolar"
           }
          ],
          "scatterpolargl": [
           {
            "marker": {
             "colorbar": {
              "outlinewidth": 0,
              "ticks": ""
             }
            },
            "type": "scatterpolargl"
           }
          ],
          "scatterternary": [
           {
            "marker": {
             "colorbar": {
              "outlinewidth": 0,
              "ticks": ""
             }
            },
            "type": "scatterternary"
           }
          ],
          "surface": [
           {
            "colorbar": {
             "outlinewidth": 0,
             "ticks": ""
            },
            "colorscale": [
             [
              0,
              "#0d0887"
             ],
             [
              0.1111111111111111,
              "#46039f"
             ],
             [
              0.2222222222222222,
              "#7201a8"
             ],
             [
              0.3333333333333333,
              "#9c179e"
             ],
             [
              0.4444444444444444,
              "#bd3786"
             ],
             [
              0.5555555555555556,
              "#d8576b"
             ],
             [
              0.6666666666666666,
              "#ed7953"
             ],
             [
              0.7777777777777778,
              "#fb9f3a"
             ],
             [
              0.8888888888888888,
              "#fdca26"
             ],
             [
              1,
              "#f0f921"
             ]
            ],
            "type": "surface"
           }
          ],
          "table": [
           {
            "cells": {
             "fill": {
              "color": "#EBF0F8"
             },
             "line": {
              "color": "white"
             }
            },
            "header": {
             "fill": {
              "color": "#C8D4E3"
             },
             "line": {
              "color": "white"
             }
            },
            "type": "table"
           }
          ]
         },
         "layout": {
          "annotationdefaults": {
           "arrowcolor": "#2a3f5f",
           "arrowhead": 0,
           "arrowwidth": 1
          },
          "autotypenumbers": "strict",
          "coloraxis": {
           "colorbar": {
            "outlinewidth": 0,
            "ticks": ""
           }
          },
          "colorscale": {
           "diverging": [
            [
             0,
             "#8e0152"
            ],
            [
             0.1,
             "#c51b7d"
            ],
            [
             0.2,
             "#de77ae"
            ],
            [
             0.3,
             "#f1b6da"
            ],
            [
             0.4,
             "#fde0ef"
            ],
            [
             0.5,
             "#f7f7f7"
            ],
            [
             0.6,
             "#e6f5d0"
            ],
            [
             0.7,
             "#b8e186"
            ],
            [
             0.8,
             "#7fbc41"
            ],
            [
             0.9,
             "#4d9221"
            ],
            [
             1,
             "#276419"
            ]
           ],
           "sequential": [
            [
             0,
             "#0d0887"
            ],
            [
             0.1111111111111111,
             "#46039f"
            ],
            [
             0.2222222222222222,
             "#7201a8"
            ],
            [
             0.3333333333333333,
             "#9c179e"
            ],
            [
             0.4444444444444444,
             "#bd3786"
            ],
            [
             0.5555555555555556,
             "#d8576b"
            ],
            [
             0.6666666666666666,
             "#ed7953"
            ],
            [
             0.7777777777777778,
             "#fb9f3a"
            ],
            [
             0.8888888888888888,
             "#fdca26"
            ],
            [
             1,
             "#f0f921"
            ]
           ],
           "sequentialminus": [
            [
             0,
             "#0d0887"
            ],
            [
             0.1111111111111111,
             "#46039f"
            ],
            [
             0.2222222222222222,
             "#7201a8"
            ],
            [
             0.3333333333333333,
             "#9c179e"
            ],
            [
             0.4444444444444444,
             "#bd3786"
            ],
            [
             0.5555555555555556,
             "#d8576b"
            ],
            [
             0.6666666666666666,
             "#ed7953"
            ],
            [
             0.7777777777777778,
             "#fb9f3a"
            ],
            [
             0.8888888888888888,
             "#fdca26"
            ],
            [
             1,
             "#f0f921"
            ]
           ]
          },
          "colorway": [
           "#636efa",
           "#EF553B",
           "#00cc96",
           "#ab63fa",
           "#FFA15A",
           "#19d3f3",
           "#FF6692",
           "#B6E880",
           "#FF97FF",
           "#FECB52"
          ],
          "font": {
           "color": "#2a3f5f"
          },
          "geo": {
           "bgcolor": "white",
           "lakecolor": "white",
           "landcolor": "#E5ECF6",
           "showlakes": true,
           "showland": true,
           "subunitcolor": "white"
          },
          "hoverlabel": {
           "align": "left"
          },
          "hovermode": "closest",
          "mapbox": {
           "style": "light"
          },
          "paper_bgcolor": "white",
          "plot_bgcolor": "#E5ECF6",
          "polar": {
           "angularaxis": {
            "gridcolor": "white",
            "linecolor": "white",
            "ticks": ""
           },
           "bgcolor": "#E5ECF6",
           "radialaxis": {
            "gridcolor": "white",
            "linecolor": "white",
            "ticks": ""
           }
          },
          "scene": {
           "xaxis": {
            "backgroundcolor": "#E5ECF6",
            "gridcolor": "white",
            "gridwidth": 2,
            "linecolor": "white",
            "showbackground": true,
            "ticks": "",
            "zerolinecolor": "white"
           },
           "yaxis": {
            "backgroundcolor": "#E5ECF6",
            "gridcolor": "white",
            "gridwidth": 2,
            "linecolor": "white",
            "showbackground": true,
            "ticks": "",
            "zerolinecolor": "white"
           },
           "zaxis": {
            "backgroundcolor": "#E5ECF6",
            "gridcolor": "white",
            "gridwidth": 2,
            "linecolor": "white",
            "showbackground": true,
            "ticks": "",
            "zerolinecolor": "white"
           }
          },
          "shapedefaults": {
           "line": {
            "color": "#2a3f5f"
           }
          },
          "ternary": {
           "aaxis": {
            "gridcolor": "white",
            "linecolor": "white",
            "ticks": ""
           },
           "baxis": {
            "gridcolor": "white",
            "linecolor": "white",
            "ticks": ""
           },
           "bgcolor": "#E5ECF6",
           "caxis": {
            "gridcolor": "white",
            "linecolor": "white",
            "ticks": ""
           }
          },
          "title": {
           "x": 0.05
          },
          "xaxis": {
           "automargin": true,
           "gridcolor": "white",
           "linecolor": "white",
           "ticks": "",
           "title": {
            "standoff": 15
           },
           "zerolinecolor": "white",
           "zerolinewidth": 2
          },
          "yaxis": {
           "automargin": true,
           "gridcolor": "white",
           "linecolor": "white",
           "ticks": "",
           "title": {
            "standoff": 15
           },
           "zerolinecolor": "white",
           "zerolinewidth": 2
          }
         }
        },
        "title": {
         "text": "Histogram of Sentiment Bias"
        },
        "xaxis": {
         "anchor": "y",
         "domain": [
          0,
          1
         ],
         "title": {
          "text": "Sentiment Bias"
         }
        },
        "yaxis": {
         "anchor": "x",
         "domain": [
          0,
          1
         ],
         "title": {
          "text": "Frequency"
         }
        }
       }
      }
     },
     "metadata": {},
     "output_type": "display_data"
    }
   ],
   "source": [
    "fig = px.histogram(df, x='Sentiment_Bias', nbins=20)\n",
    "fig.update_layout(\n",
    "    title='Histogram of Sentiment Bias',\n",
    "    xaxis_title='Sentiment Bias',\n",
    "    yaxis_title='Frequency'\n",
    ")\n",
    "fig.show()"
   ]
  },
  {
   "cell_type": "code",
   "execution_count": 19,
   "metadata": {},
   "outputs": [
    {
     "data": {
      "application/vnd.plotly.v1+json": {
       "config": {
        "plotlyServerURL": "https://plot.ly"
       },
       "data": [
        {
         "domain": {
          "x": [
           0,
           1
          ],
          "y": [
           0,
           1
          ]
         },
         "hovertemplate": "Sentiment_Bias=%{label}<br>Count=%{value}<extra></extra>",
         "labels": [
          "Highly Negative",
          "Highly Positive",
          "Negative",
          "Neutral",
          "Positive",
          "Slightly Negative"
         ],
         "legendgroup": "",
         "name": "",
         "showlegend": true,
         "type": "pie",
         "values": [
          54,
          1,
          69,
          104,
          3,
          3
         ]
        }
       ],
       "layout": {
        "legend": {
         "tracegroupgap": 0
        },
        "template": {
         "data": {
          "bar": [
           {
            "error_x": {
             "color": "#2a3f5f"
            },
            "error_y": {
             "color": "#2a3f5f"
            },
            "marker": {
             "line": {
              "color": "#E5ECF6",
              "width": 0.5
             },
             "pattern": {
              "fillmode": "overlay",
              "size": 10,
              "solidity": 0.2
             }
            },
            "type": "bar"
           }
          ],
          "barpolar": [
           {
            "marker": {
             "line": {
              "color": "#E5ECF6",
              "width": 0.5
             },
             "pattern": {
              "fillmode": "overlay",
              "size": 10,
              "solidity": 0.2
             }
            },
            "type": "barpolar"
           }
          ],
          "carpet": [
           {
            "aaxis": {
             "endlinecolor": "#2a3f5f",
             "gridcolor": "white",
             "linecolor": "white",
             "minorgridcolor": "white",
             "startlinecolor": "#2a3f5f"
            },
            "baxis": {
             "endlinecolor": "#2a3f5f",
             "gridcolor": "white",
             "linecolor": "white",
             "minorgridcolor": "white",
             "startlinecolor": "#2a3f5f"
            },
            "type": "carpet"
           }
          ],
          "choropleth": [
           {
            "colorbar": {
             "outlinewidth": 0,
             "ticks": ""
            },
            "type": "choropleth"
           }
          ],
          "contour": [
           {
            "colorbar": {
             "outlinewidth": 0,
             "ticks": ""
            },
            "colorscale": [
             [
              0,
              "#0d0887"
             ],
             [
              0.1111111111111111,
              "#46039f"
             ],
             [
              0.2222222222222222,
              "#7201a8"
             ],
             [
              0.3333333333333333,
              "#9c179e"
             ],
             [
              0.4444444444444444,
              "#bd3786"
             ],
             [
              0.5555555555555556,
              "#d8576b"
             ],
             [
              0.6666666666666666,
              "#ed7953"
             ],
             [
              0.7777777777777778,
              "#fb9f3a"
             ],
             [
              0.8888888888888888,
              "#fdca26"
             ],
             [
              1,
              "#f0f921"
             ]
            ],
            "type": "contour"
           }
          ],
          "contourcarpet": [
           {
            "colorbar": {
             "outlinewidth": 0,
             "ticks": ""
            },
            "type": "contourcarpet"
           }
          ],
          "heatmap": [
           {
            "colorbar": {
             "outlinewidth": 0,
             "ticks": ""
            },
            "colorscale": [
             [
              0,
              "#0d0887"
             ],
             [
              0.1111111111111111,
              "#46039f"
             ],
             [
              0.2222222222222222,
              "#7201a8"
             ],
             [
              0.3333333333333333,
              "#9c179e"
             ],
             [
              0.4444444444444444,
              "#bd3786"
             ],
             [
              0.5555555555555556,
              "#d8576b"
             ],
             [
              0.6666666666666666,
              "#ed7953"
             ],
             [
              0.7777777777777778,
              "#fb9f3a"
             ],
             [
              0.8888888888888888,
              "#fdca26"
             ],
             [
              1,
              "#f0f921"
             ]
            ],
            "type": "heatmap"
           }
          ],
          "heatmapgl": [
           {
            "colorbar": {
             "outlinewidth": 0,
             "ticks": ""
            },
            "colorscale": [
             [
              0,
              "#0d0887"
             ],
             [
              0.1111111111111111,
              "#46039f"
             ],
             [
              0.2222222222222222,
              "#7201a8"
             ],
             [
              0.3333333333333333,
              "#9c179e"
             ],
             [
              0.4444444444444444,
              "#bd3786"
             ],
             [
              0.5555555555555556,
              "#d8576b"
             ],
             [
              0.6666666666666666,
              "#ed7953"
             ],
             [
              0.7777777777777778,
              "#fb9f3a"
             ],
             [
              0.8888888888888888,
              "#fdca26"
             ],
             [
              1,
              "#f0f921"
             ]
            ],
            "type": "heatmapgl"
           }
          ],
          "histogram": [
           {
            "marker": {
             "pattern": {
              "fillmode": "overlay",
              "size": 10,
              "solidity": 0.2
             }
            },
            "type": "histogram"
           }
          ],
          "histogram2d": [
           {
            "colorbar": {
             "outlinewidth": 0,
             "ticks": ""
            },
            "colorscale": [
             [
              0,
              "#0d0887"
             ],
             [
              0.1111111111111111,
              "#46039f"
             ],
             [
              0.2222222222222222,
              "#7201a8"
             ],
             [
              0.3333333333333333,
              "#9c179e"
             ],
             [
              0.4444444444444444,
              "#bd3786"
             ],
             [
              0.5555555555555556,
              "#d8576b"
             ],
             [
              0.6666666666666666,
              "#ed7953"
             ],
             [
              0.7777777777777778,
              "#fb9f3a"
             ],
             [
              0.8888888888888888,
              "#fdca26"
             ],
             [
              1,
              "#f0f921"
             ]
            ],
            "type": "histogram2d"
           }
          ],
          "histogram2dcontour": [
           {
            "colorbar": {
             "outlinewidth": 0,
             "ticks": ""
            },
            "colorscale": [
             [
              0,
              "#0d0887"
             ],
             [
              0.1111111111111111,
              "#46039f"
             ],
             [
              0.2222222222222222,
              "#7201a8"
             ],
             [
              0.3333333333333333,
              "#9c179e"
             ],
             [
              0.4444444444444444,
              "#bd3786"
             ],
             [
              0.5555555555555556,
              "#d8576b"
             ],
             [
              0.6666666666666666,
              "#ed7953"
             ],
             [
              0.7777777777777778,
              "#fb9f3a"
             ],
             [
              0.8888888888888888,
              "#fdca26"
             ],
             [
              1,
              "#f0f921"
             ]
            ],
            "type": "histogram2dcontour"
           }
          ],
          "mesh3d": [
           {
            "colorbar": {
             "outlinewidth": 0,
             "ticks": ""
            },
            "type": "mesh3d"
           }
          ],
          "parcoords": [
           {
            "line": {
             "colorbar": {
              "outlinewidth": 0,
              "ticks": ""
             }
            },
            "type": "parcoords"
           }
          ],
          "pie": [
           {
            "automargin": true,
            "type": "pie"
           }
          ],
          "scatter": [
           {
            "fillpattern": {
             "fillmode": "overlay",
             "size": 10,
             "solidity": 0.2
            },
            "type": "scatter"
           }
          ],
          "scatter3d": [
           {
            "line": {
             "colorbar": {
              "outlinewidth": 0,
              "ticks": ""
             }
            },
            "marker": {
             "colorbar": {
              "outlinewidth": 0,
              "ticks": ""
             }
            },
            "type": "scatter3d"
           }
          ],
          "scattercarpet": [
           {
            "marker": {
             "colorbar": {
              "outlinewidth": 0,
              "ticks": ""
             }
            },
            "type": "scattercarpet"
           }
          ],
          "scattergeo": [
           {
            "marker": {
             "colorbar": {
              "outlinewidth": 0,
              "ticks": ""
             }
            },
            "type": "scattergeo"
           }
          ],
          "scattergl": [
           {
            "marker": {
             "colorbar": {
              "outlinewidth": 0,
              "ticks": ""
             }
            },
            "type": "scattergl"
           }
          ],
          "scattermapbox": [
           {
            "marker": {
             "colorbar": {
              "outlinewidth": 0,
              "ticks": ""
             }
            },
            "type": "scattermapbox"
           }
          ],
          "scatterpolar": [
           {
            "marker": {
             "colorbar": {
              "outlinewidth": 0,
              "ticks": ""
             }
            },
            "type": "scatterpolar"
           }
          ],
          "scatterpolargl": [
           {
            "marker": {
             "colorbar": {
              "outlinewidth": 0,
              "ticks": ""
             }
            },
            "type": "scatterpolargl"
           }
          ],
          "scatterternary": [
           {
            "marker": {
             "colorbar": {
              "outlinewidth": 0,
              "ticks": ""
             }
            },
            "type": "scatterternary"
           }
          ],
          "surface": [
           {
            "colorbar": {
             "outlinewidth": 0,
             "ticks": ""
            },
            "colorscale": [
             [
              0,
              "#0d0887"
             ],
             [
              0.1111111111111111,
              "#46039f"
             ],
             [
              0.2222222222222222,
              "#7201a8"
             ],
             [
              0.3333333333333333,
              "#9c179e"
             ],
             [
              0.4444444444444444,
              "#bd3786"
             ],
             [
              0.5555555555555556,
              "#d8576b"
             ],
             [
              0.6666666666666666,
              "#ed7953"
             ],
             [
              0.7777777777777778,
              "#fb9f3a"
             ],
             [
              0.8888888888888888,
              "#fdca26"
             ],
             [
              1,
              "#f0f921"
             ]
            ],
            "type": "surface"
           }
          ],
          "table": [
           {
            "cells": {
             "fill": {
              "color": "#EBF0F8"
             },
             "line": {
              "color": "white"
             }
            },
            "header": {
             "fill": {
              "color": "#C8D4E3"
             },
             "line": {
              "color": "white"
             }
            },
            "type": "table"
           }
          ]
         },
         "layout": {
          "annotationdefaults": {
           "arrowcolor": "#2a3f5f",
           "arrowhead": 0,
           "arrowwidth": 1
          },
          "autotypenumbers": "strict",
          "coloraxis": {
           "colorbar": {
            "outlinewidth": 0,
            "ticks": ""
           }
          },
          "colorscale": {
           "diverging": [
            [
             0,
             "#8e0152"
            ],
            [
             0.1,
             "#c51b7d"
            ],
            [
             0.2,
             "#de77ae"
            ],
            [
             0.3,
             "#f1b6da"
            ],
            [
             0.4,
             "#fde0ef"
            ],
            [
             0.5,
             "#f7f7f7"
            ],
            [
             0.6,
             "#e6f5d0"
            ],
            [
             0.7,
             "#b8e186"
            ],
            [
             0.8,
             "#7fbc41"
            ],
            [
             0.9,
             "#4d9221"
            ],
            [
             1,
             "#276419"
            ]
           ],
           "sequential": [
            [
             0,
             "#0d0887"
            ],
            [
             0.1111111111111111,
             "#46039f"
            ],
            [
             0.2222222222222222,
             "#7201a8"
            ],
            [
             0.3333333333333333,
             "#9c179e"
            ],
            [
             0.4444444444444444,
             "#bd3786"
            ],
            [
             0.5555555555555556,
             "#d8576b"
            ],
            [
             0.6666666666666666,
             "#ed7953"
            ],
            [
             0.7777777777777778,
             "#fb9f3a"
            ],
            [
             0.8888888888888888,
             "#fdca26"
            ],
            [
             1,
             "#f0f921"
            ]
           ],
           "sequentialminus": [
            [
             0,
             "#0d0887"
            ],
            [
             0.1111111111111111,
             "#46039f"
            ],
            [
             0.2222222222222222,
             "#7201a8"
            ],
            [
             0.3333333333333333,
             "#9c179e"
            ],
            [
             0.4444444444444444,
             "#bd3786"
            ],
            [
             0.5555555555555556,
             "#d8576b"
            ],
            [
             0.6666666666666666,
             "#ed7953"
            ],
            [
             0.7777777777777778,
             "#fb9f3a"
            ],
            [
             0.8888888888888888,
             "#fdca26"
            ],
            [
             1,
             "#f0f921"
            ]
           ]
          },
          "colorway": [
           "#636efa",
           "#EF553B",
           "#00cc96",
           "#ab63fa",
           "#FFA15A",
           "#19d3f3",
           "#FF6692",
           "#B6E880",
           "#FF97FF",
           "#FECB52"
          ],
          "font": {
           "color": "#2a3f5f"
          },
          "geo": {
           "bgcolor": "white",
           "lakecolor": "white",
           "landcolor": "#E5ECF6",
           "showlakes": true,
           "showland": true,
           "subunitcolor": "white"
          },
          "hoverlabel": {
           "align": "left"
          },
          "hovermode": "closest",
          "mapbox": {
           "style": "light"
          },
          "paper_bgcolor": "white",
          "plot_bgcolor": "#E5ECF6",
          "polar": {
           "angularaxis": {
            "gridcolor": "white",
            "linecolor": "white",
            "ticks": ""
           },
           "bgcolor": "#E5ECF6",
           "radialaxis": {
            "gridcolor": "white",
            "linecolor": "white",
            "ticks": ""
           }
          },
          "scene": {
           "xaxis": {
            "backgroundcolor": "#E5ECF6",
            "gridcolor": "white",
            "gridwidth": 2,
            "linecolor": "white",
            "showbackground": true,
            "ticks": "",
            "zerolinecolor": "white"
           },
           "yaxis": {
            "backgroundcolor": "#E5ECF6",
            "gridcolor": "white",
            "gridwidth": 2,
            "linecolor": "white",
            "showbackground": true,
            "ticks": "",
            "zerolinecolor": "white"
           },
           "zaxis": {
            "backgroundcolor": "#E5ECF6",
            "gridcolor": "white",
            "gridwidth": 2,
            "linecolor": "white",
            "showbackground": true,
            "ticks": "",
            "zerolinecolor": "white"
           }
          },
          "shapedefaults": {
           "line": {
            "color": "#2a3f5f"
           }
          },
          "ternary": {
           "aaxis": {
            "gridcolor": "white",
            "linecolor": "white",
            "ticks": ""
           },
           "baxis": {
            "gridcolor": "white",
            "linecolor": "white",
            "ticks": ""
           },
           "bgcolor": "#E5ECF6",
           "caxis": {
            "gridcolor": "white",
            "linecolor": "white",
            "ticks": ""
           }
          },
          "title": {
           "x": 0.05
          },
          "xaxis": {
           "automargin": true,
           "gridcolor": "white",
           "linecolor": "white",
           "ticks": "",
           "title": {
            "standoff": 15
           },
           "zerolinecolor": "white",
           "zerolinewidth": 2
          },
          "yaxis": {
           "automargin": true,
           "gridcolor": "white",
           "linecolor": "white",
           "ticks": "",
           "title": {
            "standoff": 15
           },
           "zerolinecolor": "white",
           "zerolinewidth": 2
          }
         }
        },
        "title": {
         "text": "Sentiment Distribution for Al Jazeera"
        }
       }
      }
     },
     "metadata": {},
     "output_type": "display_data"
    },
    {
     "data": {
      "application/vnd.plotly.v1+json": {
       "config": {
        "plotlyServerURL": "https://plot.ly"
       },
       "data": [
        {
         "domain": {
          "x": [
           0,
           1
          ],
          "y": [
           0,
           1
          ]
         },
         "hovertemplate": "Sentiment_Bias=%{label}<br>Count=%{value}<extra></extra>",
         "labels": [
          "Highly Negative",
          "Highly Positive",
          "Negative",
          "Neutral",
          "Positive",
          "Slightly Negative",
          "Slightly Positive"
         ],
         "legendgroup": "",
         "name": "",
         "showlegend": true,
         "type": "pie",
         "values": [
          361,
          93,
          533,
          857,
          105,
          39,
          8
         ]
        }
       ],
       "layout": {
        "legend": {
         "tracegroupgap": 0
        },
        "template": {
         "data": {
          "bar": [
           {
            "error_x": {
             "color": "#2a3f5f"
            },
            "error_y": {
             "color": "#2a3f5f"
            },
            "marker": {
             "line": {
              "color": "#E5ECF6",
              "width": 0.5
             },
             "pattern": {
              "fillmode": "overlay",
              "size": 10,
              "solidity": 0.2
             }
            },
            "type": "bar"
           }
          ],
          "barpolar": [
           {
            "marker": {
             "line": {
              "color": "#E5ECF6",
              "width": 0.5
             },
             "pattern": {
              "fillmode": "overlay",
              "size": 10,
              "solidity": 0.2
             }
            },
            "type": "barpolar"
           }
          ],
          "carpet": [
           {
            "aaxis": {
             "endlinecolor": "#2a3f5f",
             "gridcolor": "white",
             "linecolor": "white",
             "minorgridcolor": "white",
             "startlinecolor": "#2a3f5f"
            },
            "baxis": {
             "endlinecolor": "#2a3f5f",
             "gridcolor": "white",
             "linecolor": "white",
             "minorgridcolor": "white",
             "startlinecolor": "#2a3f5f"
            },
            "type": "carpet"
           }
          ],
          "choropleth": [
           {
            "colorbar": {
             "outlinewidth": 0,
             "ticks": ""
            },
            "type": "choropleth"
           }
          ],
          "contour": [
           {
            "colorbar": {
             "outlinewidth": 0,
             "ticks": ""
            },
            "colorscale": [
             [
              0,
              "#0d0887"
             ],
             [
              0.1111111111111111,
              "#46039f"
             ],
             [
              0.2222222222222222,
              "#7201a8"
             ],
             [
              0.3333333333333333,
              "#9c179e"
             ],
             [
              0.4444444444444444,
              "#bd3786"
             ],
             [
              0.5555555555555556,
              "#d8576b"
             ],
             [
              0.6666666666666666,
              "#ed7953"
             ],
             [
              0.7777777777777778,
              "#fb9f3a"
             ],
             [
              0.8888888888888888,
              "#fdca26"
             ],
             [
              1,
              "#f0f921"
             ]
            ],
            "type": "contour"
           }
          ],
          "contourcarpet": [
           {
            "colorbar": {
             "outlinewidth": 0,
             "ticks": ""
            },
            "type": "contourcarpet"
           }
          ],
          "heatmap": [
           {
            "colorbar": {
             "outlinewidth": 0,
             "ticks": ""
            },
            "colorscale": [
             [
              0,
              "#0d0887"
             ],
             [
              0.1111111111111111,
              "#46039f"
             ],
             [
              0.2222222222222222,
              "#7201a8"
             ],
             [
              0.3333333333333333,
              "#9c179e"
             ],
             [
              0.4444444444444444,
              "#bd3786"
             ],
             [
              0.5555555555555556,
              "#d8576b"
             ],
             [
              0.6666666666666666,
              "#ed7953"
             ],
             [
              0.7777777777777778,
              "#fb9f3a"
             ],
             [
              0.8888888888888888,
              "#fdca26"
             ],
             [
              1,
              "#f0f921"
             ]
            ],
            "type": "heatmap"
           }
          ],
          "heatmapgl": [
           {
            "colorbar": {
             "outlinewidth": 0,
             "ticks": ""
            },
            "colorscale": [
             [
              0,
              "#0d0887"
             ],
             [
              0.1111111111111111,
              "#46039f"
             ],
             [
              0.2222222222222222,
              "#7201a8"
             ],
             [
              0.3333333333333333,
              "#9c179e"
             ],
             [
              0.4444444444444444,
              "#bd3786"
             ],
             [
              0.5555555555555556,
              "#d8576b"
             ],
             [
              0.6666666666666666,
              "#ed7953"
             ],
             [
              0.7777777777777778,
              "#fb9f3a"
             ],
             [
              0.8888888888888888,
              "#fdca26"
             ],
             [
              1,
              "#f0f921"
             ]
            ],
            "type": "heatmapgl"
           }
          ],
          "histogram": [
           {
            "marker": {
             "pattern": {
              "fillmode": "overlay",
              "size": 10,
              "solidity": 0.2
             }
            },
            "type": "histogram"
           }
          ],
          "histogram2d": [
           {
            "colorbar": {
             "outlinewidth": 0,
             "ticks": ""
            },
            "colorscale": [
             [
              0,
              "#0d0887"
             ],
             [
              0.1111111111111111,
              "#46039f"
             ],
             [
              0.2222222222222222,
              "#7201a8"
             ],
             [
              0.3333333333333333,
              "#9c179e"
             ],
             [
              0.4444444444444444,
              "#bd3786"
             ],
             [
              0.5555555555555556,
              "#d8576b"
             ],
             [
              0.6666666666666666,
              "#ed7953"
             ],
             [
              0.7777777777777778,
              "#fb9f3a"
             ],
             [
              0.8888888888888888,
              "#fdca26"
             ],
             [
              1,
              "#f0f921"
             ]
            ],
            "type": "histogram2d"
           }
          ],
          "histogram2dcontour": [
           {
            "colorbar": {
             "outlinewidth": 0,
             "ticks": ""
            },
            "colorscale": [
             [
              0,
              "#0d0887"
             ],
             [
              0.1111111111111111,
              "#46039f"
             ],
             [
              0.2222222222222222,
              "#7201a8"
             ],
             [
              0.3333333333333333,
              "#9c179e"
             ],
             [
              0.4444444444444444,
              "#bd3786"
             ],
             [
              0.5555555555555556,
              "#d8576b"
             ],
             [
              0.6666666666666666,
              "#ed7953"
             ],
             [
              0.7777777777777778,
              "#fb9f3a"
             ],
             [
              0.8888888888888888,
              "#fdca26"
             ],
             [
              1,
              "#f0f921"
             ]
            ],
            "type": "histogram2dcontour"
           }
          ],
          "mesh3d": [
           {
            "colorbar": {
             "outlinewidth": 0,
             "ticks": ""
            },
            "type": "mesh3d"
           }
          ],
          "parcoords": [
           {
            "line": {
             "colorbar": {
              "outlinewidth": 0,
              "ticks": ""
             }
            },
            "type": "parcoords"
           }
          ],
          "pie": [
           {
            "automargin": true,
            "type": "pie"
           }
          ],
          "scatter": [
           {
            "fillpattern": {
             "fillmode": "overlay",
             "size": 10,
             "solidity": 0.2
            },
            "type": "scatter"
           }
          ],
          "scatter3d": [
           {
            "line": {
             "colorbar": {
              "outlinewidth": 0,
              "ticks": ""
             }
            },
            "marker": {
             "colorbar": {
              "outlinewidth": 0,
              "ticks": ""
             }
            },
            "type": "scatter3d"
           }
          ],
          "scattercarpet": [
           {
            "marker": {
             "colorbar": {
              "outlinewidth": 0,
              "ticks": ""
             }
            },
            "type": "scattercarpet"
           }
          ],
          "scattergeo": [
           {
            "marker": {
             "colorbar": {
              "outlinewidth": 0,
              "ticks": ""
             }
            },
            "type": "scattergeo"
           }
          ],
          "scattergl": [
           {
            "marker": {
             "colorbar": {
              "outlinewidth": 0,
              "ticks": ""
             }
            },
            "type": "scattergl"
           }
          ],
          "scattermapbox": [
           {
            "marker": {
             "colorbar": {
              "outlinewidth": 0,
              "ticks": ""
             }
            },
            "type": "scattermapbox"
           }
          ],
          "scatterpolar": [
           {
            "marker": {
             "colorbar": {
              "outlinewidth": 0,
              "ticks": ""
             }
            },
            "type": "scatterpolar"
           }
          ],
          "scatterpolargl": [
           {
            "marker": {
             "colorbar": {
              "outlinewidth": 0,
              "ticks": ""
             }
            },
            "type": "scatterpolargl"
           }
          ],
          "scatterternary": [
           {
            "marker": {
             "colorbar": {
              "outlinewidth": 0,
              "ticks": ""
             }
            },
            "type": "scatterternary"
           }
          ],
          "surface": [
           {
            "colorbar": {
             "outlinewidth": 0,
             "ticks": ""
            },
            "colorscale": [
             [
              0,
              "#0d0887"
             ],
             [
              0.1111111111111111,
              "#46039f"
             ],
             [
              0.2222222222222222,
              "#7201a8"
             ],
             [
              0.3333333333333333,
              "#9c179e"
             ],
             [
              0.4444444444444444,
              "#bd3786"
             ],
             [
              0.5555555555555556,
              "#d8576b"
             ],
             [
              0.6666666666666666,
              "#ed7953"
             ],
             [
              0.7777777777777778,
              "#fb9f3a"
             ],
             [
              0.8888888888888888,
              "#fdca26"
             ],
             [
              1,
              "#f0f921"
             ]
            ],
            "type": "surface"
           }
          ],
          "table": [
           {
            "cells": {
             "fill": {
              "color": "#EBF0F8"
             },
             "line": {
              "color": "white"
             }
            },
            "header": {
             "fill": {
              "color": "#C8D4E3"
             },
             "line": {
              "color": "white"
             }
            },
            "type": "table"
           }
          ]
         },
         "layout": {
          "annotationdefaults": {
           "arrowcolor": "#2a3f5f",
           "arrowhead": 0,
           "arrowwidth": 1
          },
          "autotypenumbers": "strict",
          "coloraxis": {
           "colorbar": {
            "outlinewidth": 0,
            "ticks": ""
           }
          },
          "colorscale": {
           "diverging": [
            [
             0,
             "#8e0152"
            ],
            [
             0.1,
             "#c51b7d"
            ],
            [
             0.2,
             "#de77ae"
            ],
            [
             0.3,
             "#f1b6da"
            ],
            [
             0.4,
             "#fde0ef"
            ],
            [
             0.5,
             "#f7f7f7"
            ],
            [
             0.6,
             "#e6f5d0"
            ],
            [
             0.7,
             "#b8e186"
            ],
            [
             0.8,
             "#7fbc41"
            ],
            [
             0.9,
             "#4d9221"
            ],
            [
             1,
             "#276419"
            ]
           ],
           "sequential": [
            [
             0,
             "#0d0887"
            ],
            [
             0.1111111111111111,
             "#46039f"
            ],
            [
             0.2222222222222222,
             "#7201a8"
            ],
            [
             0.3333333333333333,
             "#9c179e"
            ],
            [
             0.4444444444444444,
             "#bd3786"
            ],
            [
             0.5555555555555556,
             "#d8576b"
            ],
            [
             0.6666666666666666,
             "#ed7953"
            ],
            [
             0.7777777777777778,
             "#fb9f3a"
            ],
            [
             0.8888888888888888,
             "#fdca26"
            ],
            [
             1,
             "#f0f921"
            ]
           ],
           "sequentialminus": [
            [
             0,
             "#0d0887"
            ],
            [
             0.1111111111111111,
             "#46039f"
            ],
            [
             0.2222222222222222,
             "#7201a8"
            ],
            [
             0.3333333333333333,
             "#9c179e"
            ],
            [
             0.4444444444444444,
             "#bd3786"
            ],
            [
             0.5555555555555556,
             "#d8576b"
            ],
            [
             0.6666666666666666,
             "#ed7953"
            ],
            [
             0.7777777777777778,
             "#fb9f3a"
            ],
            [
             0.8888888888888888,
             "#fdca26"
            ],
            [
             1,
             "#f0f921"
            ]
           ]
          },
          "colorway": [
           "#636efa",
           "#EF553B",
           "#00cc96",
           "#ab63fa",
           "#FFA15A",
           "#19d3f3",
           "#FF6692",
           "#B6E880",
           "#FF97FF",
           "#FECB52"
          ],
          "font": {
           "color": "#2a3f5f"
          },
          "geo": {
           "bgcolor": "white",
           "lakecolor": "white",
           "landcolor": "#E5ECF6",
           "showlakes": true,
           "showland": true,
           "subunitcolor": "white"
          },
          "hoverlabel": {
           "align": "left"
          },
          "hovermode": "closest",
          "mapbox": {
           "style": "light"
          },
          "paper_bgcolor": "white",
          "plot_bgcolor": "#E5ECF6",
          "polar": {
           "angularaxis": {
            "gridcolor": "white",
            "linecolor": "white",
            "ticks": ""
           },
           "bgcolor": "#E5ECF6",
           "radialaxis": {
            "gridcolor": "white",
            "linecolor": "white",
            "ticks": ""
           }
          },
          "scene": {
           "xaxis": {
            "backgroundcolor": "#E5ECF6",
            "gridcolor": "white",
            "gridwidth": 2,
            "linecolor": "white",
            "showbackground": true,
            "ticks": "",
            "zerolinecolor": "white"
           },
           "yaxis": {
            "backgroundcolor": "#E5ECF6",
            "gridcolor": "white",
            "gridwidth": 2,
            "linecolor": "white",
            "showbackground": true,
            "ticks": "",
            "zerolinecolor": "white"
           },
           "zaxis": {
            "backgroundcolor": "#E5ECF6",
            "gridcolor": "white",
            "gridwidth": 2,
            "linecolor": "white",
            "showbackground": true,
            "ticks": "",
            "zerolinecolor": "white"
           }
          },
          "shapedefaults": {
           "line": {
            "color": "#2a3f5f"
           }
          },
          "ternary": {
           "aaxis": {
            "gridcolor": "white",
            "linecolor": "white",
            "ticks": ""
           },
           "baxis": {
            "gridcolor": "white",
            "linecolor": "white",
            "ticks": ""
           },
           "bgcolor": "#E5ECF6",
           "caxis": {
            "gridcolor": "white",
            "linecolor": "white",
            "ticks": ""
           }
          },
          "title": {
           "x": 0.05
          },
          "xaxis": {
           "automargin": true,
           "gridcolor": "white",
           "linecolor": "white",
           "ticks": "",
           "title": {
            "standoff": 15
           },
           "zerolinecolor": "white",
           "zerolinewidth": 2
          },
          "yaxis": {
           "automargin": true,
           "gridcolor": "white",
           "linecolor": "white",
           "ticks": "",
           "title": {
            "standoff": 15
           },
           "zerolinecolor": "white",
           "zerolinewidth": 2
          }
         }
        },
        "title": {
         "text": "Sentiment Distribution for BBC"
        }
       }
      }
     },
     "metadata": {},
     "output_type": "display_data"
    },
    {
     "data": {
      "application/vnd.plotly.v1+json": {
       "config": {
        "plotlyServerURL": "https://plot.ly"
       },
       "data": [
        {
         "domain": {
          "x": [
           0,
           1
          ],
          "y": [
           0,
           1
          ]
         },
         "hovertemplate": "Sentiment_Bias=%{label}<br>Count=%{value}<extra></extra>",
         "labels": [
          "Highly Negative",
          "Highly Positive",
          "Negative",
          "Neutral",
          "Positive",
          "Slightly Negative",
          "Slightly Positive"
         ],
         "legendgroup": "",
         "name": "",
         "showlegend": true,
         "type": "pie",
         "values": [
          211,
          33,
          392,
          1210,
          68,
          29,
          2
         ]
        }
       ],
       "layout": {
        "legend": {
         "tracegroupgap": 0
        },
        "template": {
         "data": {
          "bar": [
           {
            "error_x": {
             "color": "#2a3f5f"
            },
            "error_y": {
             "color": "#2a3f5f"
            },
            "marker": {
             "line": {
              "color": "#E5ECF6",
              "width": 0.5
             },
             "pattern": {
              "fillmode": "overlay",
              "size": 10,
              "solidity": 0.2
             }
            },
            "type": "bar"
           }
          ],
          "barpolar": [
           {
            "marker": {
             "line": {
              "color": "#E5ECF6",
              "width": 0.5
             },
             "pattern": {
              "fillmode": "overlay",
              "size": 10,
              "solidity": 0.2
             }
            },
            "type": "barpolar"
           }
          ],
          "carpet": [
           {
            "aaxis": {
             "endlinecolor": "#2a3f5f",
             "gridcolor": "white",
             "linecolor": "white",
             "minorgridcolor": "white",
             "startlinecolor": "#2a3f5f"
            },
            "baxis": {
             "endlinecolor": "#2a3f5f",
             "gridcolor": "white",
             "linecolor": "white",
             "minorgridcolor": "white",
             "startlinecolor": "#2a3f5f"
            },
            "type": "carpet"
           }
          ],
          "choropleth": [
           {
            "colorbar": {
             "outlinewidth": 0,
             "ticks": ""
            },
            "type": "choropleth"
           }
          ],
          "contour": [
           {
            "colorbar": {
             "outlinewidth": 0,
             "ticks": ""
            },
            "colorscale": [
             [
              0,
              "#0d0887"
             ],
             [
              0.1111111111111111,
              "#46039f"
             ],
             [
              0.2222222222222222,
              "#7201a8"
             ],
             [
              0.3333333333333333,
              "#9c179e"
             ],
             [
              0.4444444444444444,
              "#bd3786"
             ],
             [
              0.5555555555555556,
              "#d8576b"
             ],
             [
              0.6666666666666666,
              "#ed7953"
             ],
             [
              0.7777777777777778,
              "#fb9f3a"
             ],
             [
              0.8888888888888888,
              "#fdca26"
             ],
             [
              1,
              "#f0f921"
             ]
            ],
            "type": "contour"
           }
          ],
          "contourcarpet": [
           {
            "colorbar": {
             "outlinewidth": 0,
             "ticks": ""
            },
            "type": "contourcarpet"
           }
          ],
          "heatmap": [
           {
            "colorbar": {
             "outlinewidth": 0,
             "ticks": ""
            },
            "colorscale": [
             [
              0,
              "#0d0887"
             ],
             [
              0.1111111111111111,
              "#46039f"
             ],
             [
              0.2222222222222222,
              "#7201a8"
             ],
             [
              0.3333333333333333,
              "#9c179e"
             ],
             [
              0.4444444444444444,
              "#bd3786"
             ],
             [
              0.5555555555555556,
              "#d8576b"
             ],
             [
              0.6666666666666666,
              "#ed7953"
             ],
             [
              0.7777777777777778,
              "#fb9f3a"
             ],
             [
              0.8888888888888888,
              "#fdca26"
             ],
             [
              1,
              "#f0f921"
             ]
            ],
            "type": "heatmap"
           }
          ],
          "heatmapgl": [
           {
            "colorbar": {
             "outlinewidth": 0,
             "ticks": ""
            },
            "colorscale": [
             [
              0,
              "#0d0887"
             ],
             [
              0.1111111111111111,
              "#46039f"
             ],
             [
              0.2222222222222222,
              "#7201a8"
             ],
             [
              0.3333333333333333,
              "#9c179e"
             ],
             [
              0.4444444444444444,
              "#bd3786"
             ],
             [
              0.5555555555555556,
              "#d8576b"
             ],
             [
              0.6666666666666666,
              "#ed7953"
             ],
             [
              0.7777777777777778,
              "#fb9f3a"
             ],
             [
              0.8888888888888888,
              "#fdca26"
             ],
             [
              1,
              "#f0f921"
             ]
            ],
            "type": "heatmapgl"
           }
          ],
          "histogram": [
           {
            "marker": {
             "pattern": {
              "fillmode": "overlay",
              "size": 10,
              "solidity": 0.2
             }
            },
            "type": "histogram"
           }
          ],
          "histogram2d": [
           {
            "colorbar": {
             "outlinewidth": 0,
             "ticks": ""
            },
            "colorscale": [
             [
              0,
              "#0d0887"
             ],
             [
              0.1111111111111111,
              "#46039f"
             ],
             [
              0.2222222222222222,
              "#7201a8"
             ],
             [
              0.3333333333333333,
              "#9c179e"
             ],
             [
              0.4444444444444444,
              "#bd3786"
             ],
             [
              0.5555555555555556,
              "#d8576b"
             ],
             [
              0.6666666666666666,
              "#ed7953"
             ],
             [
              0.7777777777777778,
              "#fb9f3a"
             ],
             [
              0.8888888888888888,
              "#fdca26"
             ],
             [
              1,
              "#f0f921"
             ]
            ],
            "type": "histogram2d"
           }
          ],
          "histogram2dcontour": [
           {
            "colorbar": {
             "outlinewidth": 0,
             "ticks": ""
            },
            "colorscale": [
             [
              0,
              "#0d0887"
             ],
             [
              0.1111111111111111,
              "#46039f"
             ],
             [
              0.2222222222222222,
              "#7201a8"
             ],
             [
              0.3333333333333333,
              "#9c179e"
             ],
             [
              0.4444444444444444,
              "#bd3786"
             ],
             [
              0.5555555555555556,
              "#d8576b"
             ],
             [
              0.6666666666666666,
              "#ed7953"
             ],
             [
              0.7777777777777778,
              "#fb9f3a"
             ],
             [
              0.8888888888888888,
              "#fdca26"
             ],
             [
              1,
              "#f0f921"
             ]
            ],
            "type": "histogram2dcontour"
           }
          ],
          "mesh3d": [
           {
            "colorbar": {
             "outlinewidth": 0,
             "ticks": ""
            },
            "type": "mesh3d"
           }
          ],
          "parcoords": [
           {
            "line": {
             "colorbar": {
              "outlinewidth": 0,
              "ticks": ""
             }
            },
            "type": "parcoords"
           }
          ],
          "pie": [
           {
            "automargin": true,
            "type": "pie"
           }
          ],
          "scatter": [
           {
            "fillpattern": {
             "fillmode": "overlay",
             "size": 10,
             "solidity": 0.2
            },
            "type": "scatter"
           }
          ],
          "scatter3d": [
           {
            "line": {
             "colorbar": {
              "outlinewidth": 0,
              "ticks": ""
             }
            },
            "marker": {
             "colorbar": {
              "outlinewidth": 0,
              "ticks": ""
             }
            },
            "type": "scatter3d"
           }
          ],
          "scattercarpet": [
           {
            "marker": {
             "colorbar": {
              "outlinewidth": 0,
              "ticks": ""
             }
            },
            "type": "scattercarpet"
           }
          ],
          "scattergeo": [
           {
            "marker": {
             "colorbar": {
              "outlinewidth": 0,
              "ticks": ""
             }
            },
            "type": "scattergeo"
           }
          ],
          "scattergl": [
           {
            "marker": {
             "colorbar": {
              "outlinewidth": 0,
              "ticks": ""
             }
            },
            "type": "scattergl"
           }
          ],
          "scattermapbox": [
           {
            "marker": {
             "colorbar": {
              "outlinewidth": 0,
              "ticks": ""
             }
            },
            "type": "scattermapbox"
           }
          ],
          "scatterpolar": [
           {
            "marker": {
             "colorbar": {
              "outlinewidth": 0,
              "ticks": ""
             }
            },
            "type": "scatterpolar"
           }
          ],
          "scatterpolargl": [
           {
            "marker": {
             "colorbar": {
              "outlinewidth": 0,
              "ticks": ""
             }
            },
            "type": "scatterpolargl"
           }
          ],
          "scatterternary": [
           {
            "marker": {
             "colorbar": {
              "outlinewidth": 0,
              "ticks": ""
             }
            },
            "type": "scatterternary"
           }
          ],
          "surface": [
           {
            "colorbar": {
             "outlinewidth": 0,
             "ticks": ""
            },
            "colorscale": [
             [
              0,
              "#0d0887"
             ],
             [
              0.1111111111111111,
              "#46039f"
             ],
             [
              0.2222222222222222,
              "#7201a8"
             ],
             [
              0.3333333333333333,
              "#9c179e"
             ],
             [
              0.4444444444444444,
              "#bd3786"
             ],
             [
              0.5555555555555556,
              "#d8576b"
             ],
             [
              0.6666666666666666,
              "#ed7953"
             ],
             [
              0.7777777777777778,
              "#fb9f3a"
             ],
             [
              0.8888888888888888,
              "#fdca26"
             ],
             [
              1,
              "#f0f921"
             ]
            ],
            "type": "surface"
           }
          ],
          "table": [
           {
            "cells": {
             "fill": {
              "color": "#EBF0F8"
             },
             "line": {
              "color": "white"
             }
            },
            "header": {
             "fill": {
              "color": "#C8D4E3"
             },
             "line": {
              "color": "white"
             }
            },
            "type": "table"
           }
          ]
         },
         "layout": {
          "annotationdefaults": {
           "arrowcolor": "#2a3f5f",
           "arrowhead": 0,
           "arrowwidth": 1
          },
          "autotypenumbers": "strict",
          "coloraxis": {
           "colorbar": {
            "outlinewidth": 0,
            "ticks": ""
           }
          },
          "colorscale": {
           "diverging": [
            [
             0,
             "#8e0152"
            ],
            [
             0.1,
             "#c51b7d"
            ],
            [
             0.2,
             "#de77ae"
            ],
            [
             0.3,
             "#f1b6da"
            ],
            [
             0.4,
             "#fde0ef"
            ],
            [
             0.5,
             "#f7f7f7"
            ],
            [
             0.6,
             "#e6f5d0"
            ],
            [
             0.7,
             "#b8e186"
            ],
            [
             0.8,
             "#7fbc41"
            ],
            [
             0.9,
             "#4d9221"
            ],
            [
             1,
             "#276419"
            ]
           ],
           "sequential": [
            [
             0,
             "#0d0887"
            ],
            [
             0.1111111111111111,
             "#46039f"
            ],
            [
             0.2222222222222222,
             "#7201a8"
            ],
            [
             0.3333333333333333,
             "#9c179e"
            ],
            [
             0.4444444444444444,
             "#bd3786"
            ],
            [
             0.5555555555555556,
             "#d8576b"
            ],
            [
             0.6666666666666666,
             "#ed7953"
            ],
            [
             0.7777777777777778,
             "#fb9f3a"
            ],
            [
             0.8888888888888888,
             "#fdca26"
            ],
            [
             1,
             "#f0f921"
            ]
           ],
           "sequentialminus": [
            [
             0,
             "#0d0887"
            ],
            [
             0.1111111111111111,
             "#46039f"
            ],
            [
             0.2222222222222222,
             "#7201a8"
            ],
            [
             0.3333333333333333,
             "#9c179e"
            ],
            [
             0.4444444444444444,
             "#bd3786"
            ],
            [
             0.5555555555555556,
             "#d8576b"
            ],
            [
             0.6666666666666666,
             "#ed7953"
            ],
            [
             0.7777777777777778,
             "#fb9f3a"
            ],
            [
             0.8888888888888888,
             "#fdca26"
            ],
            [
             1,
             "#f0f921"
            ]
           ]
          },
          "colorway": [
           "#636efa",
           "#EF553B",
           "#00cc96",
           "#ab63fa",
           "#FFA15A",
           "#19d3f3",
           "#FF6692",
           "#B6E880",
           "#FF97FF",
           "#FECB52"
          ],
          "font": {
           "color": "#2a3f5f"
          },
          "geo": {
           "bgcolor": "white",
           "lakecolor": "white",
           "landcolor": "#E5ECF6",
           "showlakes": true,
           "showland": true,
           "subunitcolor": "white"
          },
          "hoverlabel": {
           "align": "left"
          },
          "hovermode": "closest",
          "mapbox": {
           "style": "light"
          },
          "paper_bgcolor": "white",
          "plot_bgcolor": "#E5ECF6",
          "polar": {
           "angularaxis": {
            "gridcolor": "white",
            "linecolor": "white",
            "ticks": ""
           },
           "bgcolor": "#E5ECF6",
           "radialaxis": {
            "gridcolor": "white",
            "linecolor": "white",
            "ticks": ""
           }
          },
          "scene": {
           "xaxis": {
            "backgroundcolor": "#E5ECF6",
            "gridcolor": "white",
            "gridwidth": 2,
            "linecolor": "white",
            "showbackground": true,
            "ticks": "",
            "zerolinecolor": "white"
           },
           "yaxis": {
            "backgroundcolor": "#E5ECF6",
            "gridcolor": "white",
            "gridwidth": 2,
            "linecolor": "white",
            "showbackground": true,
            "ticks": "",
            "zerolinecolor": "white"
           },
           "zaxis": {
            "backgroundcolor": "#E5ECF6",
            "gridcolor": "white",
            "gridwidth": 2,
            "linecolor": "white",
            "showbackground": true,
            "ticks": "",
            "zerolinecolor": "white"
           }
          },
          "shapedefaults": {
           "line": {
            "color": "#2a3f5f"
           }
          },
          "ternary": {
           "aaxis": {
            "gridcolor": "white",
            "linecolor": "white",
            "ticks": ""
           },
           "baxis": {
            "gridcolor": "white",
            "linecolor": "white",
            "ticks": ""
           },
           "bgcolor": "#E5ECF6",
           "caxis": {
            "gridcolor": "white",
            "linecolor": "white",
            "ticks": ""
           }
          },
          "title": {
           "x": 0.05
          },
          "xaxis": {
           "automargin": true,
           "gridcolor": "white",
           "linecolor": "white",
           "ticks": "",
           "title": {
            "standoff": 15
           },
           "zerolinecolor": "white",
           "zerolinewidth": 2
          },
          "yaxis": {
           "automargin": true,
           "gridcolor": "white",
           "linecolor": "white",
           "ticks": "",
           "title": {
            "standoff": 15
           },
           "zerolinecolor": "white",
           "zerolinewidth": 2
          }
         }
        },
        "title": {
         "text": "Sentiment Distribution for CNN"
        }
       }
      }
     },
     "metadata": {},
     "output_type": "display_data"
    },
    {
     "data": {
      "application/vnd.plotly.v1+json": {
       "config": {
        "plotlyServerURL": "https://plot.ly"
       },
       "data": [
        {
         "domain": {
          "x": [
           0,
           1
          ],
          "y": [
           0,
           1
          ]
         },
         "hovertemplate": "Sentiment_Bias=%{label}<br>Count=%{value}<extra></extra>",
         "labels": [
          "Highly Negative",
          "Highly Positive",
          "Negative",
          "Neutral",
          "Positive",
          "Slightly Negative",
          "Slightly Positive"
         ],
         "legendgroup": "",
         "name": "",
         "showlegend": true,
         "type": "pie",
         "values": [
          28,
          3,
          94,
          178,
          8,
          7,
          1
         ]
        }
       ],
       "layout": {
        "legend": {
         "tracegroupgap": 0
        },
        "template": {
         "data": {
          "bar": [
           {
            "error_x": {
             "color": "#2a3f5f"
            },
            "error_y": {
             "color": "#2a3f5f"
            },
            "marker": {
             "line": {
              "color": "#E5ECF6",
              "width": 0.5
             },
             "pattern": {
              "fillmode": "overlay",
              "size": 10,
              "solidity": 0.2
             }
            },
            "type": "bar"
           }
          ],
          "barpolar": [
           {
            "marker": {
             "line": {
              "color": "#E5ECF6",
              "width": 0.5
             },
             "pattern": {
              "fillmode": "overlay",
              "size": 10,
              "solidity": 0.2
             }
            },
            "type": "barpolar"
           }
          ],
          "carpet": [
           {
            "aaxis": {
             "endlinecolor": "#2a3f5f",
             "gridcolor": "white",
             "linecolor": "white",
             "minorgridcolor": "white",
             "startlinecolor": "#2a3f5f"
            },
            "baxis": {
             "endlinecolor": "#2a3f5f",
             "gridcolor": "white",
             "linecolor": "white",
             "minorgridcolor": "white",
             "startlinecolor": "#2a3f5f"
            },
            "type": "carpet"
           }
          ],
          "choropleth": [
           {
            "colorbar": {
             "outlinewidth": 0,
             "ticks": ""
            },
            "type": "choropleth"
           }
          ],
          "contour": [
           {
            "colorbar": {
             "outlinewidth": 0,
             "ticks": ""
            },
            "colorscale": [
             [
              0,
              "#0d0887"
             ],
             [
              0.1111111111111111,
              "#46039f"
             ],
             [
              0.2222222222222222,
              "#7201a8"
             ],
             [
              0.3333333333333333,
              "#9c179e"
             ],
             [
              0.4444444444444444,
              "#bd3786"
             ],
             [
              0.5555555555555556,
              "#d8576b"
             ],
             [
              0.6666666666666666,
              "#ed7953"
             ],
             [
              0.7777777777777778,
              "#fb9f3a"
             ],
             [
              0.8888888888888888,
              "#fdca26"
             ],
             [
              1,
              "#f0f921"
             ]
            ],
            "type": "contour"
           }
          ],
          "contourcarpet": [
           {
            "colorbar": {
             "outlinewidth": 0,
             "ticks": ""
            },
            "type": "contourcarpet"
           }
          ],
          "heatmap": [
           {
            "colorbar": {
             "outlinewidth": 0,
             "ticks": ""
            },
            "colorscale": [
             [
              0,
              "#0d0887"
             ],
             [
              0.1111111111111111,
              "#46039f"
             ],
             [
              0.2222222222222222,
              "#7201a8"
             ],
             [
              0.3333333333333333,
              "#9c179e"
             ],
             [
              0.4444444444444444,
              "#bd3786"
             ],
             [
              0.5555555555555556,
              "#d8576b"
             ],
             [
              0.6666666666666666,
              "#ed7953"
             ],
             [
              0.7777777777777778,
              "#fb9f3a"
             ],
             [
              0.8888888888888888,
              "#fdca26"
             ],
             [
              1,
              "#f0f921"
             ]
            ],
            "type": "heatmap"
           }
          ],
          "heatmapgl": [
           {
            "colorbar": {
             "outlinewidth": 0,
             "ticks": ""
            },
            "colorscale": [
             [
              0,
              "#0d0887"
             ],
             [
              0.1111111111111111,
              "#46039f"
             ],
             [
              0.2222222222222222,
              "#7201a8"
             ],
             [
              0.3333333333333333,
              "#9c179e"
             ],
             [
              0.4444444444444444,
              "#bd3786"
             ],
             [
              0.5555555555555556,
              "#d8576b"
             ],
             [
              0.6666666666666666,
              "#ed7953"
             ],
             [
              0.7777777777777778,
              "#fb9f3a"
             ],
             [
              0.8888888888888888,
              "#fdca26"
             ],
             [
              1,
              "#f0f921"
             ]
            ],
            "type": "heatmapgl"
           }
          ],
          "histogram": [
           {
            "marker": {
             "pattern": {
              "fillmode": "overlay",
              "size": 10,
              "solidity": 0.2
             }
            },
            "type": "histogram"
           }
          ],
          "histogram2d": [
           {
            "colorbar": {
             "outlinewidth": 0,
             "ticks": ""
            },
            "colorscale": [
             [
              0,
              "#0d0887"
             ],
             [
              0.1111111111111111,
              "#46039f"
             ],
             [
              0.2222222222222222,
              "#7201a8"
             ],
             [
              0.3333333333333333,
              "#9c179e"
             ],
             [
              0.4444444444444444,
              "#bd3786"
             ],
             [
              0.5555555555555556,
              "#d8576b"
             ],
             [
              0.6666666666666666,
              "#ed7953"
             ],
             [
              0.7777777777777778,
              "#fb9f3a"
             ],
             [
              0.8888888888888888,
              "#fdca26"
             ],
             [
              1,
              "#f0f921"
             ]
            ],
            "type": "histogram2d"
           }
          ],
          "histogram2dcontour": [
           {
            "colorbar": {
             "outlinewidth": 0,
             "ticks": ""
            },
            "colorscale": [
             [
              0,
              "#0d0887"
             ],
             [
              0.1111111111111111,
              "#46039f"
             ],
             [
              0.2222222222222222,
              "#7201a8"
             ],
             [
              0.3333333333333333,
              "#9c179e"
             ],
             [
              0.4444444444444444,
              "#bd3786"
             ],
             [
              0.5555555555555556,
              "#d8576b"
             ],
             [
              0.6666666666666666,
              "#ed7953"
             ],
             [
              0.7777777777777778,
              "#fb9f3a"
             ],
             [
              0.8888888888888888,
              "#fdca26"
             ],
             [
              1,
              "#f0f921"
             ]
            ],
            "type": "histogram2dcontour"
           }
          ],
          "mesh3d": [
           {
            "colorbar": {
             "outlinewidth": 0,
             "ticks": ""
            },
            "type": "mesh3d"
           }
          ],
          "parcoords": [
           {
            "line": {
             "colorbar": {
              "outlinewidth": 0,
              "ticks": ""
             }
            },
            "type": "parcoords"
           }
          ],
          "pie": [
           {
            "automargin": true,
            "type": "pie"
           }
          ],
          "scatter": [
           {
            "fillpattern": {
             "fillmode": "overlay",
             "size": 10,
             "solidity": 0.2
            },
            "type": "scatter"
           }
          ],
          "scatter3d": [
           {
            "line": {
             "colorbar": {
              "outlinewidth": 0,
              "ticks": ""
             }
            },
            "marker": {
             "colorbar": {
              "outlinewidth": 0,
              "ticks": ""
             }
            },
            "type": "scatter3d"
           }
          ],
          "scattercarpet": [
           {
            "marker": {
             "colorbar": {
              "outlinewidth": 0,
              "ticks": ""
             }
            },
            "type": "scattercarpet"
           }
          ],
          "scattergeo": [
           {
            "marker": {
             "colorbar": {
              "outlinewidth": 0,
              "ticks": ""
             }
            },
            "type": "scattergeo"
           }
          ],
          "scattergl": [
           {
            "marker": {
             "colorbar": {
              "outlinewidth": 0,
              "ticks": ""
             }
            },
            "type": "scattergl"
           }
          ],
          "scattermapbox": [
           {
            "marker": {
             "colorbar": {
              "outlinewidth": 0,
              "ticks": ""
             }
            },
            "type": "scattermapbox"
           }
          ],
          "scatterpolar": [
           {
            "marker": {
             "colorbar": {
              "outlinewidth": 0,
              "ticks": ""
             }
            },
            "type": "scatterpolar"
           }
          ],
          "scatterpolargl": [
           {
            "marker": {
             "colorbar": {
              "outlinewidth": 0,
              "ticks": ""
             }
            },
            "type": "scatterpolargl"
           }
          ],
          "scatterternary": [
           {
            "marker": {
             "colorbar": {
              "outlinewidth": 0,
              "ticks": ""
             }
            },
            "type": "scatterternary"
           }
          ],
          "surface": [
           {
            "colorbar": {
             "outlinewidth": 0,
             "ticks": ""
            },
            "colorscale": [
             [
              0,
              "#0d0887"
             ],
             [
              0.1111111111111111,
              "#46039f"
             ],
             [
              0.2222222222222222,
              "#7201a8"
             ],
             [
              0.3333333333333333,
              "#9c179e"
             ],
             [
              0.4444444444444444,
              "#bd3786"
             ],
             [
              0.5555555555555556,
              "#d8576b"
             ],
             [
              0.6666666666666666,
              "#ed7953"
             ],
             [
              0.7777777777777778,
              "#fb9f3a"
             ],
             [
              0.8888888888888888,
              "#fdca26"
             ],
             [
              1,
              "#f0f921"
             ]
            ],
            "type": "surface"
           }
          ],
          "table": [
           {
            "cells": {
             "fill": {
              "color": "#EBF0F8"
             },
             "line": {
              "color": "white"
             }
            },
            "header": {
             "fill": {
              "color": "#C8D4E3"
             },
             "line": {
              "color": "white"
             }
            },
            "type": "table"
           }
          ]
         },
         "layout": {
          "annotationdefaults": {
           "arrowcolor": "#2a3f5f",
           "arrowhead": 0,
           "arrowwidth": 1
          },
          "autotypenumbers": "strict",
          "coloraxis": {
           "colorbar": {
            "outlinewidth": 0,
            "ticks": ""
           }
          },
          "colorscale": {
           "diverging": [
            [
             0,
             "#8e0152"
            ],
            [
             0.1,
             "#c51b7d"
            ],
            [
             0.2,
             "#de77ae"
            ],
            [
             0.3,
             "#f1b6da"
            ],
            [
             0.4,
             "#fde0ef"
            ],
            [
             0.5,
             "#f7f7f7"
            ],
            [
             0.6,
             "#e6f5d0"
            ],
            [
             0.7,
             "#b8e186"
            ],
            [
             0.8,
             "#7fbc41"
            ],
            [
             0.9,
             "#4d9221"
            ],
            [
             1,
             "#276419"
            ]
           ],
           "sequential": [
            [
             0,
             "#0d0887"
            ],
            [
             0.1111111111111111,
             "#46039f"
            ],
            [
             0.2222222222222222,
             "#7201a8"
            ],
            [
             0.3333333333333333,
             "#9c179e"
            ],
            [
             0.4444444444444444,
             "#bd3786"
            ],
            [
             0.5555555555555556,
             "#d8576b"
            ],
            [
             0.6666666666666666,
             "#ed7953"
            ],
            [
             0.7777777777777778,
             "#fb9f3a"
            ],
            [
             0.8888888888888888,
             "#fdca26"
            ],
            [
             1,
             "#f0f921"
            ]
           ],
           "sequentialminus": [
            [
             0,
             "#0d0887"
            ],
            [
             0.1111111111111111,
             "#46039f"
            ],
            [
             0.2222222222222222,
             "#7201a8"
            ],
            [
             0.3333333333333333,
             "#9c179e"
            ],
            [
             0.4444444444444444,
             "#bd3786"
            ],
            [
             0.5555555555555556,
             "#d8576b"
            ],
            [
             0.6666666666666666,
             "#ed7953"
            ],
            [
             0.7777777777777778,
             "#fb9f3a"
            ],
            [
             0.8888888888888888,
             "#fdca26"
            ],
            [
             1,
             "#f0f921"
            ]
           ]
          },
          "colorway": [
           "#636efa",
           "#EF553B",
           "#00cc96",
           "#ab63fa",
           "#FFA15A",
           "#19d3f3",
           "#FF6692",
           "#B6E880",
           "#FF97FF",
           "#FECB52"
          ],
          "font": {
           "color": "#2a3f5f"
          },
          "geo": {
           "bgcolor": "white",
           "lakecolor": "white",
           "landcolor": "#E5ECF6",
           "showlakes": true,
           "showland": true,
           "subunitcolor": "white"
          },
          "hoverlabel": {
           "align": "left"
          },
          "hovermode": "closest",
          "mapbox": {
           "style": "light"
          },
          "paper_bgcolor": "white",
          "plot_bgcolor": "#E5ECF6",
          "polar": {
           "angularaxis": {
            "gridcolor": "white",
            "linecolor": "white",
            "ticks": ""
           },
           "bgcolor": "#E5ECF6",
           "radialaxis": {
            "gridcolor": "white",
            "linecolor": "white",
            "ticks": ""
           }
          },
          "scene": {
           "xaxis": {
            "backgroundcolor": "#E5ECF6",
            "gridcolor": "white",
            "gridwidth": 2,
            "linecolor": "white",
            "showbackground": true,
            "ticks": "",
            "zerolinecolor": "white"
           },
           "yaxis": {
            "backgroundcolor": "#E5ECF6",
            "gridcolor": "white",
            "gridwidth": 2,
            "linecolor": "white",
            "showbackground": true,
            "ticks": "",
            "zerolinecolor": "white"
           },
           "zaxis": {
            "backgroundcolor": "#E5ECF6",
            "gridcolor": "white",
            "gridwidth": 2,
            "linecolor": "white",
            "showbackground": true,
            "ticks": "",
            "zerolinecolor": "white"
           }
          },
          "shapedefaults": {
           "line": {
            "color": "#2a3f5f"
           }
          },
          "ternary": {
           "aaxis": {
            "gridcolor": "white",
            "linecolor": "white",
            "ticks": ""
           },
           "baxis": {
            "gridcolor": "white",
            "linecolor": "white",
            "ticks": ""
           },
           "bgcolor": "#E5ECF6",
           "caxis": {
            "gridcolor": "white",
            "linecolor": "white",
            "ticks": ""
           }
          },
          "title": {
           "x": 0.05
          },
          "xaxis": {
           "automargin": true,
           "gridcolor": "white",
           "linecolor": "white",
           "ticks": "",
           "title": {
            "standoff": 15
           },
           "zerolinecolor": "white",
           "zerolinewidth": 2
          },
          "yaxis": {
           "automargin": true,
           "gridcolor": "white",
           "linecolor": "white",
           "ticks": "",
           "title": {
            "standoff": 15
           },
           "zerolinecolor": "white",
           "zerolinewidth": 2
          }
         }
        },
        "title": {
         "text": "Sentiment Distribution for Fox News"
        }
       }
      }
     },
     "metadata": {},
     "output_type": "display_data"
    },
    {
     "data": {
      "application/vnd.plotly.v1+json": {
       "config": {
        "plotlyServerURL": "https://plot.ly"
       },
       "data": [
        {
         "domain": {
          "x": [
           0,
           1
          ],
          "y": [
           0,
           1
          ]
         },
         "hovertemplate": "Sentiment_Bias=%{label}<br>Count=%{value}<extra></extra>",
         "labels": [
          "Highly Negative",
          "Highly Positive",
          "Negative",
          "Neutral",
          "Positive",
          "Slightly Negative"
         ],
         "legendgroup": "",
         "name": "",
         "showlegend": true,
         "type": "pie",
         "values": [
          191,
          3,
          116,
          195,
          4,
          10
         ]
        }
       ],
       "layout": {
        "legend": {
         "tracegroupgap": 0
        },
        "template": {
         "data": {
          "bar": [
           {
            "error_x": {
             "color": "#2a3f5f"
            },
            "error_y": {
             "color": "#2a3f5f"
            },
            "marker": {
             "line": {
              "color": "#E5ECF6",
              "width": 0.5
             },
             "pattern": {
              "fillmode": "overlay",
              "size": 10,
              "solidity": 0.2
             }
            },
            "type": "bar"
           }
          ],
          "barpolar": [
           {
            "marker": {
             "line": {
              "color": "#E5ECF6",
              "width": 0.5
             },
             "pattern": {
              "fillmode": "overlay",
              "size": 10,
              "solidity": 0.2
             }
            },
            "type": "barpolar"
           }
          ],
          "carpet": [
           {
            "aaxis": {
             "endlinecolor": "#2a3f5f",
             "gridcolor": "white",
             "linecolor": "white",
             "minorgridcolor": "white",
             "startlinecolor": "#2a3f5f"
            },
            "baxis": {
             "endlinecolor": "#2a3f5f",
             "gridcolor": "white",
             "linecolor": "white",
             "minorgridcolor": "white",
             "startlinecolor": "#2a3f5f"
            },
            "type": "carpet"
           }
          ],
          "choropleth": [
           {
            "colorbar": {
             "outlinewidth": 0,
             "ticks": ""
            },
            "type": "choropleth"
           }
          ],
          "contour": [
           {
            "colorbar": {
             "outlinewidth": 0,
             "ticks": ""
            },
            "colorscale": [
             [
              0,
              "#0d0887"
             ],
             [
              0.1111111111111111,
              "#46039f"
             ],
             [
              0.2222222222222222,
              "#7201a8"
             ],
             [
              0.3333333333333333,
              "#9c179e"
             ],
             [
              0.4444444444444444,
              "#bd3786"
             ],
             [
              0.5555555555555556,
              "#d8576b"
             ],
             [
              0.6666666666666666,
              "#ed7953"
             ],
             [
              0.7777777777777778,
              "#fb9f3a"
             ],
             [
              0.8888888888888888,
              "#fdca26"
             ],
             [
              1,
              "#f0f921"
             ]
            ],
            "type": "contour"
           }
          ],
          "contourcarpet": [
           {
            "colorbar": {
             "outlinewidth": 0,
             "ticks": ""
            },
            "type": "contourcarpet"
           }
          ],
          "heatmap": [
           {
            "colorbar": {
             "outlinewidth": 0,
             "ticks": ""
            },
            "colorscale": [
             [
              0,
              "#0d0887"
             ],
             [
              0.1111111111111111,
              "#46039f"
             ],
             [
              0.2222222222222222,
              "#7201a8"
             ],
             [
              0.3333333333333333,
              "#9c179e"
             ],
             [
              0.4444444444444444,
              "#bd3786"
             ],
             [
              0.5555555555555556,
              "#d8576b"
             ],
             [
              0.6666666666666666,
              "#ed7953"
             ],
             [
              0.7777777777777778,
              "#fb9f3a"
             ],
             [
              0.8888888888888888,
              "#fdca26"
             ],
             [
              1,
              "#f0f921"
             ]
            ],
            "type": "heatmap"
           }
          ],
          "heatmapgl": [
           {
            "colorbar": {
             "outlinewidth": 0,
             "ticks": ""
            },
            "colorscale": [
             [
              0,
              "#0d0887"
             ],
             [
              0.1111111111111111,
              "#46039f"
             ],
             [
              0.2222222222222222,
              "#7201a8"
             ],
             [
              0.3333333333333333,
              "#9c179e"
             ],
             [
              0.4444444444444444,
              "#bd3786"
             ],
             [
              0.5555555555555556,
              "#d8576b"
             ],
             [
              0.6666666666666666,
              "#ed7953"
             ],
             [
              0.7777777777777778,
              "#fb9f3a"
             ],
             [
              0.8888888888888888,
              "#fdca26"
             ],
             [
              1,
              "#f0f921"
             ]
            ],
            "type": "heatmapgl"
           }
          ],
          "histogram": [
           {
            "marker": {
             "pattern": {
              "fillmode": "overlay",
              "size": 10,
              "solidity": 0.2
             }
            },
            "type": "histogram"
           }
          ],
          "histogram2d": [
           {
            "colorbar": {
             "outlinewidth": 0,
             "ticks": ""
            },
            "colorscale": [
             [
              0,
              "#0d0887"
             ],
             [
              0.1111111111111111,
              "#46039f"
             ],
             [
              0.2222222222222222,
              "#7201a8"
             ],
             [
              0.3333333333333333,
              "#9c179e"
             ],
             [
              0.4444444444444444,
              "#bd3786"
             ],
             [
              0.5555555555555556,
              "#d8576b"
             ],
             [
              0.6666666666666666,
              "#ed7953"
             ],
             [
              0.7777777777777778,
              "#fb9f3a"
             ],
             [
              0.8888888888888888,
              "#fdca26"
             ],
             [
              1,
              "#f0f921"
             ]
            ],
            "type": "histogram2d"
           }
          ],
          "histogram2dcontour": [
           {
            "colorbar": {
             "outlinewidth": 0,
             "ticks": ""
            },
            "colorscale": [
             [
              0,
              "#0d0887"
             ],
             [
              0.1111111111111111,
              "#46039f"
             ],
             [
              0.2222222222222222,
              "#7201a8"
             ],
             [
              0.3333333333333333,
              "#9c179e"
             ],
             [
              0.4444444444444444,
              "#bd3786"
             ],
             [
              0.5555555555555556,
              "#d8576b"
             ],
             [
              0.6666666666666666,
              "#ed7953"
             ],
             [
              0.7777777777777778,
              "#fb9f3a"
             ],
             [
              0.8888888888888888,
              "#fdca26"
             ],
             [
              1,
              "#f0f921"
             ]
            ],
            "type": "histogram2dcontour"
           }
          ],
          "mesh3d": [
           {
            "colorbar": {
             "outlinewidth": 0,
             "ticks": ""
            },
            "type": "mesh3d"
           }
          ],
          "parcoords": [
           {
            "line": {
             "colorbar": {
              "outlinewidth": 0,
              "ticks": ""
             }
            },
            "type": "parcoords"
           }
          ],
          "pie": [
           {
            "automargin": true,
            "type": "pie"
           }
          ],
          "scatter": [
           {
            "fillpattern": {
             "fillmode": "overlay",
             "size": 10,
             "solidity": 0.2
            },
            "type": "scatter"
           }
          ],
          "scatter3d": [
           {
            "line": {
             "colorbar": {
              "outlinewidth": 0,
              "ticks": ""
             }
            },
            "marker": {
             "colorbar": {
              "outlinewidth": 0,
              "ticks": ""
             }
            },
            "type": "scatter3d"
           }
          ],
          "scattercarpet": [
           {
            "marker": {
             "colorbar": {
              "outlinewidth": 0,
              "ticks": ""
             }
            },
            "type": "scattercarpet"
           }
          ],
          "scattergeo": [
           {
            "marker": {
             "colorbar": {
              "outlinewidth": 0,
              "ticks": ""
             }
            },
            "type": "scattergeo"
           }
          ],
          "scattergl": [
           {
            "marker": {
             "colorbar": {
              "outlinewidth": 0,
              "ticks": ""
             }
            },
            "type": "scattergl"
           }
          ],
          "scattermapbox": [
           {
            "marker": {
             "colorbar": {
              "outlinewidth": 0,
              "ticks": ""
             }
            },
            "type": "scattermapbox"
           }
          ],
          "scatterpolar": [
           {
            "marker": {
             "colorbar": {
              "outlinewidth": 0,
              "ticks": ""
             }
            },
            "type": "scatterpolar"
           }
          ],
          "scatterpolargl": [
           {
            "marker": {
             "colorbar": {
              "outlinewidth": 0,
              "ticks": ""
             }
            },
            "type": "scatterpolargl"
           }
          ],
          "scatterternary": [
           {
            "marker": {
             "colorbar": {
              "outlinewidth": 0,
              "ticks": ""
             }
            },
            "type": "scatterternary"
           }
          ],
          "surface": [
           {
            "colorbar": {
             "outlinewidth": 0,
             "ticks": ""
            },
            "colorscale": [
             [
              0,
              "#0d0887"
             ],
             [
              0.1111111111111111,
              "#46039f"
             ],
             [
              0.2222222222222222,
              "#7201a8"
             ],
             [
              0.3333333333333333,
              "#9c179e"
             ],
             [
              0.4444444444444444,
              "#bd3786"
             ],
             [
              0.5555555555555556,
              "#d8576b"
             ],
             [
              0.6666666666666666,
              "#ed7953"
             ],
             [
              0.7777777777777778,
              "#fb9f3a"
             ],
             [
              0.8888888888888888,
              "#fdca26"
             ],
             [
              1,
              "#f0f921"
             ]
            ],
            "type": "surface"
           }
          ],
          "table": [
           {
            "cells": {
             "fill": {
              "color": "#EBF0F8"
             },
             "line": {
              "color": "white"
             }
            },
            "header": {
             "fill": {
              "color": "#C8D4E3"
             },
             "line": {
              "color": "white"
             }
            },
            "type": "table"
           }
          ]
         },
         "layout": {
          "annotationdefaults": {
           "arrowcolor": "#2a3f5f",
           "arrowhead": 0,
           "arrowwidth": 1
          },
          "autotypenumbers": "strict",
          "coloraxis": {
           "colorbar": {
            "outlinewidth": 0,
            "ticks": ""
           }
          },
          "colorscale": {
           "diverging": [
            [
             0,
             "#8e0152"
            ],
            [
             0.1,
             "#c51b7d"
            ],
            [
             0.2,
             "#de77ae"
            ],
            [
             0.3,
             "#f1b6da"
            ],
            [
             0.4,
             "#fde0ef"
            ],
            [
             0.5,
             "#f7f7f7"
            ],
            [
             0.6,
             "#e6f5d0"
            ],
            [
             0.7,
             "#b8e186"
            ],
            [
             0.8,
             "#7fbc41"
            ],
            [
             0.9,
             "#4d9221"
            ],
            [
             1,
             "#276419"
            ]
           ],
           "sequential": [
            [
             0,
             "#0d0887"
            ],
            [
             0.1111111111111111,
             "#46039f"
            ],
            [
             0.2222222222222222,
             "#7201a8"
            ],
            [
             0.3333333333333333,
             "#9c179e"
            ],
            [
             0.4444444444444444,
             "#bd3786"
            ],
            [
             0.5555555555555556,
             "#d8576b"
            ],
            [
             0.6666666666666666,
             "#ed7953"
            ],
            [
             0.7777777777777778,
             "#fb9f3a"
            ],
            [
             0.8888888888888888,
             "#fdca26"
            ],
            [
             1,
             "#f0f921"
            ]
           ],
           "sequentialminus": [
            [
             0,
             "#0d0887"
            ],
            [
             0.1111111111111111,
             "#46039f"
            ],
            [
             0.2222222222222222,
             "#7201a8"
            ],
            [
             0.3333333333333333,
             "#9c179e"
            ],
            [
             0.4444444444444444,
             "#bd3786"
            ],
            [
             0.5555555555555556,
             "#d8576b"
            ],
            [
             0.6666666666666666,
             "#ed7953"
            ],
            [
             0.7777777777777778,
             "#fb9f3a"
            ],
            [
             0.8888888888888888,
             "#fdca26"
            ],
            [
             1,
             "#f0f921"
            ]
           ]
          },
          "colorway": [
           "#636efa",
           "#EF553B",
           "#00cc96",
           "#ab63fa",
           "#FFA15A",
           "#19d3f3",
           "#FF6692",
           "#B6E880",
           "#FF97FF",
           "#FECB52"
          ],
          "font": {
           "color": "#2a3f5f"
          },
          "geo": {
           "bgcolor": "white",
           "lakecolor": "white",
           "landcolor": "#E5ECF6",
           "showlakes": true,
           "showland": true,
           "subunitcolor": "white"
          },
          "hoverlabel": {
           "align": "left"
          },
          "hovermode": "closest",
          "mapbox": {
           "style": "light"
          },
          "paper_bgcolor": "white",
          "plot_bgcolor": "#E5ECF6",
          "polar": {
           "angularaxis": {
            "gridcolor": "white",
            "linecolor": "white",
            "ticks": ""
           },
           "bgcolor": "#E5ECF6",
           "radialaxis": {
            "gridcolor": "white",
            "linecolor": "white",
            "ticks": ""
           }
          },
          "scene": {
           "xaxis": {
            "backgroundcolor": "#E5ECF6",
            "gridcolor": "white",
            "gridwidth": 2,
            "linecolor": "white",
            "showbackground": true,
            "ticks": "",
            "zerolinecolor": "white"
           },
           "yaxis": {
            "backgroundcolor": "#E5ECF6",
            "gridcolor": "white",
            "gridwidth": 2,
            "linecolor": "white",
            "showbackground": true,
            "ticks": "",
            "zerolinecolor": "white"
           },
           "zaxis": {
            "backgroundcolor": "#E5ECF6",
            "gridcolor": "white",
            "gridwidth": 2,
            "linecolor": "white",
            "showbackground": true,
            "ticks": "",
            "zerolinecolor": "white"
           }
          },
          "shapedefaults": {
           "line": {
            "color": "#2a3f5f"
           }
          },
          "ternary": {
           "aaxis": {
            "gridcolor": "white",
            "linecolor": "white",
            "ticks": ""
           },
           "baxis": {
            "gridcolor": "white",
            "linecolor": "white",
            "ticks": ""
           },
           "bgcolor": "#E5ECF6",
           "caxis": {
            "gridcolor": "white",
            "linecolor": "white",
            "ticks": ""
           }
          },
          "title": {
           "x": 0.05
          },
          "xaxis": {
           "automargin": true,
           "gridcolor": "white",
           "linecolor": "white",
           "ticks": "",
           "title": {
            "standoff": 15
           },
           "zerolinecolor": "white",
           "zerolinewidth": 2
          },
          "yaxis": {
           "automargin": true,
           "gridcolor": "white",
           "linecolor": "white",
           "ticks": "",
           "title": {
            "standoff": 15
           },
           "zerolinecolor": "white",
           "zerolinewidth": 2
          }
         }
        },
        "title": {
         "text": "Sentiment Distribution for TRT World"
        }
       }
      }
     },
     "metadata": {},
     "output_type": "display_data"
    }
   ],
   "source": [
    "sources = sentiment_source_counts['Source'].unique()\n",
    "\n",
    "for source in sources:\n",
    "    source_data = sentiment_source_counts[sentiment_source_counts['Source'] == source]\n",
    "    fig = px.pie(source_data, names='Sentiment_Bias', values='Count', title=f'Sentiment Distribution for {source}')\n",
    "    fig.show()"
   ]
  },
  {
   "cell_type": "code",
   "execution_count": null,
   "metadata": {},
   "outputs": [],
   "source": []
  }
 ],
 "metadata": {
  "kernelspec": {
   "display_name": "Python 3",
   "language": "python",
   "name": "python3"
  },
  "language_info": {
   "codemirror_mode": {
    "name": "ipython",
    "version": 3
   },
   "file_extension": ".py",
   "mimetype": "text/x-python",
   "name": "python",
   "nbconvert_exporter": "python",
   "pygments_lexer": "ipython3",
   "version": "3.12.5"
  }
 },
 "nbformat": 4,
 "nbformat_minor": 2
}
